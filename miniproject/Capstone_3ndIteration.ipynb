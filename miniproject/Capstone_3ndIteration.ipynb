{
 "cells": [
  {
   "cell_type": "code",
   "execution_count": 1,
   "metadata": {},
   "outputs": [],
   "source": [
    "#Importing required libraries\n",
    "\n",
    "import imblearn\n",
    "import pandas as pd\n",
    "import matplotlib.pyplot as plt\n",
    "plt.style.use('ggplot')\n",
    "from imblearn.over_sampling import SMOTE\n",
    "from imblearn.under_sampling import RandomUnderSampler\n",
    "from imblearn.pipeline import Pipeline\n",
    "from sklearn.preprocessing import LabelEncoder\n",
    "from sklearn.model_selection import train_test_split\n",
    "from sklearn.linear_model import LogisticRegression\n",
    "from sklearn.metrics import accuracy_score\n",
    "from sklearn.metrics import classification_report\n",
    "from sklearn.metrics import confusion_matrix\n",
    "from sklearn.neighbors import KNeighborsClassifier\n"
   ]
  },
  {
   "cell_type": "code",
   "execution_count": 2,
   "metadata": {},
   "outputs": [
    {
     "data": {
      "text/html": [
       "<div>\n",
       "<style scoped>\n",
       "    .dataframe tbody tr th:only-of-type {\n",
       "        vertical-align: middle;\n",
       "    }\n",
       "\n",
       "    .dataframe tbody tr th {\n",
       "        vertical-align: top;\n",
       "    }\n",
       "\n",
       "    .dataframe thead th {\n",
       "        text-align: right;\n",
       "    }\n",
       "</style>\n",
       "<table border=\"1\" class=\"dataframe\">\n",
       "  <thead>\n",
       "    <tr style=\"text-align: right;\">\n",
       "      <th></th>\n",
       "      <th>customer_ID</th>\n",
       "      <th>shopping_pt</th>\n",
       "      <th>record_type</th>\n",
       "      <th>day</th>\n",
       "      <th>time</th>\n",
       "      <th>state</th>\n",
       "      <th>location</th>\n",
       "      <th>group_size</th>\n",
       "      <th>homeowner</th>\n",
       "      <th>car_age</th>\n",
       "      <th>...</th>\n",
       "      <th>C_previous</th>\n",
       "      <th>duration_previous</th>\n",
       "      <th>A</th>\n",
       "      <th>B</th>\n",
       "      <th>C</th>\n",
       "      <th>D</th>\n",
       "      <th>E</th>\n",
       "      <th>F</th>\n",
       "      <th>G</th>\n",
       "      <th>cost</th>\n",
       "    </tr>\n",
       "  </thead>\n",
       "  <tbody>\n",
       "    <tr>\n",
       "      <th>0</th>\n",
       "      <td>10000000</td>\n",
       "      <td>1</td>\n",
       "      <td>0</td>\n",
       "      <td>0</td>\n",
       "      <td>08:35</td>\n",
       "      <td>IN</td>\n",
       "      <td>10001</td>\n",
       "      <td>2</td>\n",
       "      <td>0</td>\n",
       "      <td>2</td>\n",
       "      <td>...</td>\n",
       "      <td>1.0</td>\n",
       "      <td>2.0</td>\n",
       "      <td>1</td>\n",
       "      <td>0</td>\n",
       "      <td>2</td>\n",
       "      <td>2</td>\n",
       "      <td>1</td>\n",
       "      <td>2</td>\n",
       "      <td>2</td>\n",
       "      <td>633</td>\n",
       "    </tr>\n",
       "    <tr>\n",
       "      <th>1</th>\n",
       "      <td>10000000</td>\n",
       "      <td>2</td>\n",
       "      <td>0</td>\n",
       "      <td>0</td>\n",
       "      <td>08:38</td>\n",
       "      <td>IN</td>\n",
       "      <td>10001</td>\n",
       "      <td>2</td>\n",
       "      <td>0</td>\n",
       "      <td>2</td>\n",
       "      <td>...</td>\n",
       "      <td>1.0</td>\n",
       "      <td>2.0</td>\n",
       "      <td>1</td>\n",
       "      <td>0</td>\n",
       "      <td>2</td>\n",
       "      <td>2</td>\n",
       "      <td>1</td>\n",
       "      <td>2</td>\n",
       "      <td>1</td>\n",
       "      <td>630</td>\n",
       "    </tr>\n",
       "    <tr>\n",
       "      <th>2</th>\n",
       "      <td>10000000</td>\n",
       "      <td>3</td>\n",
       "      <td>0</td>\n",
       "      <td>0</td>\n",
       "      <td>08:38</td>\n",
       "      <td>IN</td>\n",
       "      <td>10001</td>\n",
       "      <td>2</td>\n",
       "      <td>0</td>\n",
       "      <td>2</td>\n",
       "      <td>...</td>\n",
       "      <td>1.0</td>\n",
       "      <td>2.0</td>\n",
       "      <td>1</td>\n",
       "      <td>0</td>\n",
       "      <td>2</td>\n",
       "      <td>2</td>\n",
       "      <td>1</td>\n",
       "      <td>2</td>\n",
       "      <td>1</td>\n",
       "      <td>630</td>\n",
       "    </tr>\n",
       "    <tr>\n",
       "      <th>3</th>\n",
       "      <td>10000000</td>\n",
       "      <td>4</td>\n",
       "      <td>0</td>\n",
       "      <td>0</td>\n",
       "      <td>08:39</td>\n",
       "      <td>IN</td>\n",
       "      <td>10001</td>\n",
       "      <td>2</td>\n",
       "      <td>0</td>\n",
       "      <td>2</td>\n",
       "      <td>...</td>\n",
       "      <td>1.0</td>\n",
       "      <td>2.0</td>\n",
       "      <td>1</td>\n",
       "      <td>0</td>\n",
       "      <td>2</td>\n",
       "      <td>2</td>\n",
       "      <td>1</td>\n",
       "      <td>2</td>\n",
       "      <td>1</td>\n",
       "      <td>630</td>\n",
       "    </tr>\n",
       "    <tr>\n",
       "      <th>4</th>\n",
       "      <td>10000000</td>\n",
       "      <td>5</td>\n",
       "      <td>0</td>\n",
       "      <td>0</td>\n",
       "      <td>11:55</td>\n",
       "      <td>IN</td>\n",
       "      <td>10001</td>\n",
       "      <td>2</td>\n",
       "      <td>0</td>\n",
       "      <td>2</td>\n",
       "      <td>...</td>\n",
       "      <td>1.0</td>\n",
       "      <td>2.0</td>\n",
       "      <td>1</td>\n",
       "      <td>0</td>\n",
       "      <td>2</td>\n",
       "      <td>2</td>\n",
       "      <td>1</td>\n",
       "      <td>2</td>\n",
       "      <td>1</td>\n",
       "      <td>630</td>\n",
       "    </tr>\n",
       "  </tbody>\n",
       "</table>\n",
       "<p>5 rows × 25 columns</p>\n",
       "</div>"
      ],
      "text/plain": [
       "   customer_ID  shopping_pt  record_type  day   time state  location  \\\n",
       "0     10000000            1            0    0  08:35    IN     10001   \n",
       "1     10000000            2            0    0  08:38    IN     10001   \n",
       "2     10000000            3            0    0  08:38    IN     10001   \n",
       "3     10000000            4            0    0  08:39    IN     10001   \n",
       "4     10000000            5            0    0  11:55    IN     10001   \n",
       "\n",
       "   group_size  homeowner  car_age  ... C_previous  duration_previous  A  B  C  \\\n",
       "0           2          0        2  ...        1.0                2.0  1  0  2   \n",
       "1           2          0        2  ...        1.0                2.0  1  0  2   \n",
       "2           2          0        2  ...        1.0                2.0  1  0  2   \n",
       "3           2          0        2  ...        1.0                2.0  1  0  2   \n",
       "4           2          0        2  ...        1.0                2.0  1  0  2   \n",
       "\n",
       "   D  E  F  G  cost  \n",
       "0  2  1  2  2   633  \n",
       "1  2  1  2  1   630  \n",
       "2  2  1  2  1   630  \n",
       "3  2  1  2  1   630  \n",
       "4  2  1  2  1   630  \n",
       "\n",
       "[5 rows x 25 columns]"
      ]
     },
     "execution_count": 2,
     "metadata": {},
     "output_type": "execute_result"
    }
   ],
   "source": [
    "# Copy train dataset into dataframe\n",
    "\n",
    "train_data_file = '/Users/mackbookair/Desktop/Git/CapStone/CapstoneProject/TestData/allstate-purchase-prediction-challenge-datawargling/train.csv'\n",
    "train_df = pd.read_csv(train_data_file)\n",
    "train_df.head()"
   ]
  },
  {
   "cell_type": "code",
   "execution_count": 3,
   "metadata": {},
   "outputs": [
    {
     "data": {
      "text/html": [
       "<div>\n",
       "<style scoped>\n",
       "    .dataframe tbody tr th:only-of-type {\n",
       "        vertical-align: middle;\n",
       "    }\n",
       "\n",
       "    .dataframe tbody tr th {\n",
       "        vertical-align: top;\n",
       "    }\n",
       "\n",
       "    .dataframe thead th {\n",
       "        text-align: right;\n",
       "    }\n",
       "</style>\n",
       "<table border=\"1\" class=\"dataframe\">\n",
       "  <thead>\n",
       "    <tr style=\"text-align: right;\">\n",
       "      <th></th>\n",
       "      <th>customer_ID</th>\n",
       "      <th>shopping_pt</th>\n",
       "      <th>record_type</th>\n",
       "      <th>day</th>\n",
       "      <th>location</th>\n",
       "      <th>group_size</th>\n",
       "      <th>homeowner</th>\n",
       "      <th>car_age</th>\n",
       "      <th>risk_factor</th>\n",
       "      <th>age_oldest</th>\n",
       "      <th>...</th>\n",
       "      <th>C_previous</th>\n",
       "      <th>duration_previous</th>\n",
       "      <th>A</th>\n",
       "      <th>B</th>\n",
       "      <th>C</th>\n",
       "      <th>D</th>\n",
       "      <th>E</th>\n",
       "      <th>F</th>\n",
       "      <th>G</th>\n",
       "      <th>cost</th>\n",
       "    </tr>\n",
       "  </thead>\n",
       "  <tbody>\n",
       "    <tr>\n",
       "      <th>count</th>\n",
       "      <td>6.652490e+05</td>\n",
       "      <td>665249.000000</td>\n",
       "      <td>665249.000000</td>\n",
       "      <td>665249.000000</td>\n",
       "      <td>665249.000000</td>\n",
       "      <td>665249.000000</td>\n",
       "      <td>665249.000000</td>\n",
       "      <td>665249.000000</td>\n",
       "      <td>424831.000000</td>\n",
       "      <td>665249.000000</td>\n",
       "      <td>...</td>\n",
       "      <td>646538.000000</td>\n",
       "      <td>646538.000000</td>\n",
       "      <td>665249.000000</td>\n",
       "      <td>665249.000000</td>\n",
       "      <td>665249.000000</td>\n",
       "      <td>665249.000000</td>\n",
       "      <td>665249.000000</td>\n",
       "      <td>665249.000000</td>\n",
       "      <td>665249.000000</td>\n",
       "      <td>665249.000000</td>\n",
       "    </tr>\n",
       "    <tr>\n",
       "      <th>mean</th>\n",
       "      <td>1.007655e+07</td>\n",
       "      <td>4.219966</td>\n",
       "      <td>0.145824</td>\n",
       "      <td>1.969429</td>\n",
       "      <td>12271.543022</td>\n",
       "      <td>1.234784</td>\n",
       "      <td>0.536229</td>\n",
       "      <td>8.139437</td>\n",
       "      <td>2.563996</td>\n",
       "      <td>44.992403</td>\n",
       "      <td>...</td>\n",
       "      <td>2.444718</td>\n",
       "      <td>6.003774</td>\n",
       "      <td>0.927546</td>\n",
       "      <td>0.454236</td>\n",
       "      <td>2.275265</td>\n",
       "      <td>2.454299</td>\n",
       "      <td>0.445193</td>\n",
       "      <td>1.162768</td>\n",
       "      <td>2.275120</td>\n",
       "      <td>635.785008</td>\n",
       "    </tr>\n",
       "    <tr>\n",
       "      <th>std</th>\n",
       "      <td>4.404978e+04</td>\n",
       "      <td>2.394369</td>\n",
       "      <td>0.352930</td>\n",
       "      <td>1.453470</td>\n",
       "      <td>1564.789415</td>\n",
       "      <td>0.461036</td>\n",
       "      <td>0.498686</td>\n",
       "      <td>5.764598</td>\n",
       "      <td>1.111584</td>\n",
       "      <td>17.403440</td>\n",
       "      <td>...</td>\n",
       "      <td>1.034596</td>\n",
       "      <td>4.680793</td>\n",
       "      <td>0.595221</td>\n",
       "      <td>0.497902</td>\n",
       "      <td>0.990798</td>\n",
       "      <td>0.753953</td>\n",
       "      <td>0.496987</td>\n",
       "      <td>0.943594</td>\n",
       "      <td>0.909567</td>\n",
       "      <td>45.993758</td>\n",
       "    </tr>\n",
       "    <tr>\n",
       "      <th>min</th>\n",
       "      <td>1.000000e+07</td>\n",
       "      <td>1.000000</td>\n",
       "      <td>0.000000</td>\n",
       "      <td>0.000000</td>\n",
       "      <td>10001.000000</td>\n",
       "      <td>1.000000</td>\n",
       "      <td>0.000000</td>\n",
       "      <td>0.000000</td>\n",
       "      <td>1.000000</td>\n",
       "      <td>18.000000</td>\n",
       "      <td>...</td>\n",
       "      <td>1.000000</td>\n",
       "      <td>0.000000</td>\n",
       "      <td>0.000000</td>\n",
       "      <td>0.000000</td>\n",
       "      <td>1.000000</td>\n",
       "      <td>1.000000</td>\n",
       "      <td>0.000000</td>\n",
       "      <td>0.000000</td>\n",
       "      <td>1.000000</td>\n",
       "      <td>260.000000</td>\n",
       "    </tr>\n",
       "    <tr>\n",
       "      <th>25%</th>\n",
       "      <td>1.003852e+07</td>\n",
       "      <td>2.000000</td>\n",
       "      <td>0.000000</td>\n",
       "      <td>1.000000</td>\n",
       "      <td>10936.000000</td>\n",
       "      <td>1.000000</td>\n",
       "      <td>0.000000</td>\n",
       "      <td>3.000000</td>\n",
       "      <td>2.000000</td>\n",
       "      <td>28.000000</td>\n",
       "      <td>...</td>\n",
       "      <td>1.000000</td>\n",
       "      <td>2.000000</td>\n",
       "      <td>1.000000</td>\n",
       "      <td>0.000000</td>\n",
       "      <td>1.000000</td>\n",
       "      <td>2.000000</td>\n",
       "      <td>0.000000</td>\n",
       "      <td>0.000000</td>\n",
       "      <td>2.000000</td>\n",
       "      <td>605.000000</td>\n",
       "    </tr>\n",
       "    <tr>\n",
       "      <th>50%</th>\n",
       "      <td>1.007640e+07</td>\n",
       "      <td>4.000000</td>\n",
       "      <td>0.000000</td>\n",
       "      <td>2.000000</td>\n",
       "      <td>12027.000000</td>\n",
       "      <td>1.000000</td>\n",
       "      <td>1.000000</td>\n",
       "      <td>7.000000</td>\n",
       "      <td>3.000000</td>\n",
       "      <td>44.000000</td>\n",
       "      <td>...</td>\n",
       "      <td>3.000000</td>\n",
       "      <td>5.000000</td>\n",
       "      <td>1.000000</td>\n",
       "      <td>0.000000</td>\n",
       "      <td>2.000000</td>\n",
       "      <td>3.000000</td>\n",
       "      <td>0.000000</td>\n",
       "      <td>1.000000</td>\n",
       "      <td>2.000000</td>\n",
       "      <td>635.000000</td>\n",
       "    </tr>\n",
       "    <tr>\n",
       "      <th>75%</th>\n",
       "      <td>1.011470e+07</td>\n",
       "      <td>6.000000</td>\n",
       "      <td>0.000000</td>\n",
       "      <td>3.000000</td>\n",
       "      <td>13426.000000</td>\n",
       "      <td>1.000000</td>\n",
       "      <td>1.000000</td>\n",
       "      <td>12.000000</td>\n",
       "      <td>4.000000</td>\n",
       "      <td>60.000000</td>\n",
       "      <td>...</td>\n",
       "      <td>3.000000</td>\n",
       "      <td>9.000000</td>\n",
       "      <td>1.000000</td>\n",
       "      <td>1.000000</td>\n",
       "      <td>3.000000</td>\n",
       "      <td>3.000000</td>\n",
       "      <td>1.000000</td>\n",
       "      <td>2.000000</td>\n",
       "      <td>3.000000</td>\n",
       "      <td>665.000000</td>\n",
       "    </tr>\n",
       "    <tr>\n",
       "      <th>max</th>\n",
       "      <td>1.015272e+07</td>\n",
       "      <td>13.000000</td>\n",
       "      <td>1.000000</td>\n",
       "      <td>6.000000</td>\n",
       "      <td>16580.000000</td>\n",
       "      <td>4.000000</td>\n",
       "      <td>1.000000</td>\n",
       "      <td>85.000000</td>\n",
       "      <td>4.000000</td>\n",
       "      <td>75.000000</td>\n",
       "      <td>...</td>\n",
       "      <td>4.000000</td>\n",
       "      <td>15.000000</td>\n",
       "      <td>2.000000</td>\n",
       "      <td>1.000000</td>\n",
       "      <td>4.000000</td>\n",
       "      <td>3.000000</td>\n",
       "      <td>1.000000</td>\n",
       "      <td>3.000000</td>\n",
       "      <td>4.000000</td>\n",
       "      <td>922.000000</td>\n",
       "    </tr>\n",
       "  </tbody>\n",
       "</table>\n",
       "<p>8 rows × 22 columns</p>\n",
       "</div>"
      ],
      "text/plain": [
       "        customer_ID    shopping_pt    record_type            day  \\\n",
       "count  6.652490e+05  665249.000000  665249.000000  665249.000000   \n",
       "mean   1.007655e+07       4.219966       0.145824       1.969429   \n",
       "std    4.404978e+04       2.394369       0.352930       1.453470   \n",
       "min    1.000000e+07       1.000000       0.000000       0.000000   \n",
       "25%    1.003852e+07       2.000000       0.000000       1.000000   \n",
       "50%    1.007640e+07       4.000000       0.000000       2.000000   \n",
       "75%    1.011470e+07       6.000000       0.000000       3.000000   \n",
       "max    1.015272e+07      13.000000       1.000000       6.000000   \n",
       "\n",
       "            location     group_size      homeowner        car_age  \\\n",
       "count  665249.000000  665249.000000  665249.000000  665249.000000   \n",
       "mean    12271.543022       1.234784       0.536229       8.139437   \n",
       "std      1564.789415       0.461036       0.498686       5.764598   \n",
       "min     10001.000000       1.000000       0.000000       0.000000   \n",
       "25%     10936.000000       1.000000       0.000000       3.000000   \n",
       "50%     12027.000000       1.000000       1.000000       7.000000   \n",
       "75%     13426.000000       1.000000       1.000000      12.000000   \n",
       "max     16580.000000       4.000000       1.000000      85.000000   \n",
       "\n",
       "         risk_factor     age_oldest  ...     C_previous  duration_previous  \\\n",
       "count  424831.000000  665249.000000  ...  646538.000000      646538.000000   \n",
       "mean        2.563996      44.992403  ...       2.444718           6.003774   \n",
       "std         1.111584      17.403440  ...       1.034596           4.680793   \n",
       "min         1.000000      18.000000  ...       1.000000           0.000000   \n",
       "25%         2.000000      28.000000  ...       1.000000           2.000000   \n",
       "50%         3.000000      44.000000  ...       3.000000           5.000000   \n",
       "75%         4.000000      60.000000  ...       3.000000           9.000000   \n",
       "max         4.000000      75.000000  ...       4.000000          15.000000   \n",
       "\n",
       "                   A              B              C              D  \\\n",
       "count  665249.000000  665249.000000  665249.000000  665249.000000   \n",
       "mean        0.927546       0.454236       2.275265       2.454299   \n",
       "std         0.595221       0.497902       0.990798       0.753953   \n",
       "min         0.000000       0.000000       1.000000       1.000000   \n",
       "25%         1.000000       0.000000       1.000000       2.000000   \n",
       "50%         1.000000       0.000000       2.000000       3.000000   \n",
       "75%         1.000000       1.000000       3.000000       3.000000   \n",
       "max         2.000000       1.000000       4.000000       3.000000   \n",
       "\n",
       "                   E              F              G           cost  \n",
       "count  665249.000000  665249.000000  665249.000000  665249.000000  \n",
       "mean        0.445193       1.162768       2.275120     635.785008  \n",
       "std         0.496987       0.943594       0.909567      45.993758  \n",
       "min         0.000000       0.000000       1.000000     260.000000  \n",
       "25%         0.000000       0.000000       2.000000     605.000000  \n",
       "50%         0.000000       1.000000       2.000000     635.000000  \n",
       "75%         1.000000       2.000000       3.000000     665.000000  \n",
       "max         1.000000       3.000000       4.000000     922.000000  \n",
       "\n",
       "[8 rows x 22 columns]"
      ]
     },
     "execution_count": 3,
     "metadata": {},
     "output_type": "execute_result"
    }
   ],
   "source": [
    "train_df.describe()"
   ]
  },
  {
   "cell_type": "code",
   "execution_count": 4,
   "metadata": {},
   "outputs": [
    {
     "data": {
      "text/plain": [
       "Index(['customer_ID', 'shopping_pt', 'record_type', 'day', 'time', 'state',\n",
       "       'location', 'group_size', 'homeowner', 'car_age', 'car_value',\n",
       "       'risk_factor', 'age_oldest', 'age_youngest', 'married_couple',\n",
       "       'C_previous', 'duration_previous', 'A', 'B', 'C', 'D', 'E', 'F', 'G',\n",
       "       'cost'],\n",
       "      dtype='object')"
      ]
     },
     "execution_count": 4,
     "metadata": {},
     "output_type": "execute_result"
    }
   ],
   "source": [
    "train_df.columns"
   ]
  },
  {
   "cell_type": "code",
   "execution_count": 5,
   "metadata": {},
   "outputs": [
    {
     "name": "stdout",
     "output_type": "stream",
     "text": [
      "<class 'pandas.core.frame.DataFrame'>\n",
      "RangeIndex: 665249 entries, 0 to 665248\n",
      "Data columns (total 25 columns):\n",
      " #   Column             Non-Null Count   Dtype  \n",
      "---  ------             --------------   -----  \n",
      " 0   customer_ID        665249 non-null  int64  \n",
      " 1   shopping_pt        665249 non-null  int64  \n",
      " 2   record_type        665249 non-null  int64  \n",
      " 3   day                665249 non-null  int64  \n",
      " 4   time               665249 non-null  object \n",
      " 5   state              665249 non-null  object \n",
      " 6   location           665249 non-null  int64  \n",
      " 7   group_size         665249 non-null  int64  \n",
      " 8   homeowner          665249 non-null  int64  \n",
      " 9   car_age            665249 non-null  int64  \n",
      " 10  car_value          663718 non-null  object \n",
      " 11  risk_factor        424831 non-null  float64\n",
      " 12  age_oldest         665249 non-null  int64  \n",
      " 13  age_youngest       665249 non-null  int64  \n",
      " 14  married_couple     665249 non-null  int64  \n",
      " 15  C_previous         646538 non-null  float64\n",
      " 16  duration_previous  646538 non-null  float64\n",
      " 17  A                  665249 non-null  int64  \n",
      " 18  B                  665249 non-null  int64  \n",
      " 19  C                  665249 non-null  int64  \n",
      " 20  D                  665249 non-null  int64  \n",
      " 21  E                  665249 non-null  int64  \n",
      " 22  F                  665249 non-null  int64  \n",
      " 23  G                  665249 non-null  int64  \n",
      " 24  cost               665249 non-null  int64  \n",
      "dtypes: float64(3), int64(19), object(3)\n",
      "memory usage: 126.9+ MB\n"
     ]
    }
   ],
   "source": [
    "train_df.info()"
   ]
  },
  {
   "cell_type": "markdown",
   "metadata": {},
   "source": [
    "Observations:\n",
    "\n",
    "1. Total 665,249 records\n",
    "\n",
    "2. 25 columns\n",
    "\n",
    "3. Different data types -   \n",
    "    a. time is identified as object      \n",
    "    b. state and car_value are other columns which are also identified as objects   \n",
    "    c. risk_factor, C_previous and duration_previous are identified as float  \n",
    "    d. all other columns are identified as int  \n",
    "    \n",
    "4. Following columns have Null values -\n",
    "    car_value, \n",
    "    risk_factor, \n",
    "    C_previous, \n",
    "    duration_previous\n",
    "    \n",
    "5. column name 'customer_ID' is inconsistent\n",
    "\n",
    "6. Missing values:     \n",
    "    a. 240,418 records does not have value for risk_factor, which approximates to 36% of total records  \n",
    "    b. 1,531 records does not have value for car_value, which approximates to 0.23% of total records  \n",
    "    c. 18,711 records does not have value for C_previous, which approximates to 2.81% of total records   \n",
    "    d. 18,711 records does not have value for duration_previous, which approximates to 2.81% of total records"
   ]
  },
  {
   "cell_type": "markdown",
   "metadata": {},
   "source": [
    "Lot of records does not have a value for risk_factor. "
   ]
  },
  {
   "cell_type": "code",
   "execution_count": 6,
   "metadata": {},
   "outputs": [
    {
     "data": {
      "text/plain": [
       "array([ 3.,  4., nan,  2.,  1.])"
      ]
     },
     "execution_count": 6,
     "metadata": {},
     "output_type": "execute_result"
    }
   ],
   "source": [
    "# Chekcing for unique values in risk_factor\n",
    "train_df.risk_factor.unique()"
   ]
  },
  {
   "cell_type": "code",
   "execution_count": 7,
   "metadata": {},
   "outputs": [
    {
     "data": {
      "text/plain": [
       "3.0    117571\n",
       "4.0    110754\n",
       "1.0     99476\n",
       "2.0     97030\n",
       "Name: risk_factor, dtype: int64"
      ]
     },
     "execution_count": 7,
     "metadata": {},
     "output_type": "execute_result"
    }
   ],
   "source": [
    "# Checking for number of records for each distinct value\n",
    "train_df['risk_factor'].value_counts()"
   ]
  },
  {
   "cell_type": "code",
   "execution_count": 8,
   "metadata": {},
   "outputs": [
    {
     "data": {
      "text/plain": [
       "3"
      ]
     },
     "execution_count": 8,
     "metadata": {},
     "output_type": "execute_result"
    }
   ],
   "source": [
    "# Caliculating mean of the column\n",
    "risk_factor_mean = round(train_df['risk_factor'].mean())\n",
    "risk_factor_mean"
   ]
  },
  {
   "cell_type": "code",
   "execution_count": 9,
   "metadata": {},
   "outputs": [
    {
     "data": {
      "text/plain": [
       "3.0    357989\n",
       "4.0    110754\n",
       "1.0     99476\n",
       "2.0     97030\n",
       "Name: risk_factor, dtype: int64"
      ]
     },
     "execution_count": 9,
     "metadata": {},
     "output_type": "execute_result"
    }
   ],
   "source": [
    "# Replacing na values with the mean value \n",
    "train_df['risk_factor']=train_df['risk_factor'].fillna(round((train_df['risk_factor'].mean())))\n",
    "train_df['risk_factor'].value_counts()"
   ]
  },
  {
   "cell_type": "code",
   "execution_count": 10,
   "metadata": {},
   "outputs": [
    {
     "data": {
      "text/plain": [
       "array([3., 4., 2., 1.])"
      ]
     },
     "execution_count": 10,
     "metadata": {},
     "output_type": "execute_result"
    }
   ],
   "source": [
    "train_df.risk_factor.unique()"
   ]
  },
  {
   "cell_type": "code",
   "execution_count": 11,
   "metadata": {},
   "outputs": [
    {
     "name": "stdout",
     "output_type": "stream",
     "text": [
      "<class 'pandas.core.frame.DataFrame'>\n",
      "RangeIndex: 665249 entries, 0 to 665248\n",
      "Data columns (total 25 columns):\n",
      " #   Column             Non-Null Count   Dtype  \n",
      "---  ------             --------------   -----  \n",
      " 0   customer_ID        665249 non-null  int64  \n",
      " 1   shopping_pt        665249 non-null  int64  \n",
      " 2   record_type        665249 non-null  int64  \n",
      " 3   day                665249 non-null  int64  \n",
      " 4   time               665249 non-null  object \n",
      " 5   state              665249 non-null  object \n",
      " 6   location           665249 non-null  int64  \n",
      " 7   group_size         665249 non-null  int64  \n",
      " 8   homeowner          665249 non-null  int64  \n",
      " 9   car_age            665249 non-null  int64  \n",
      " 10  car_value          663718 non-null  object \n",
      " 11  risk_factor        665249 non-null  float64\n",
      " 12  age_oldest         665249 non-null  int64  \n",
      " 13  age_youngest       665249 non-null  int64  \n",
      " 14  married_couple     665249 non-null  int64  \n",
      " 15  C_previous         646538 non-null  float64\n",
      " 16  duration_previous  646538 non-null  float64\n",
      " 17  A                  665249 non-null  int64  \n",
      " 18  B                  665249 non-null  int64  \n",
      " 19  C                  665249 non-null  int64  \n",
      " 20  D                  665249 non-null  int64  \n",
      " 21  E                  665249 non-null  int64  \n",
      " 22  F                  665249 non-null  int64  \n",
      " 23  G                  665249 non-null  int64  \n",
      " 24  cost               665249 non-null  int64  \n",
      "dtypes: float64(3), int64(19), object(3)\n",
      "memory usage: 126.9+ MB\n"
     ]
    }
   ],
   "source": [
    "train_df.info()"
   ]
  },
  {
   "cell_type": "code",
   "execution_count": 12,
   "metadata": {},
   "outputs": [
    {
     "name": "stdout",
     "output_type": "stream",
     "text": [
      "<class 'pandas.core.frame.DataFrame'>\n",
      "Int64Index: 645648 entries, 0 to 665248\n",
      "Data columns (total 25 columns):\n",
      " #   Column             Non-Null Count   Dtype  \n",
      "---  ------             --------------   -----  \n",
      " 0   customer_ID        645648 non-null  int64  \n",
      " 1   shopping_pt        645648 non-null  int64  \n",
      " 2   record_type        645648 non-null  int64  \n",
      " 3   day                645648 non-null  int64  \n",
      " 4   time               645648 non-null  object \n",
      " 5   state              645648 non-null  object \n",
      " 6   location           645648 non-null  int64  \n",
      " 7   group_size         645648 non-null  int64  \n",
      " 8   homeowner          645648 non-null  int64  \n",
      " 9   car_age            645648 non-null  int64  \n",
      " 10  car_value          645648 non-null  object \n",
      " 11  risk_factor        645648 non-null  float64\n",
      " 12  age_oldest         645648 non-null  int64  \n",
      " 13  age_youngest       645648 non-null  int64  \n",
      " 14  married_couple     645648 non-null  int64  \n",
      " 15  C_previous         645648 non-null  float64\n",
      " 16  duration_previous  645648 non-null  float64\n",
      " 17  A                  645648 non-null  int64  \n",
      " 18  B                  645648 non-null  int64  \n",
      " 19  C                  645648 non-null  int64  \n",
      " 20  D                  645648 non-null  int64  \n",
      " 21  E                  645648 non-null  int64  \n",
      " 22  F                  645648 non-null  int64  \n",
      " 23  G                  645648 non-null  int64  \n",
      " 24  cost               645648 non-null  int64  \n",
      "dtypes: float64(3), int64(19), object(3)\n",
      "memory usage: 128.1+ MB\n"
     ]
    }
   ],
   "source": [
    "# Droping rest of records having nan values\n",
    "train_df = train_df.dropna()\n",
    "train_df.info()"
   ]
  },
  {
   "cell_type": "markdown",
   "metadata": {},
   "source": [
    "We have 645,648 out of 665,249 total records, we droped around 3% of records which have nan value."
   ]
  },
  {
   "cell_type": "code",
   "execution_count": 13,
   "metadata": {},
   "outputs": [
    {
     "data": {
      "text/plain": [
       "Index(['customer_id', 'shopping_pt', 'record_type', 'day', 'time', 'state',\n",
       "       'location', 'group_size', 'homeowner', 'car_age', 'car_value',\n",
       "       'risk_factor', 'age_oldest', 'age_youngest', 'married_couple',\n",
       "       'c_previous', 'duration_previous', 'a', 'b', 'c', 'd', 'e', 'f', 'g',\n",
       "       'cost'],\n",
       "      dtype='object')"
      ]
     },
     "execution_count": 13,
     "metadata": {},
     "output_type": "execute_result"
    }
   ],
   "source": [
    "#Renaming column names - converting uppercase names to lower case\n",
    "train_df.rename(columns={'customer_ID':'customer_id','C_previous':'c_previous','A':'a','B':'b','C':'c','D':'d','E':'e','F':'f','G':'g'},inplace = True)\n",
    "\n",
    "train_df.columns"
   ]
  },
  {
   "cell_type": "code",
   "execution_count": 14,
   "metadata": {},
   "outputs": [
    {
     "name": "stdout",
     "output_type": "stream",
     "text": [
      "<class 'pandas.core.frame.DataFrame'>\n",
      "Int64Index: 645648 entries, 0 to 665248\n",
      "Data columns (total 25 columns):\n",
      " #   Column             Non-Null Count   Dtype  \n",
      "---  ------             --------------   -----  \n",
      " 0   customer_id        645648 non-null  int64  \n",
      " 1   shopping_pt        645648 non-null  int64  \n",
      " 2   record_type        645648 non-null  int64  \n",
      " 3   day                645648 non-null  int64  \n",
      " 4   time               645648 non-null  object \n",
      " 5   state              645648 non-null  object \n",
      " 6   location           645648 non-null  int64  \n",
      " 7   group_size         645648 non-null  int64  \n",
      " 8   homeowner          645648 non-null  int64  \n",
      " 9   car_age            645648 non-null  int64  \n",
      " 10  car_value          645648 non-null  object \n",
      " 11  risk_factor        645648 non-null  float64\n",
      " 12  age_oldest         645648 non-null  int64  \n",
      " 13  age_youngest       645648 non-null  int64  \n",
      " 14  married_couple     645648 non-null  int64  \n",
      " 15  c_previous         645648 non-null  float64\n",
      " 16  duration_previous  645648 non-null  float64\n",
      " 17  a                  645648 non-null  int64  \n",
      " 18  b                  645648 non-null  int64  \n",
      " 19  c                  645648 non-null  int64  \n",
      " 20  d                  645648 non-null  int64  \n",
      " 21  e                  645648 non-null  int64  \n",
      " 22  f                  645648 non-null  int64  \n",
      " 23  g                  645648 non-null  int64  \n",
      " 24  cost               645648 non-null  int64  \n",
      "dtypes: float64(3), int64(19), object(3)\n",
      "memory usage: 128.1+ MB\n"
     ]
    }
   ],
   "source": [
    "train_df.info()"
   ]
  },
  {
   "cell_type": "code",
   "execution_count": 15,
   "metadata": {},
   "outputs": [
    {
     "data": {
      "text/plain": [
       "array(['08:35', '08:38', '08:39', ..., '00:13', '00:16', '00:40'],\n",
       "      dtype=object)"
      ]
     },
     "execution_count": 15,
     "metadata": {},
     "output_type": "execute_result"
    }
   ],
   "source": [
    "train_df.time.unique()"
   ]
  },
  {
   "cell_type": "code",
   "execution_count": 16,
   "metadata": {},
   "outputs": [
    {
     "data": {
      "text/plain": [
       "Index(['customer_id', 'shopping_pt', 'record_type', 'day', 'state', 'location',\n",
       "       'group_size', 'homeowner', 'car_age', 'car_value', 'risk_factor',\n",
       "       'age_oldest', 'age_youngest', 'married_couple', 'c_previous',\n",
       "       'duration_previous', 'a', 'b', 'c', 'd', 'e', 'f', 'g', 'cost'],\n",
       "      dtype='object')"
      ]
     },
     "execution_count": 16,
     "metadata": {},
     "output_type": "execute_result"
    }
   ],
   "source": [
    "# dropping time column\n",
    "train_df = train_df.drop('time',axis=1)\n",
    "train_df.columns"
   ]
  },
  {
   "cell_type": "code",
   "execution_count": 17,
   "metadata": {},
   "outputs": [
    {
     "data": {
      "text/plain": [
       "array([10000000, 10000005, 10000007, ..., 10152721, 10152723, 10152724])"
      ]
     },
     "execution_count": 17,
     "metadata": {},
     "output_type": "execute_result"
    }
   ],
   "source": [
    "train_df.customer_id.unique()"
   ]
  },
  {
   "cell_type": "code",
   "execution_count": 18,
   "metadata": {},
   "outputs": [
    {
     "data": {
      "text/plain": [
       "Index(['shopping_pt', 'record_type', 'day', 'state', 'location', 'group_size',\n",
       "       'homeowner', 'car_age', 'car_value', 'risk_factor', 'age_oldest',\n",
       "       'age_youngest', 'married_couple', 'c_previous', 'duration_previous',\n",
       "       'a', 'b', 'c', 'd', 'e', 'f', 'g', 'cost'],\n",
       "      dtype='object')"
      ]
     },
     "execution_count": 18,
     "metadata": {},
     "output_type": "execute_result"
    }
   ],
   "source": [
    "# dropping customer_id column\n",
    "train_df = train_df.drop('customer_id',axis=1)\n",
    "train_df.columns"
   ]
  },
  {
   "cell_type": "code",
   "execution_count": 19,
   "metadata": {},
   "outputs": [
    {
     "data": {
      "text/plain": [
       "array([0, 3, 4, 2, 1, 5, 6])"
      ]
     },
     "execution_count": 19,
     "metadata": {},
     "output_type": "execute_result"
    }
   ],
   "source": [
    "train_df.day.unique()"
   ]
  },
  {
   "cell_type": "code",
   "execution_count": 20,
   "metadata": {},
   "outputs": [
    {
     "data": {
      "text/plain": [
       "0    136441\n",
       "1    132807\n",
       "2    129654\n",
       "4    119937\n",
       "3    117781\n",
       "5      8088\n",
       "6       940\n",
       "Name: day, dtype: int64"
      ]
     },
     "execution_count": 20,
     "metadata": {},
     "output_type": "execute_result"
    }
   ],
   "source": [
    "train_df['day'].value_counts()"
   ]
  },
  {
   "cell_type": "code",
   "execution_count": 21,
   "metadata": {},
   "outputs": [
    {
     "data": {
      "text/plain": [
       "0    118009\n",
       "1    113738\n",
       "2    110982\n",
       "3     99980\n",
       "4     99273\n",
       "5      6672\n",
       "6       821\n",
       "Name: day, dtype: int64"
      ]
     },
     "execution_count": 21,
     "metadata": {},
     "output_type": "execute_result"
    }
   ],
   "source": [
    "train_df['day'][train_df.record_type==0].value_counts()"
   ]
  },
  {
   "cell_type": "code",
   "execution_count": 22,
   "metadata": {},
   "outputs": [
    {
     "data": {
      "text/plain": [
       "Index(['shopping_pt', 'record_type', 'state', 'location', 'group_size',\n",
       "       'homeowner', 'car_age', 'car_value', 'risk_factor', 'age_oldest',\n",
       "       'age_youngest', 'married_couple', 'c_previous', 'duration_previous',\n",
       "       'a', 'b', 'c', 'd', 'e', 'f', 'g', 'cost'],\n",
       "      dtype='object')"
      ]
     },
     "execution_count": 22,
     "metadata": {},
     "output_type": "execute_result"
    }
   ],
   "source": [
    "# dropping day column\n",
    "train_df = train_df.drop('day',axis=1)\n",
    "train_df.columns"
   ]
  },
  {
   "cell_type": "code",
   "execution_count": 23,
   "metadata": {},
   "outputs": [
    {
     "name": "stdout",
     "output_type": "stream",
     "text": [
      "<class 'pandas.core.frame.DataFrame'>\n",
      "Int64Index: 645648 entries, 0 to 665248\n",
      "Data columns (total 22 columns):\n",
      " #   Column             Non-Null Count   Dtype  \n",
      "---  ------             --------------   -----  \n",
      " 0   shopping_pt        645648 non-null  int64  \n",
      " 1   record_type        645648 non-null  int64  \n",
      " 2   state              645648 non-null  object \n",
      " 3   location           645648 non-null  int64  \n",
      " 4   group_size         645648 non-null  int64  \n",
      " 5   homeowner          645648 non-null  int64  \n",
      " 6   car_age            645648 non-null  int64  \n",
      " 7   car_value          645648 non-null  object \n",
      " 8   risk_factor        645648 non-null  float64\n",
      " 9   age_oldest         645648 non-null  int64  \n",
      " 10  age_youngest       645648 non-null  int64  \n",
      " 11  married_couple     645648 non-null  int64  \n",
      " 12  c_previous         645648 non-null  float64\n",
      " 13  duration_previous  645648 non-null  float64\n",
      " 14  a                  645648 non-null  int64  \n",
      " 15  b                  645648 non-null  int64  \n",
      " 16  c                  645648 non-null  int64  \n",
      " 17  d                  645648 non-null  int64  \n",
      " 18  e                  645648 non-null  int64  \n",
      " 19  f                  645648 non-null  int64  \n",
      " 20  g                  645648 non-null  int64  \n",
      " 21  cost               645648 non-null  int64  \n",
      "dtypes: float64(3), int64(17), object(2)\n",
      "memory usage: 113.3+ MB\n"
     ]
    }
   ],
   "source": [
    "train_df.info()"
   ]
  },
  {
   "cell_type": "markdown",
   "metadata": {},
   "source": [
    "Inspecting columns with type as float64"
   ]
  },
  {
   "cell_type": "code",
   "execution_count": 24,
   "metadata": {},
   "outputs": [
    {
     "data": {
      "text/plain": [
       "array([3., 4., 2., 1.])"
      ]
     },
     "execution_count": 24,
     "metadata": {},
     "output_type": "execute_result"
    }
   ],
   "source": [
    "train_df.risk_factor.unique()"
   ]
  },
  {
   "cell_type": "code",
   "execution_count": 25,
   "metadata": {},
   "outputs": [
    {
     "data": {
      "text/plain": [
       "array([3, 4, 2, 1])"
      ]
     },
     "execution_count": 25,
     "metadata": {},
     "output_type": "execute_result"
    }
   ],
   "source": [
    "# Convert risk_factor column to int type\n",
    "train_df['risk_factor']=train_df['risk_factor'].astype('int')\n",
    "train_df.risk_factor.unique()"
   ]
  },
  {
   "cell_type": "code",
   "execution_count": 26,
   "metadata": {},
   "outputs": [
    {
     "data": {
      "text/plain": [
       "array([1., 3., 2., 4.])"
      ]
     },
     "execution_count": 26,
     "metadata": {},
     "output_type": "execute_result"
    }
   ],
   "source": [
    "train_df.c_previous.unique()"
   ]
  },
  {
   "cell_type": "code",
   "execution_count": 27,
   "metadata": {},
   "outputs": [
    {
     "data": {
      "text/plain": [
       "array([1, 3, 2, 4])"
      ]
     },
     "execution_count": 27,
     "metadata": {},
     "output_type": "execute_result"
    }
   ],
   "source": [
    "# Convert c_previous column to int type\n",
    "train_df['c_previous']=train_df['c_previous'].astype('int')\n",
    "train_df.c_previous.unique()"
   ]
  },
  {
   "cell_type": "code",
   "execution_count": 28,
   "metadata": {},
   "outputs": [
    {
     "data": {
      "text/plain": [
       "array([ 2., 13.,  4.,  3.,  9.,  0.,  1.,  8., 14.,  5., 15.,  6.,  7.,\n",
       "       11., 10., 12.])"
      ]
     },
     "execution_count": 28,
     "metadata": {},
     "output_type": "execute_result"
    }
   ],
   "source": [
    " train_df.duration_previous.unique()"
   ]
  },
  {
   "cell_type": "code",
   "execution_count": 29,
   "metadata": {},
   "outputs": [
    {
     "data": {
      "text/plain": [
       "array([ 2, 13,  4,  3,  9,  0,  1,  8, 14,  5, 15,  6,  7, 11, 10, 12])"
      ]
     },
     "execution_count": 29,
     "metadata": {},
     "output_type": "execute_result"
    }
   ],
   "source": [
    "# Convert duration_previous column to int type\n",
    "train_df['duration_previous']=train_df['duration_previous'].astype('int')\n",
    "train_df.duration_previous.unique()"
   ]
  },
  {
   "cell_type": "code",
   "execution_count": 30,
   "metadata": {},
   "outputs": [
    {
     "name": "stdout",
     "output_type": "stream",
     "text": [
      "<class 'pandas.core.frame.DataFrame'>\n",
      "Int64Index: 645648 entries, 0 to 665248\n",
      "Data columns (total 22 columns):\n",
      " #   Column             Non-Null Count   Dtype \n",
      "---  ------             --------------   ----- \n",
      " 0   shopping_pt        645648 non-null  int64 \n",
      " 1   record_type        645648 non-null  int64 \n",
      " 2   state              645648 non-null  object\n",
      " 3   location           645648 non-null  int64 \n",
      " 4   group_size         645648 non-null  int64 \n",
      " 5   homeowner          645648 non-null  int64 \n",
      " 6   car_age            645648 non-null  int64 \n",
      " 7   car_value          645648 non-null  object\n",
      " 8   risk_factor        645648 non-null  int64 \n",
      " 9   age_oldest         645648 non-null  int64 \n",
      " 10  age_youngest       645648 non-null  int64 \n",
      " 11  married_couple     645648 non-null  int64 \n",
      " 12  c_previous         645648 non-null  int64 \n",
      " 13  duration_previous  645648 non-null  int64 \n",
      " 14  a                  645648 non-null  int64 \n",
      " 15  b                  645648 non-null  int64 \n",
      " 16  c                  645648 non-null  int64 \n",
      " 17  d                  645648 non-null  int64 \n",
      " 18  e                  645648 non-null  int64 \n",
      " 19  f                  645648 non-null  int64 \n",
      " 20  g                  645648 non-null  int64 \n",
      " 21  cost               645648 non-null  int64 \n",
      "dtypes: int64(20), object(2)\n",
      "memory usage: 113.3+ MB\n"
     ]
    }
   ],
   "source": [
    "train_df.info()"
   ]
  },
  {
   "cell_type": "code",
   "execution_count": 31,
   "metadata": {},
   "outputs": [
    {
     "data": {
      "text/html": [
       "<div>\n",
       "<style scoped>\n",
       "    .dataframe tbody tr th:only-of-type {\n",
       "        vertical-align: middle;\n",
       "    }\n",
       "\n",
       "    .dataframe tbody tr th {\n",
       "        vertical-align: top;\n",
       "    }\n",
       "\n",
       "    .dataframe thead th {\n",
       "        text-align: right;\n",
       "    }\n",
       "</style>\n",
       "<table border=\"1\" class=\"dataframe\">\n",
       "  <thead>\n",
       "    <tr style=\"text-align: right;\">\n",
       "      <th></th>\n",
       "      <th>shopping_pt</th>\n",
       "      <th>record_type</th>\n",
       "      <th>state</th>\n",
       "      <th>location</th>\n",
       "      <th>group_size</th>\n",
       "      <th>homeowner</th>\n",
       "      <th>car_age</th>\n",
       "      <th>car_value</th>\n",
       "      <th>risk_factor</th>\n",
       "      <th>age_oldest</th>\n",
       "      <th>...</th>\n",
       "      <th>c_previous</th>\n",
       "      <th>duration_previous</th>\n",
       "      <th>a</th>\n",
       "      <th>b</th>\n",
       "      <th>c</th>\n",
       "      <th>d</th>\n",
       "      <th>e</th>\n",
       "      <th>f</th>\n",
       "      <th>g</th>\n",
       "      <th>cost</th>\n",
       "    </tr>\n",
       "  </thead>\n",
       "  <tbody>\n",
       "    <tr>\n",
       "      <th>0</th>\n",
       "      <td>1</td>\n",
       "      <td>0</td>\n",
       "      <td>IN</td>\n",
       "      <td>10001</td>\n",
       "      <td>2</td>\n",
       "      <td>0</td>\n",
       "      <td>2</td>\n",
       "      <td>g</td>\n",
       "      <td>3</td>\n",
       "      <td>46</td>\n",
       "      <td>...</td>\n",
       "      <td>1</td>\n",
       "      <td>2</td>\n",
       "      <td>1</td>\n",
       "      <td>0</td>\n",
       "      <td>2</td>\n",
       "      <td>2</td>\n",
       "      <td>1</td>\n",
       "      <td>2</td>\n",
       "      <td>2</td>\n",
       "      <td>633</td>\n",
       "    </tr>\n",
       "    <tr>\n",
       "      <th>1</th>\n",
       "      <td>2</td>\n",
       "      <td>0</td>\n",
       "      <td>IN</td>\n",
       "      <td>10001</td>\n",
       "      <td>2</td>\n",
       "      <td>0</td>\n",
       "      <td>2</td>\n",
       "      <td>g</td>\n",
       "      <td>3</td>\n",
       "      <td>46</td>\n",
       "      <td>...</td>\n",
       "      <td>1</td>\n",
       "      <td>2</td>\n",
       "      <td>1</td>\n",
       "      <td>0</td>\n",
       "      <td>2</td>\n",
       "      <td>2</td>\n",
       "      <td>1</td>\n",
       "      <td>2</td>\n",
       "      <td>1</td>\n",
       "      <td>630</td>\n",
       "    </tr>\n",
       "    <tr>\n",
       "      <th>2</th>\n",
       "      <td>3</td>\n",
       "      <td>0</td>\n",
       "      <td>IN</td>\n",
       "      <td>10001</td>\n",
       "      <td>2</td>\n",
       "      <td>0</td>\n",
       "      <td>2</td>\n",
       "      <td>g</td>\n",
       "      <td>3</td>\n",
       "      <td>46</td>\n",
       "      <td>...</td>\n",
       "      <td>1</td>\n",
       "      <td>2</td>\n",
       "      <td>1</td>\n",
       "      <td>0</td>\n",
       "      <td>2</td>\n",
       "      <td>2</td>\n",
       "      <td>1</td>\n",
       "      <td>2</td>\n",
       "      <td>1</td>\n",
       "      <td>630</td>\n",
       "    </tr>\n",
       "    <tr>\n",
       "      <th>3</th>\n",
       "      <td>4</td>\n",
       "      <td>0</td>\n",
       "      <td>IN</td>\n",
       "      <td>10001</td>\n",
       "      <td>2</td>\n",
       "      <td>0</td>\n",
       "      <td>2</td>\n",
       "      <td>g</td>\n",
       "      <td>3</td>\n",
       "      <td>46</td>\n",
       "      <td>...</td>\n",
       "      <td>1</td>\n",
       "      <td>2</td>\n",
       "      <td>1</td>\n",
       "      <td>0</td>\n",
       "      <td>2</td>\n",
       "      <td>2</td>\n",
       "      <td>1</td>\n",
       "      <td>2</td>\n",
       "      <td>1</td>\n",
       "      <td>630</td>\n",
       "    </tr>\n",
       "    <tr>\n",
       "      <th>4</th>\n",
       "      <td>5</td>\n",
       "      <td>0</td>\n",
       "      <td>IN</td>\n",
       "      <td>10001</td>\n",
       "      <td>2</td>\n",
       "      <td>0</td>\n",
       "      <td>2</td>\n",
       "      <td>g</td>\n",
       "      <td>3</td>\n",
       "      <td>46</td>\n",
       "      <td>...</td>\n",
       "      <td>1</td>\n",
       "      <td>2</td>\n",
       "      <td>1</td>\n",
       "      <td>0</td>\n",
       "      <td>2</td>\n",
       "      <td>2</td>\n",
       "      <td>1</td>\n",
       "      <td>2</td>\n",
       "      <td>1</td>\n",
       "      <td>630</td>\n",
       "    </tr>\n",
       "  </tbody>\n",
       "</table>\n",
       "<p>5 rows × 22 columns</p>\n",
       "</div>"
      ],
      "text/plain": [
       "   shopping_pt  record_type state  location  group_size  homeowner  car_age  \\\n",
       "0            1            0    IN     10001           2          0        2   \n",
       "1            2            0    IN     10001           2          0        2   \n",
       "2            3            0    IN     10001           2          0        2   \n",
       "3            4            0    IN     10001           2          0        2   \n",
       "4            5            0    IN     10001           2          0        2   \n",
       "\n",
       "  car_value  risk_factor  age_oldest  ...  c_previous  duration_previous  a  \\\n",
       "0         g            3          46  ...           1                  2  1   \n",
       "1         g            3          46  ...           1                  2  1   \n",
       "2         g            3          46  ...           1                  2  1   \n",
       "3         g            3          46  ...           1                  2  1   \n",
       "4         g            3          46  ...           1                  2  1   \n",
       "\n",
       "   b  c  d  e  f  g  cost  \n",
       "0  0  2  2  1  2  2   633  \n",
       "1  0  2  2  1  2  1   630  \n",
       "2  0  2  2  1  2  1   630  \n",
       "3  0  2  2  1  2  1   630  \n",
       "4  0  2  2  1  2  1   630  \n",
       "\n",
       "[5 rows x 22 columns]"
      ]
     },
     "execution_count": 31,
     "metadata": {},
     "output_type": "execute_result"
    }
   ],
   "source": [
    "train_df.head()"
   ]
  },
  {
   "cell_type": "code",
   "execution_count": 33,
   "metadata": {},
   "outputs": [
    {
     "data": {
      "text/plain": [
       "array(['IN', 'NY', 'PA', 'WV', 'MO', 'OH', 'OK', 'FL', 'OR', 'WA', 'KS',\n",
       "       'NV', 'ID', 'CO', 'CT', 'AL', 'AR', 'NM', 'MS', 'MD', 'RI', 'ME',\n",
       "       'TN', 'UT', 'WI', 'MT', 'KY', 'WY', 'NE', 'ND', 'DE', 'GA', 'NH',\n",
       "       'IA', 'DC', 'SD'], dtype=object)"
      ]
     },
     "execution_count": 33,
     "metadata": {},
     "output_type": "execute_result"
    }
   ],
   "source": [
    "train_df.state.unique()"
   ]
  },
  {
   "cell_type": "code",
   "execution_count": 34,
   "metadata": {},
   "outputs": [
    {
     "data": {
      "text/plain": [
       "FL    104988\n",
       "NY     89589\n",
       "PA     59049\n",
       "OH     43417\n",
       "MD     27957\n",
       "WA     24537\n",
       "IN     23891\n",
       "CO     23260\n",
       "AL     22972\n",
       "CT     18847\n",
       "TN     17537\n",
       "KY     15589\n",
       "NV     15092\n",
       "MO     14759\n",
       "OR     14207\n",
       "UT     14167\n",
       "OK     13526\n",
       "MS     10258\n",
       "AR     10223\n",
       "WI      9954\n",
       "GA      8484\n",
       "NH      7312\n",
       "NM      6676\n",
       "ME      6370\n",
       "ID      5873\n",
       "RI      5711\n",
       "KS      5490\n",
       "WV      4989\n",
       "IA      4436\n",
       "DE      3996\n",
       "DC      3271\n",
       "MT      3110\n",
       "NE      3087\n",
       "ND      1454\n",
       "WY      1133\n",
       "SD       437\n",
       "Name: state, dtype: int64"
      ]
     },
     "execution_count": 34,
     "metadata": {},
     "output_type": "execute_result"
    }
   ],
   "source": [
    "train_df['state'].value_counts()"
   ]
  },
  {
   "cell_type": "code",
   "execution_count": 35,
   "metadata": {},
   "outputs": [
    {
     "data": {
      "text/plain": [
       "FL    14599\n",
       "NY    13574\n",
       "PA     8900\n",
       "OH     6641\n",
       "MD     4218\n",
       "IN     3639\n",
       "AL     3578\n",
       "WA     3561\n",
       "CO     3516\n",
       "CT     2813\n",
       "TN     2635\n",
       "KY     2348\n",
       "MO     2193\n",
       "OR     2138\n",
       "NV     2119\n",
       "UT     2069\n",
       "OK     2018\n",
       "AR     1561\n",
       "MS     1557\n",
       "WI     1544\n",
       "GA     1254\n",
       "NH     1091\n",
       "ME     1002\n",
       "NM      999\n",
       "ID      885\n",
       "RI      873\n",
       "KS      858\n",
       "WV      779\n",
       "IA      686\n",
       "DE      595\n",
       "DC      502\n",
       "NE      490\n",
       "MT      461\n",
       "ND      240\n",
       "WY      166\n",
       "SD       71\n",
       "Name: state, dtype: int64"
      ]
     },
     "execution_count": 35,
     "metadata": {},
     "output_type": "execute_result"
    }
   ],
   "source": [
    "train_df['state'][train_df.record_type==1].value_counts()"
   ]
  },
  {
   "cell_type": "code",
   "execution_count": 36,
   "metadata": {},
   "outputs": [
    {
     "data": {
      "text/plain": [
       "array([10001, 10006, 10008, ..., 16579, 16562, 16580])"
      ]
     },
     "execution_count": 36,
     "metadata": {},
     "output_type": "execute_result"
    }
   ],
   "source": [
    "train_df.location.unique()"
   ]
  },
  {
   "cell_type": "code",
   "execution_count": 37,
   "metadata": {},
   "outputs": [
    {
     "data": {
      "text/plain": [
       "10083    1027\n",
       "10213     974\n",
       "11517     864\n",
       "10348     860\n",
       "10030     782\n",
       "         ... \n",
       "16299       1\n",
       "16166       1\n",
       "16026       1\n",
       "16140       1\n",
       "16405       1\n",
       "Name: location, Length: 6244, dtype: int64"
      ]
     },
     "execution_count": 37,
     "metadata": {},
     "output_type": "execute_result"
    }
   ],
   "source": [
    "train_df['location'].value_counts()"
   ]
  },
  {
   "cell_type": "code",
   "execution_count": 38,
   "metadata": {},
   "outputs": [
    {
     "data": {
      "text/plain": [
       "1    503170\n",
       "2    133112\n",
       "3      8686\n",
       "4       680\n",
       "Name: group_size, dtype: int64"
      ]
     },
     "execution_count": 38,
     "metadata": {},
     "output_type": "execute_result"
    }
   ],
   "source": [
    "train_df['group_size'].value_counts()"
   ]
  },
  {
   "cell_type": "code",
   "execution_count": 39,
   "metadata": {},
   "outputs": [
    {
     "data": {
      "text/plain": [
       "1    74924\n",
       "2    19865\n",
       "3     1274\n",
       "4      110\n",
       "Name: group_size, dtype: int64"
      ]
     },
     "execution_count": 39,
     "metadata": {},
     "output_type": "execute_result"
    }
   ],
   "source": [
    "train_df['group_size'][train_df.record_type==1].value_counts()"
   ]
  },
  {
   "cell_type": "code",
   "execution_count": 40,
   "metadata": {},
   "outputs": [
    {
     "data": {
      "text/plain": [
       "1    348357\n",
       "0    297291\n",
       "Name: homeowner, dtype: int64"
      ]
     },
     "execution_count": 40,
     "metadata": {},
     "output_type": "execute_result"
    }
   ],
   "source": [
    "train_df['homeowner'].value_counts()"
   ]
  },
  {
   "cell_type": "code",
   "execution_count": 41,
   "metadata": {},
   "outputs": [
    {
     "data": {
      "text/plain": [
       "1    52620\n",
       "0    43553\n",
       "Name: homeowner, dtype: int64"
      ]
     },
     "execution_count": 41,
     "metadata": {},
     "output_type": "execute_result"
    }
   ],
   "source": [
    "train_df['homeowner'][train_df.record_type==1].value_counts()"
   ]
  },
  {
   "cell_type": "code",
   "execution_count": 42,
   "metadata": {},
   "outputs": [
    {
     "data": {
      "text/plain": [
       "1     69635\n",
       "2     49355\n",
       "7     45681\n",
       "6     43408\n",
       "8     43217\n",
       "      ...  \n",
       "65        5\n",
       "51        5\n",
       "60        4\n",
       "85        4\n",
       "54        1\n",
       "Name: car_age, Length: 67, dtype: int64"
      ]
     },
     "execution_count": 42,
     "metadata": {},
     "output_type": "execute_result"
    }
   ],
   "source": [
    "train_df['car_age'].value_counts()"
   ]
  },
  {
   "cell_type": "code",
   "execution_count": 43,
   "metadata": {},
   "outputs": [
    {
     "data": {
      "text/plain": [
       "1     10290\n",
       "2      7292\n",
       "7      6772\n",
       "8      6424\n",
       "6      6399\n",
       "      ...  \n",
       "55        1\n",
       "57        1\n",
       "58        1\n",
       "65        1\n",
       "60        1\n",
       "Name: car_age, Length: 65, dtype: int64"
      ]
     },
     "execution_count": 43,
     "metadata": {},
     "output_type": "execute_result"
    }
   ],
   "source": [
    "train_df['car_age'][train_df.record_type==1].value_counts()"
   ]
  },
  {
   "cell_type": "code",
   "execution_count": 44,
   "metadata": {},
   "outputs": [
    {
     "data": {
      "text/plain": [
       "e    213495\n",
       "f    172456\n",
       "d    109861\n",
       "g     95497\n",
       "h     28224\n",
       "c     20179\n",
       "i      3520\n",
       "b      1342\n",
       "a      1074\n",
       "Name: car_value, dtype: int64"
      ]
     },
     "execution_count": 44,
     "metadata": {},
     "output_type": "execute_result"
    }
   ],
   "source": [
    "train_df['car_value'].value_counts()"
   ]
  },
  {
   "cell_type": "code",
   "execution_count": 45,
   "metadata": {},
   "outputs": [
    {
     "data": {
      "text/plain": [
       "e    31884\n",
       "f    25725\n",
       "d    16252\n",
       "g    14283\n",
       "h     4126\n",
       "c     3027\n",
       "i      500\n",
       "b      206\n",
       "a      170\n",
       "Name: car_value, dtype: int64"
      ]
     },
     "execution_count": 45,
     "metadata": {},
     "output_type": "execute_result"
    }
   ],
   "source": [
    "train_df['car_value'][train_df.record_type==1].value_counts()"
   ]
  },
  {
   "cell_type": "code",
   "execution_count": 46,
   "metadata": {},
   "outputs": [
    {
     "data": {
      "text/plain": [
       "75    44133\n",
       "24    20875\n",
       "23    20751\n",
       "25    20617\n",
       "22    18930\n",
       "26    18121\n",
       "27    15494\n",
       "28    14751\n",
       "21    13686\n",
       "29    12771\n",
       "30    12371\n",
       "31    11636\n",
       "32    11279\n",
       "33    11079\n",
       "43    11039\n",
       "55    10842\n",
       "42    10747\n",
       "52    10686\n",
       "34    10658\n",
       "53    10490\n",
       "46    10458\n",
       "35    10385\n",
       "56    10380\n",
       "49    10308\n",
       "54    10283\n",
       "48    10268\n",
       "58    10211\n",
       "51    10130\n",
       "50     9983\n",
       "59     9908\n",
       "45     9860\n",
       "44     9839\n",
       "41     9815\n",
       "20     9700\n",
       "36     9656\n",
       "57     9615\n",
       "47     9589\n",
       "37     9532\n",
       "66     9518\n",
       "65     9455\n",
       "63     9444\n",
       "38     9440\n",
       "60     9417\n",
       "40     9321\n",
       "61     9257\n",
       "39     9192\n",
       "62     9149\n",
       "64     9076\n",
       "70     8092\n",
       "69     7458\n",
       "67     7391\n",
       "68     6819\n",
       "71     6738\n",
       "19     6210\n",
       "72     6055\n",
       "73     5724\n",
       "74     5551\n",
       "18     1465\n",
       "Name: age_oldest, dtype: int64"
      ]
     },
     "execution_count": 46,
     "metadata": {},
     "output_type": "execute_result"
    }
   ],
   "source": [
    "train_df['age_oldest'].value_counts()"
   ]
  },
  {
   "cell_type": "code",
   "execution_count": 47,
   "metadata": {},
   "outputs": [
    {
     "data": {
      "text/plain": [
       "75    33482\n",
       "23    23386\n",
       "25    22779\n",
       "24    22765\n",
       "22    21464\n",
       "26    19886\n",
       "27    17154\n",
       "21    16677\n",
       "28    16383\n",
       "29    14013\n",
       "30    13268\n",
       "20    12903\n",
       "31    12625\n",
       "32    12137\n",
       "33    11663\n",
       "34    11139\n",
       "35    10821\n",
       "55     9992\n",
       "43     9858\n",
       "42     9826\n",
       "52     9715\n",
       "19     9678\n",
       "36     9624\n",
       "48     9507\n",
       "37     9495\n",
       "46     9469\n",
       "58     9454\n",
       "53     9452\n",
       "51     9382\n",
       "49     9371\n",
       "56     9349\n",
       "38     9316\n",
       "50     9263\n",
       "54     9251\n",
       "41     9223\n",
       "40     9084\n",
       "45     9039\n",
       "44     8981\n",
       "65     8936\n",
       "57     8894\n",
       "39     8834\n",
       "60     8686\n",
       "47     8674\n",
       "59     8666\n",
       "66     8661\n",
       "62     8539\n",
       "61     8490\n",
       "63     8415\n",
       "64     8353\n",
       "70     7142\n",
       "69     6870\n",
       "68     6295\n",
       "67     6075\n",
       "71     6021\n",
       "72     5148\n",
       "73     5069\n",
       "74     4931\n",
       "18     4835\n",
       "16     4380\n",
       "17     2860\n",
       "Name: age_youngest, dtype: int64"
      ]
     },
     "execution_count": 47,
     "metadata": {},
     "output_type": "execute_result"
    }
   ],
   "source": [
    "train_df['age_youngest'].value_counts()"
   ]
  },
  {
   "cell_type": "code",
   "execution_count": 48,
   "metadata": {},
   "outputs": [
    {
     "data": {
      "text/plain": [
       "0    509473\n",
       "1    136175\n",
       "Name: married_couple, dtype: int64"
      ]
     },
     "execution_count": 48,
     "metadata": {},
     "output_type": "execute_result"
    }
   ],
   "source": [
    "train_df['married_couple'].value_counts()"
   ]
  },
  {
   "cell_type": "code",
   "execution_count": 49,
   "metadata": {},
   "outputs": [
    {
     "data": {
      "text/plain": [
       "3    270882\n",
       "1    171605\n",
       "2    109025\n",
       "4     94136\n",
       "Name: c_previous, dtype: int64"
      ]
     },
     "execution_count": 49,
     "metadata": {},
     "output_type": "execute_result"
    }
   ],
   "source": [
    "train_df['c_previous'].value_counts()"
   ]
  },
  {
   "cell_type": "code",
   "execution_count": 50,
   "metadata": {},
   "outputs": [
    {
     "data": {
      "text/plain": [
       "1     81270\n",
       "15    79825\n",
       "2     79388\n",
       "3     70682\n",
       "4     57417\n",
       "5     49332\n",
       "6     45356\n",
       "7     37754\n",
       "8     30734\n",
       "9     26235\n",
       "0     24874\n",
       "10    18092\n",
       "11    12715\n",
       "12    11282\n",
       "13    10955\n",
       "14     9737\n",
       "Name: duration_previous, dtype: int64"
      ]
     },
     "execution_count": 50,
     "metadata": {},
     "output_type": "execute_result"
    }
   ],
   "source": [
    "train_df['duration_previous'].value_counts()"
   ]
  },
  {
   "cell_type": "code",
   "execution_count": 51,
   "metadata": {},
   "outputs": [
    {
     "data": {
      "text/plain": [
       "1    416650\n",
       "0    135744\n",
       "2     93254\n",
       "Name: a, dtype: int64"
      ]
     },
     "execution_count": 51,
     "metadata": {},
     "output_type": "execute_result"
    }
   ],
   "source": [
    "train_df['a'].value_counts()"
   ]
  },
  {
   "cell_type": "code",
   "execution_count": 52,
   "metadata": {},
   "outputs": [
    {
     "data": {
      "text/plain": [
       "0    349542\n",
       "1    296106\n",
       "Name: b, dtype: int64"
      ]
     },
     "execution_count": 52,
     "metadata": {},
     "output_type": "execute_result"
    }
   ],
   "source": [
    "train_df['b'].value_counts()"
   ]
  },
  {
   "cell_type": "code",
   "execution_count": 53,
   "metadata": {},
   "outputs": [
    {
     "data": {
      "text/plain": [
       "3    266103\n",
       "1    193609\n",
       "2    129597\n",
       "4     56339\n",
       "Name: c, dtype: int64"
      ]
     },
     "execution_count": 53,
     "metadata": {},
     "output_type": "execute_result"
    }
   ],
   "source": [
    "train_df['c'].value_counts()"
   ]
  },
  {
   "cell_type": "code",
   "execution_count": 54,
   "metadata": {},
   "outputs": [
    {
     "data": {
      "text/plain": [
       "3    401183\n",
       "2    145026\n",
       "1     99439\n",
       "Name: d, dtype: int64"
      ]
     },
     "execution_count": 54,
     "metadata": {},
     "output_type": "execute_result"
    }
   ],
   "source": [
    "train_df['d'].value_counts()"
   ]
  },
  {
   "cell_type": "code",
   "execution_count": 55,
   "metadata": {},
   "outputs": [
    {
     "data": {
      "text/plain": [
       "0    354557\n",
       "1    291091\n",
       "Name: e, dtype: int64"
      ]
     },
     "execution_count": 55,
     "metadata": {},
     "output_type": "execute_result"
    }
   ],
   "source": [
    "train_df['e'].value_counts()"
   ]
  },
  {
   "cell_type": "code",
   "execution_count": 56,
   "metadata": {},
   "outputs": [
    {
     "data": {
      "text/plain": [
       "2    249890\n",
       "0    206957\n",
       "1    155474\n",
       "3     33327\n",
       "Name: f, dtype: int64"
      ]
     },
     "execution_count": 56,
     "metadata": {},
     "output_type": "execute_result"
    }
   ],
   "source": [
    "train_df['f'].value_counts()"
   ]
  },
  {
   "cell_type": "code",
   "execution_count": 57,
   "metadata": {},
   "outputs": [
    {
     "data": {
      "text/plain": [
       "2    251112\n",
       "3    189315\n",
       "1    139280\n",
       "4     65941\n",
       "Name: g, dtype: int64"
      ]
     },
     "execution_count": 57,
     "metadata": {},
     "output_type": "execute_result"
    }
   ],
   "source": [
    "train_df['g'].value_counts()"
   ]
  },
  {
   "cell_type": "code",
   "execution_count": 58,
   "metadata": {},
   "outputs": [
    {
     "data": {
      "text/plain": [
       "633    5901\n",
       "637    5869\n",
       "626    5824\n",
       "638    5808\n",
       "640    5801\n",
       "       ... \n",
       "418       1\n",
       "416       1\n",
       "851       1\n",
       "408       1\n",
       "860       1\n",
       "Name: cost, Length: 524, dtype: int64"
      ]
     },
     "execution_count": 58,
     "metadata": {},
     "output_type": "execute_result"
    }
   ],
   "source": [
    "train_df['cost'].value_counts()"
   ]
  },
  {
   "cell_type": "code",
   "execution_count": 59,
   "metadata": {},
   "outputs": [
    {
     "name": "stdout",
     "output_type": "stream",
     "text": [
      "<class 'pandas.core.frame.DataFrame'>\n",
      "Int64Index: 645648 entries, 0 to 665248\n",
      "Data columns (total 22 columns):\n",
      " #   Column             Non-Null Count   Dtype \n",
      "---  ------             --------------   ----- \n",
      " 0   shopping_pt        645648 non-null  int64 \n",
      " 1   record_type        645648 non-null  int64 \n",
      " 2   state              645648 non-null  object\n",
      " 3   location           645648 non-null  int64 \n",
      " 4   group_size         645648 non-null  int64 \n",
      " 5   homeowner          645648 non-null  int64 \n",
      " 6   car_age            645648 non-null  int64 \n",
      " 7   car_value          645648 non-null  object\n",
      " 8   risk_factor        645648 non-null  int64 \n",
      " 9   age_oldest         645648 non-null  int64 \n",
      " 10  age_youngest       645648 non-null  int64 \n",
      " 11  married_couple     645648 non-null  int64 \n",
      " 12  c_previous         645648 non-null  int64 \n",
      " 13  duration_previous  645648 non-null  int64 \n",
      " 14  a                  645648 non-null  int64 \n",
      " 15  b                  645648 non-null  int64 \n",
      " 16  c                  645648 non-null  int64 \n",
      " 17  d                  645648 non-null  int64 \n",
      " 18  e                  645648 non-null  int64 \n",
      " 19  f                  645648 non-null  int64 \n",
      " 20  g                  645648 non-null  int64 \n",
      " 21  cost               645648 non-null  int64 \n",
      "dtypes: int64(20), object(2)\n",
      "memory usage: 113.3+ MB\n"
     ]
    }
   ],
   "source": [
    "train_df.info()"
   ]
  },
  {
   "cell_type": "markdown",
   "metadata": {},
   "source": [
    "Converting 'state','location','group_size','homeowner','car_value','risk_factor','married_couple','c_previous','a','b','c','d','e','f' and 'g' columns to category type"
   ]
  },
  {
   "cell_type": "code",
   "execution_count": 60,
   "metadata": {},
   "outputs": [],
   "source": [
    "categorical_cols = ['state','location','group_size','homeowner','car_value','risk_factor','married_couple',\n",
    "                    'c_previous','a','b','c','d','e','f','g'] "
   ]
  },
  {
   "cell_type": "code",
   "execution_count": 61,
   "metadata": {},
   "outputs": [
    {
     "name": "stdout",
     "output_type": "stream",
     "text": [
      "<class 'pandas.core.frame.DataFrame'>\n",
      "Int64Index: 645648 entries, 0 to 665248\n",
      "Data columns (total 22 columns):\n",
      " #   Column             Non-Null Count   Dtype   \n",
      "---  ------             --------------   -----   \n",
      " 0   shopping_pt        645648 non-null  int64   \n",
      " 1   record_type        645648 non-null  int64   \n",
      " 2   state              645648 non-null  category\n",
      " 3   location           645648 non-null  category\n",
      " 4   group_size         645648 non-null  category\n",
      " 5   homeowner          645648 non-null  category\n",
      " 6   car_age            645648 non-null  int64   \n",
      " 7   car_value          645648 non-null  category\n",
      " 8   risk_factor        645648 non-null  category\n",
      " 9   age_oldest         645648 non-null  int64   \n",
      " 10  age_youngest       645648 non-null  int64   \n",
      " 11  married_couple     645648 non-null  category\n",
      " 12  c_previous         645648 non-null  category\n",
      " 13  duration_previous  645648 non-null  int64   \n",
      " 14  a                  645648 non-null  category\n",
      " 15  b                  645648 non-null  category\n",
      " 16  c                  645648 non-null  category\n",
      " 17  d                  645648 non-null  category\n",
      " 18  e                  645648 non-null  category\n",
      " 19  f                  645648 non-null  category\n",
      " 20  g                  645648 non-null  category\n",
      " 21  cost               645648 non-null  int64   \n",
      "dtypes: category(15), int64(7)\n",
      "memory usage: 49.5 MB\n"
     ]
    }
   ],
   "source": [
    "for col in categorical_cols:\n",
    "  train_df[col] = train_df[col].astype('category')\n",
    "train_df.info()"
   ]
  },
  {
   "cell_type": "code",
   "execution_count": 62,
   "metadata": {},
   "outputs": [
    {
     "name": "stdout",
     "output_type": "stream",
     "text": [
      "<class 'pandas.core.frame.DataFrame'>\n",
      "Int64Index: 645648 entries, 0 to 665248\n",
      "Data columns (total 22 columns):\n",
      " #   Column             Non-Null Count   Dtype\n",
      "---  ------             --------------   -----\n",
      " 0   shopping_pt        645648 non-null  int64\n",
      " 1   record_type        645648 non-null  int64\n",
      " 2   state              645648 non-null  int64\n",
      " 3   location           645648 non-null  int64\n",
      " 4   group_size         645648 non-null  int64\n",
      " 5   homeowner          645648 non-null  int64\n",
      " 6   car_age            645648 non-null  int64\n",
      " 7   car_value          645648 non-null  int64\n",
      " 8   risk_factor        645648 non-null  int64\n",
      " 9   age_oldest         645648 non-null  int64\n",
      " 10  age_youngest       645648 non-null  int64\n",
      " 11  married_couple     645648 non-null  int64\n",
      " 12  c_previous         645648 non-null  int64\n",
      " 13  duration_previous  645648 non-null  int64\n",
      " 14  a                  645648 non-null  int64\n",
      " 15  b                  645648 non-null  int64\n",
      " 16  c                  645648 non-null  int64\n",
      " 17  d                  645648 non-null  int64\n",
      " 18  e                  645648 non-null  int64\n",
      " 19  f                  645648 non-null  int64\n",
      " 20  g                  645648 non-null  int64\n",
      " 21  cost               645648 non-null  int64\n",
      "dtypes: int64(22)\n",
      "memory usage: 113.3 MB\n"
     ]
    }
   ],
   "source": [
    "# instantiate labelencoder object\n",
    "le = LabelEncoder()\n",
    "# apply le on categorical feature columns\n",
    "train_df[categorical_cols] = train_df[categorical_cols].apply(lambda col: le.fit_transform(col))\n",
    "train_df.info()\n"
   ]
  },
  {
   "cell_type": "code",
   "execution_count": 63,
   "metadata": {},
   "outputs": [
    {
     "data": {
      "text/plain": [
       "0    549475\n",
       "1     96173\n",
       "Name: record_type, dtype: int64"
      ]
     },
     "execution_count": 63,
     "metadata": {},
     "output_type": "execute_result"
    }
   ],
   "source": [
    "train_df['record_type'].value_counts()"
   ]
  },
  {
   "cell_type": "markdown",
   "metadata": {},
   "source": [
    "There are 549,475 records with 0 record_type and only 96,173 records with 1. Which is about 14% of total records 645,648 records. \n",
    "\n",
    "Any model trained on this data set would have over sampling records for record_type as 1)"
   ]
  },
  {
   "cell_type": "code",
   "execution_count": 64,
   "metadata": {},
   "outputs": [],
   "source": [
    "df_s = train_df\n",
    "df_sample = df_s.sample(frac=0.1, replace=True)"
   ]
  },
  {
   "cell_type": "code",
   "execution_count": 65,
   "metadata": {},
   "outputs": [
    {
     "data": {
      "text/html": [
       "<div>\n",
       "<style scoped>\n",
       "    .dataframe tbody tr th:only-of-type {\n",
       "        vertical-align: middle;\n",
       "    }\n",
       "\n",
       "    .dataframe tbody tr th {\n",
       "        vertical-align: top;\n",
       "    }\n",
       "\n",
       "    .dataframe thead th {\n",
       "        text-align: right;\n",
       "    }\n",
       "</style>\n",
       "<table border=\"1\" class=\"dataframe\">\n",
       "  <thead>\n",
       "    <tr style=\"text-align: right;\">\n",
       "      <th></th>\n",
       "      <th>shopping_pt</th>\n",
       "      <th>record_type</th>\n",
       "      <th>state</th>\n",
       "      <th>location</th>\n",
       "      <th>group_size</th>\n",
       "      <th>homeowner</th>\n",
       "      <th>car_age</th>\n",
       "      <th>car_value</th>\n",
       "      <th>risk_factor</th>\n",
       "      <th>age_oldest</th>\n",
       "      <th>...</th>\n",
       "      <th>c_previous</th>\n",
       "      <th>duration_previous</th>\n",
       "      <th>a</th>\n",
       "      <th>b</th>\n",
       "      <th>c</th>\n",
       "      <th>d</th>\n",
       "      <th>e</th>\n",
       "      <th>f</th>\n",
       "      <th>g</th>\n",
       "      <th>cost</th>\n",
       "    </tr>\n",
       "  </thead>\n",
       "  <tbody>\n",
       "    <tr>\n",
       "      <th>358849</th>\n",
       "      <td>6</td>\n",
       "      <td>0</td>\n",
       "      <td>24</td>\n",
       "      <td>4842</td>\n",
       "      <td>0</td>\n",
       "      <td>1</td>\n",
       "      <td>1</td>\n",
       "      <td>6</td>\n",
       "      <td>2</td>\n",
       "      <td>26</td>\n",
       "      <td>...</td>\n",
       "      <td>2</td>\n",
       "      <td>6</td>\n",
       "      <td>1</td>\n",
       "      <td>0</td>\n",
       "      <td>2</td>\n",
       "      <td>2</td>\n",
       "      <td>0</td>\n",
       "      <td>2</td>\n",
       "      <td>3</td>\n",
       "      <td>655</td>\n",
       "    </tr>\n",
       "    <tr>\n",
       "      <th>601748</th>\n",
       "      <td>4</td>\n",
       "      <td>0</td>\n",
       "      <td>6</td>\n",
       "      <td>898</td>\n",
       "      <td>0</td>\n",
       "      <td>0</td>\n",
       "      <td>9</td>\n",
       "      <td>7</td>\n",
       "      <td>0</td>\n",
       "      <td>34</td>\n",
       "      <td>...</td>\n",
       "      <td>2</td>\n",
       "      <td>4</td>\n",
       "      <td>1</td>\n",
       "      <td>0</td>\n",
       "      <td>0</td>\n",
       "      <td>1</td>\n",
       "      <td>0</td>\n",
       "      <td>2</td>\n",
       "      <td>2</td>\n",
       "      <td>652</td>\n",
       "    </tr>\n",
       "    <tr>\n",
       "      <th>532726</th>\n",
       "      <td>6</td>\n",
       "      <td>0</td>\n",
       "      <td>30</td>\n",
       "      <td>2429</td>\n",
       "      <td>0</td>\n",
       "      <td>0</td>\n",
       "      <td>11</td>\n",
       "      <td>4</td>\n",
       "      <td>2</td>\n",
       "      <td>38</td>\n",
       "      <td>...</td>\n",
       "      <td>1</td>\n",
       "      <td>3</td>\n",
       "      <td>1</td>\n",
       "      <td>0</td>\n",
       "      <td>1</td>\n",
       "      <td>1</td>\n",
       "      <td>1</td>\n",
       "      <td>2</td>\n",
       "      <td>1</td>\n",
       "      <td>660</td>\n",
       "    </tr>\n",
       "    <tr>\n",
       "      <th>498727</th>\n",
       "      <td>1</td>\n",
       "      <td>0</td>\n",
       "      <td>6</td>\n",
       "      <td>2657</td>\n",
       "      <td>0</td>\n",
       "      <td>0</td>\n",
       "      <td>14</td>\n",
       "      <td>4</td>\n",
       "      <td>2</td>\n",
       "      <td>31</td>\n",
       "      <td>...</td>\n",
       "      <td>1</td>\n",
       "      <td>2</td>\n",
       "      <td>1</td>\n",
       "      <td>1</td>\n",
       "      <td>0</td>\n",
       "      <td>0</td>\n",
       "      <td>1</td>\n",
       "      <td>2</td>\n",
       "      <td>3</td>\n",
       "      <td>684</td>\n",
       "    </tr>\n",
       "    <tr>\n",
       "      <th>594418</th>\n",
       "      <td>2</td>\n",
       "      <td>0</td>\n",
       "      <td>23</td>\n",
       "      <td>509</td>\n",
       "      <td>0</td>\n",
       "      <td>0</td>\n",
       "      <td>10</td>\n",
       "      <td>3</td>\n",
       "      <td>1</td>\n",
       "      <td>27</td>\n",
       "      <td>...</td>\n",
       "      <td>2</td>\n",
       "      <td>4</td>\n",
       "      <td>1</td>\n",
       "      <td>1</td>\n",
       "      <td>2</td>\n",
       "      <td>2</td>\n",
       "      <td>0</td>\n",
       "      <td>0</td>\n",
       "      <td>0</td>\n",
       "      <td>624</td>\n",
       "    </tr>\n",
       "  </tbody>\n",
       "</table>\n",
       "<p>5 rows × 22 columns</p>\n",
       "</div>"
      ],
      "text/plain": [
       "        shopping_pt  record_type  state  location  group_size  homeowner  \\\n",
       "358849            6            0     24      4842           0          1   \n",
       "601748            4            0      6       898           0          0   \n",
       "532726            6            0     30      2429           0          0   \n",
       "498727            1            0      6      2657           0          0   \n",
       "594418            2            0     23       509           0          0   \n",
       "\n",
       "        car_age  car_value  risk_factor  age_oldest  ...  c_previous  \\\n",
       "358849        1          6            2          26  ...           2   \n",
       "601748        9          7            0          34  ...           2   \n",
       "532726       11          4            2          38  ...           1   \n",
       "498727       14          4            2          31  ...           1   \n",
       "594418       10          3            1          27  ...           2   \n",
       "\n",
       "        duration_previous  a  b  c  d  e  f  g  cost  \n",
       "358849                  6  1  0  2  2  0  2  3   655  \n",
       "601748                  4  1  0  0  1  0  2  2   652  \n",
       "532726                  3  1  0  1  1  1  2  1   660  \n",
       "498727                  2  1  1  0  0  1  2  3   684  \n",
       "594418                  4  1  1  2  2  0  0  0   624  \n",
       "\n",
       "[5 rows x 22 columns]"
      ]
     },
     "execution_count": 65,
     "metadata": {},
     "output_type": "execute_result"
    }
   ],
   "source": [
    "df_sample.head()"
   ]
  },
  {
   "cell_type": "code",
   "execution_count": 66,
   "metadata": {},
   "outputs": [
    {
     "data": {
      "text/plain": [
       "<bound method DataFrame.info of         shopping_pt  record_type  state  location  group_size  homeowner  \\\n",
       "358849            6            0     24      4842           0          1   \n",
       "601748            4            0      6       898           0          0   \n",
       "532726            6            0     30      2429           0          0   \n",
       "498727            1            0      6      2657           0          0   \n",
       "594418            2            0     23       509           0          0   \n",
       "...             ...          ...    ...       ...         ...        ...   \n",
       "588519            2            0     24      1484           2          1   \n",
       "370747            6            0     23       361           0          1   \n",
       "483541            3            0      2       796           0          1   \n",
       "442561            6            0     32      4737           0          0   \n",
       "197689            9            1     23      3306           0          0   \n",
       "\n",
       "        car_age  car_value  risk_factor  age_oldest  ...  c_previous  \\\n",
       "358849        1          6            2          26  ...           2   \n",
       "601748        9          7            0          34  ...           2   \n",
       "532726       11          4            2          38  ...           1   \n",
       "498727       14          4            2          31  ...           1   \n",
       "594418       10          3            1          27  ...           2   \n",
       "...         ...        ...          ...         ...  ...         ...   \n",
       "588519       13          3            3          42  ...           2   \n",
       "370747        1          5            1          57  ...           3   \n",
       "483541        7          4            1          65  ...           2   \n",
       "442561        3          4            2          69  ...           1   \n",
       "197689        6          5            3          41  ...           2   \n",
       "\n",
       "        duration_previous  a  b  c  d  e  f  g  cost  \n",
       "358849                  6  1  0  2  2  0  2  3   655  \n",
       "601748                  4  1  0  0  1  0  2  2   652  \n",
       "532726                  3  1  0  1  1  1  2  1   660  \n",
       "498727                  2  1  1  0  0  1  2  3   684  \n",
       "594418                  4  1  1  2  2  0  0  0   624  \n",
       "...                   ... .. .. .. .. .. .. ..   ...  \n",
       "588519                  3  0  1  2  2  0  0  2   652  \n",
       "370747                  5  1  0  2  2  0  0  1   599  \n",
       "483541                  3  2  0  2  2  1  2  2   612  \n",
       "442561                 11  1  0  1  1  0  1  0   687  \n",
       "197689                 15  0  0  0  1  0  0  1   659  \n",
       "\n",
       "[64565 rows x 22 columns]>"
      ]
     },
     "execution_count": 66,
     "metadata": {},
     "output_type": "execute_result"
    }
   ],
   "source": [
    "df_sample.info"
   ]
  },
  {
   "cell_type": "code",
   "execution_count": 67,
   "metadata": {},
   "outputs": [
    {
     "name": "stdout",
     "output_type": "stream",
     "text": [
      "0.7.0\n"
     ]
    }
   ],
   "source": [
    "print(imblearn.__version__)"
   ]
  },
  {
   "cell_type": "code",
   "execution_count": 68,
   "metadata": {},
   "outputs": [],
   "source": [
    "train_df = df_sample"
   ]
  },
  {
   "cell_type": "code",
   "execution_count": 69,
   "metadata": {},
   "outputs": [],
   "source": [
    "X_df = train_df.drop('record_type',axis=1)"
   ]
  },
  {
   "cell_type": "code",
   "execution_count": 70,
   "metadata": {},
   "outputs": [
    {
     "data": {
      "text/plain": [
       "358849    0\n",
       "601748    0\n",
       "532726    0\n",
       "498727    0\n",
       "594418    0\n",
       "         ..\n",
       "588519    0\n",
       "370747    0\n",
       "483541    0\n",
       "442561    0\n",
       "197689    1\n",
       "Name: record_type, Length: 64565, dtype: int64"
      ]
     },
     "execution_count": 70,
     "metadata": {},
     "output_type": "execute_result"
    }
   ],
   "source": [
    "y_recordtype = train_df['record_type']\n",
    "y_recordtype"
   ]
  },
  {
   "cell_type": "code",
   "execution_count": 71,
   "metadata": {},
   "outputs": [],
   "source": [
    "# Split the data into a training and test set.\n",
    "Xlr, Xtestlr, ylr, ytestlr = train_test_split(X_df, \n",
    "                                              y_recordtype, test_size=0.1,random_state=42)"
   ]
  },
  {
   "cell_type": "code",
   "execution_count": 72,
   "metadata": {},
   "outputs": [
    {
     "name": "stdout",
     "output_type": "stream",
     "text": [
      "<class 'pandas.core.frame.DataFrame'>\n",
      "Int64Index: 58108 entries, 598565 to 585542\n",
      "Data columns (total 21 columns):\n",
      " #   Column             Non-Null Count  Dtype\n",
      "---  ------             --------------  -----\n",
      " 0   shopping_pt        58108 non-null  int64\n",
      " 1   state              58108 non-null  int64\n",
      " 2   location           58108 non-null  int64\n",
      " 3   group_size         58108 non-null  int64\n",
      " 4   homeowner          58108 non-null  int64\n",
      " 5   car_age            58108 non-null  int64\n",
      " 6   car_value          58108 non-null  int64\n",
      " 7   risk_factor        58108 non-null  int64\n",
      " 8   age_oldest         58108 non-null  int64\n",
      " 9   age_youngest       58108 non-null  int64\n",
      " 10  married_couple     58108 non-null  int64\n",
      " 11  c_previous         58108 non-null  int64\n",
      " 12  duration_previous  58108 non-null  int64\n",
      " 13  a                  58108 non-null  int64\n",
      " 14  b                  58108 non-null  int64\n",
      " 15  c                  58108 non-null  int64\n",
      " 16  d                  58108 non-null  int64\n",
      " 17  e                  58108 non-null  int64\n",
      " 18  f                  58108 non-null  int64\n",
      " 19  g                  58108 non-null  int64\n",
      " 20  cost               58108 non-null  int64\n",
      "dtypes: int64(21)\n",
      "memory usage: 9.8 MB\n"
     ]
    }
   ],
   "source": [
    "Xlr.info()"
   ]
  },
  {
   "cell_type": "code",
   "execution_count": 73,
   "metadata": {},
   "outputs": [
    {
     "data": {
      "text/plain": [
       "58108"
      ]
     },
     "execution_count": 73,
     "metadata": {},
     "output_type": "execute_result"
    }
   ],
   "source": [
    "ylr.count()"
   ]
  },
  {
   "cell_type": "code",
   "execution_count": 74,
   "metadata": {},
   "outputs": [
    {
     "data": {
      "text/plain": [
       "0    49475\n",
       "1     8633\n",
       "Name: record_type, dtype: int64"
      ]
     },
     "execution_count": 74,
     "metadata": {},
     "output_type": "execute_result"
    }
   ],
   "source": [
    "ylr.value_counts()"
   ]
  },
  {
   "cell_type": "code",
   "execution_count": 75,
   "metadata": {},
   "outputs": [],
   "source": [
    "oversample = SMOTE()"
   ]
  },
  {
   "cell_type": "code",
   "execution_count": 76,
   "metadata": {},
   "outputs": [],
   "source": [
    "X, y = oversample.fit_resample(Xlr, ylr)"
   ]
  },
  {
   "cell_type": "code",
   "execution_count": 77,
   "metadata": {},
   "outputs": [
    {
     "name": "stdout",
     "output_type": "stream",
     "text": [
      "<class 'pandas.core.frame.DataFrame'>\n",
      "RangeIndex: 98950 entries, 0 to 98949\n",
      "Data columns (total 21 columns):\n",
      " #   Column             Non-Null Count  Dtype\n",
      "---  ------             --------------  -----\n",
      " 0   shopping_pt        98950 non-null  int64\n",
      " 1   state              98950 non-null  int64\n",
      " 2   location           98950 non-null  int64\n",
      " 3   group_size         98950 non-null  int64\n",
      " 4   homeowner          98950 non-null  int64\n",
      " 5   car_age            98950 non-null  int64\n",
      " 6   car_value          98950 non-null  int64\n",
      " 7   risk_factor        98950 non-null  int64\n",
      " 8   age_oldest         98950 non-null  int64\n",
      " 9   age_youngest       98950 non-null  int64\n",
      " 10  married_couple     98950 non-null  int64\n",
      " 11  c_previous         98950 non-null  int64\n",
      " 12  duration_previous  98950 non-null  int64\n",
      " 13  a                  98950 non-null  int64\n",
      " 14  b                  98950 non-null  int64\n",
      " 15  c                  98950 non-null  int64\n",
      " 16  d                  98950 non-null  int64\n",
      " 17  e                  98950 non-null  int64\n",
      " 18  f                  98950 non-null  int64\n",
      " 19  g                  98950 non-null  int64\n",
      " 20  cost               98950 non-null  int64\n",
      "dtypes: int64(21)\n",
      "memory usage: 15.9 MB\n"
     ]
    }
   ],
   "source": [
    "X.info()"
   ]
  },
  {
   "cell_type": "code",
   "execution_count": 78,
   "metadata": {},
   "outputs": [
    {
     "data": {
      "text/plain": [
       "98950"
      ]
     },
     "execution_count": 78,
     "metadata": {},
     "output_type": "execute_result"
    }
   ],
   "source": [
    "y.count()"
   ]
  },
  {
   "cell_type": "code",
   "execution_count": 79,
   "metadata": {},
   "outputs": [
    {
     "data": {
      "text/plain": [
       "1    49475\n",
       "0    49475\n",
       "Name: record_type, dtype: int64"
      ]
     },
     "execution_count": 79,
     "metadata": {},
     "output_type": "execute_result"
    }
   ],
   "source": [
    "y.value_counts()"
   ]
  },
  {
   "cell_type": "markdown",
   "metadata": {},
   "source": [
    "After applying SMOTE, number of successful records 1 increased from 57671 to 329717. Now its 50%"
   ]
  },
  {
   "cell_type": "code",
   "execution_count": 80,
   "metadata": {},
   "outputs": [
    {
     "name": "stdout",
     "output_type": "stream",
     "text": [
      "0.7518971658665015\n"
     ]
    },
    {
     "name": "stderr",
     "output_type": "stream",
     "text": [
      "/Applications/anaconda3/lib/python3.7/site-packages/sklearn/linear_model/_logistic.py:765: ConvergenceWarning: lbfgs failed to converge (status=1):\n",
      "STOP: TOTAL NO. of ITERATIONS REACHED LIMIT.\n",
      "\n",
      "Increase the number of iterations (max_iter) or scale the data as shown in:\n",
      "    https://scikit-learn.org/stable/modules/preprocessing.html\n",
      "Please also refer to the documentation for alternative solver options:\n",
      "    https://scikit-learn.org/stable/modules/linear_model.html#logistic-regression\n",
      "  extra_warning_msg=_LOGISTIC_SOLVER_CONVERGENCE_MSG)\n"
     ]
    }
   ],
   "source": [
    "# Applyting LogisticRegression\n",
    "\n",
    "clf = LogisticRegression()\n",
    "# Fit the model on the trainng data.\n",
    "clf.fit(X, y)\n",
    "# Print the accuracy from the testing data.\n",
    "print(accuracy_score(clf.predict(Xtestlr), ytestlr))"
   ]
  },
  {
   "cell_type": "code",
   "execution_count": 81,
   "metadata": {},
   "outputs": [
    {
     "name": "stdout",
     "output_type": "stream",
     "text": [
      "0    5525\n",
      "1     932\n",
      "Name: record_type, dtype: int64\n"
     ]
    }
   ],
   "source": [
    "print(ytestlr.value_counts())"
   ]
  },
  {
   "cell_type": "code",
   "execution_count": 82,
   "metadata": {},
   "outputs": [
    {
     "name": "stdout",
     "output_type": "stream",
     "text": [
      "[[4168 1357]\n",
      " [ 245  687]]\n"
     ]
    }
   ],
   "source": [
    "print(confusion_matrix(ytestlr, clf.predict(Xtestlr)))"
   ]
  },
  {
   "cell_type": "code",
   "execution_count": 83,
   "metadata": {},
   "outputs": [
    {
     "name": "stdout",
     "output_type": "stream",
     "text": [
      "              precision    recall  f1-score   support\n",
      "\n",
      "           0       0.94      0.75      0.84      5525\n",
      "           1       0.34      0.74      0.46       932\n",
      "\n",
      "    accuracy                           0.75      6457\n",
      "   macro avg       0.64      0.75      0.65      6457\n",
      "weighted avg       0.86      0.75      0.78      6457\n",
      "\n"
     ]
    }
   ],
   "source": [
    "print(classification_report(ytestlr, clf.predict(Xtestlr)))"
   ]
  },
  {
   "cell_type": "code",
   "execution_count": 84,
   "metadata": {},
   "outputs": [],
   "source": [
    "# Applying KNeighborsClassifier\n",
    "\n",
    "knn = KNeighborsClassifier(n_neighbors=6)"
   ]
  },
  {
   "cell_type": "code",
   "execution_count": 85,
   "metadata": {
    "scrolled": true
   },
   "outputs": [],
   "source": [
    "knn.fit(X,y)\n",
    "y_pred_knn = knn.predict(Xtestlr)"
   ]
  },
  {
   "cell_type": "code",
   "execution_count": 86,
   "metadata": {},
   "outputs": [
    {
     "name": "stdout",
     "output_type": "stream",
     "text": [
      "[[3726 1799]\n",
      " [ 583  349]]\n"
     ]
    }
   ],
   "source": [
    "print(confusion_matrix(ytestlr, y_pred_knn))"
   ]
  },
  {
   "cell_type": "code",
   "execution_count": 87,
   "metadata": {},
   "outputs": [
    {
     "name": "stdout",
     "output_type": "stream",
     "text": [
      "              precision    recall  f1-score   support\n",
      "\n",
      "           0       0.86      0.67      0.76      5525\n",
      "           1       0.16      0.37      0.23       932\n",
      "\n",
      "    accuracy                           0.63      6457\n",
      "   macro avg       0.51      0.52      0.49      6457\n",
      "weighted avg       0.76      0.63      0.68      6457\n",
      "\n"
     ]
    }
   ],
   "source": [
    "print(classification_report(ytestlr, y_pred_knn))"
   ]
  },
  {
   "cell_type": "markdown",
   "metadata": {},
   "source": [
    "Performing hyperprameter tuning, to check with different n_neighbors values"
   ]
  },
  {
   "cell_type": "code",
   "execution_count": 88,
   "metadata": {},
   "outputs": [
    {
     "name": "stdout",
     "output_type": "stream",
     "text": [
      " Iterating with n_neighbors  1\n",
      "[[4364 1161]\n",
      " [ 671  261]]\n",
      "              precision    recall  f1-score   support\n",
      "\n",
      "           0       0.87      0.79      0.83      5525\n",
      "           1       0.18      0.28      0.22       932\n",
      "\n",
      "    accuracy                           0.72      6457\n",
      "   macro avg       0.53      0.53      0.52      6457\n",
      "weighted avg       0.77      0.72      0.74      6457\n",
      "\n",
      " Iterating with n_neighbors  2\n",
      "[[4666  859]\n",
      " [ 735  197]]\n",
      "              precision    recall  f1-score   support\n",
      "\n",
      "           0       0.86      0.84      0.85      5525\n",
      "           1       0.19      0.21      0.20       932\n",
      "\n",
      "    accuracy                           0.75      6457\n",
      "   macro avg       0.53      0.53      0.53      6457\n",
      "weighted avg       0.77      0.75      0.76      6457\n",
      "\n",
      " Iterating with n_neighbors  3\n",
      "[[3780 1745]\n",
      " [ 589  343]]\n",
      "              precision    recall  f1-score   support\n",
      "\n",
      "           0       0.87      0.68      0.76      5525\n",
      "           1       0.16      0.37      0.23       932\n",
      "\n",
      "    accuracy                           0.64      6457\n",
      "   macro avg       0.51      0.53      0.50      6457\n",
      "weighted avg       0.76      0.64      0.69      6457\n",
      "\n",
      " Iterating with n_neighbors  4\n",
      "[[4060 1465]\n",
      " [ 646  286]]\n",
      "              precision    recall  f1-score   support\n",
      "\n",
      "           0       0.86      0.73      0.79      5525\n",
      "           1       0.16      0.31      0.21       932\n",
      "\n",
      "    accuracy                           0.67      6457\n",
      "   macro avg       0.51      0.52      0.50      6457\n",
      "weighted avg       0.76      0.67      0.71      6457\n",
      "\n"
     ]
    }
   ],
   "source": [
    "\n",
    "for k in range(1,5):\n",
    "    print(\" Iterating with n_neighbors \", k)\n",
    "    knn_h = KNeighborsClassifier(n_neighbors=k)\n",
    "    knn_h.fit(X,y)\n",
    "    y_pred_knn_h = knn_h.predict(Xtestlr)\n",
    "    print(confusion_matrix(ytestlr, y_pred_knn_h))\n",
    "    print(classification_report(ytestlr, y_pred_knn_h))"
   ]
  },
  {
   "cell_type": "code",
   "execution_count": 89,
   "metadata": {},
   "outputs": [],
   "source": [
    "# Applying Random Forest\n",
    "\n",
    "from sklearn.ensemble import RandomForestClassifier"
   ]
  },
  {
   "cell_type": "code",
   "execution_count": 90,
   "metadata": {},
   "outputs": [
    {
     "data": {
      "text/plain": [
       "RandomForestClassifier()"
      ]
     },
     "execution_count": 90,
     "metadata": {},
     "output_type": "execute_result"
    }
   ],
   "source": [
    "# define the model\n",
    "rfc = RandomForestClassifier()\n",
    "# fit the model on the whole dataset\n",
    "rfc.fit(X, y)"
   ]
  },
  {
   "cell_type": "code",
   "execution_count": 91,
   "metadata": {},
   "outputs": [],
   "source": [
    "yhat = rfc.predict(Xtestlr)"
   ]
  },
  {
   "cell_type": "code",
   "execution_count": 92,
   "metadata": {},
   "outputs": [
    {
     "data": {
      "text/plain": [
       "array([0, 0, 0, ..., 0, 1, 0])"
      ]
     },
     "execution_count": 92,
     "metadata": {},
     "output_type": "execute_result"
    }
   ],
   "source": [
    "yhat"
   ]
  },
  {
   "cell_type": "code",
   "execution_count": 93,
   "metadata": {},
   "outputs": [
    {
     "name": "stdout",
     "output_type": "stream",
     "text": [
      "[[4803  722]\n",
      " [ 480  452]]\n"
     ]
    }
   ],
   "source": [
    "print(confusion_matrix(ytestlr, yhat))"
   ]
  },
  {
   "cell_type": "code",
   "execution_count": 94,
   "metadata": {},
   "outputs": [
    {
     "name": "stdout",
     "output_type": "stream",
     "text": [
      "              precision    recall  f1-score   support\n",
      "\n",
      "           0       0.91      0.87      0.89      5525\n",
      "           1       0.39      0.48      0.43       932\n",
      "\n",
      "    accuracy                           0.81      6457\n",
      "   macro avg       0.65      0.68      0.66      6457\n",
      "weighted avg       0.83      0.81      0.82      6457\n",
      "\n"
     ]
    }
   ],
   "source": [
    "print(classification_report(ytestlr, yhat))"
   ]
  },
  {
   "cell_type": "code",
   "execution_count": 96,
   "metadata": {},
   "outputs": [],
   "source": [
    "from sklearn.svm import OneClassSVM\n",
    "from sklearn import svm"
   ]
  },
  {
   "cell_type": "code",
   "execution_count": 97,
   "metadata": {},
   "outputs": [],
   "source": [
    "#svm_clf = OneClassSVM(kernel='linear',gamma='auto',class_weight='').fit(X)\n",
    "\n",
    "#svm.SVC(kernel='linear', class_weight={1: 10})\n",
    "\n",
    "svm_clf = svm.SVC(kernel='linear', cache_size=7000,C=1.0)\n",
    "#\n",
    "#svm_clf =svm.OneClassSVM(nu=0.1, kernel=\"rbf\", gamma=0.1)"
   ]
  },
  {
   "cell_type": "code",
   "execution_count": 101,
   "metadata": {},
   "outputs": [
    {
     "data": {
      "text/plain": [
       "<bound method DataFrame.info of         shopping_pt  state  location  group_size  homeowner  car_age  \\\n",
       "598565           11      6       686           0          1        1   \n",
       "242179            1     23       388           1          1        1   \n",
       "94778             8      2      1014           0          0        1   \n",
       "414561            5      2      1302           0          1        7   \n",
       "655056            1     12       689           0          0       10   \n",
       "...             ...    ...       ...         ...        ...      ...   \n",
       "230169            2     13      2324           0          1        1   \n",
       "467555            5     27      1029           1          1       16   \n",
       "319089            8     24      1089           1          1        1   \n",
       "299912            1     10      4918           0          0       12   \n",
       "585542            4      6       253           0          0        9   \n",
       "\n",
       "        car_value  risk_factor  age_oldest  age_youngest  ...  c_previous  \\\n",
       "598565          6            1          64            64  ...           3   \n",
       "242179          6            1          27            27  ...           3   \n",
       "94778           6            2          34            34  ...           0   \n",
       "414561          5            2          55            55  ...           3   \n",
       "655056          5            2          24            24  ...           0   \n",
       "...           ...          ...         ...           ...  ...         ...   \n",
       "230169          6            2          65            65  ...           2   \n",
       "467555          4            3          25            24  ...           2   \n",
       "319089          5            3          53            51  ...           2   \n",
       "299912          7            2          20            20  ...           2   \n",
       "585542          3            2          23            23  ...           2   \n",
       "\n",
       "        duration_previous  a  b  c  d  e  f  g  cost  \n",
       "598565                  7  1  0  3  2  1  2  2   672  \n",
       "242179                  6  2  0  2  1  1  0  0   605  \n",
       "94778                   5  1  0  0  2  1  2  2   694  \n",
       "414561                  4  1  0  3  2  1  2  1   655  \n",
       "655056                  1  1  0  2  2  0  2  1   715  \n",
       "...                   ... .. .. .. .. .. .. ..   ...  \n",
       "230169                  1  1  1  2  2  1  1  3   679  \n",
       "467555                  8  0  0  2  2  0  1  1   556  \n",
       "319089                  1  1  0  2  2  1  1  2   594  \n",
       "299912                  1  1  0  1  1  0  1  1   778  \n",
       "585542                  5  0  0  0  1  0  0  2   638  \n",
       "\n",
       "[58108 rows x 21 columns]>"
      ]
     },
     "execution_count": 101,
     "metadata": {},
     "output_type": "execute_result"
    }
   ],
   "source": [
    "Xlr.info"
   ]
  },
  {
   "cell_type": "code",
   "execution_count": 103,
   "metadata": {},
   "outputs": [
    {
     "data": {
      "text/plain": [
       "0    49475\n",
       "1     8633\n",
       "Name: record_type, dtype: int64"
      ]
     },
     "execution_count": 103,
     "metadata": {},
     "output_type": "execute_result"
    }
   ],
   "source": [
    "ylr.value_counts()"
   ]
  },
  {
   "cell_type": "code",
   "execution_count": 107,
   "metadata": {},
   "outputs": [],
   "source": [
    "df_sample_red = df_s.sample(frac=0.05, replace=True)"
   ]
  },
  {
   "cell_type": "code",
   "execution_count": 108,
   "metadata": {},
   "outputs": [
    {
     "data": {
      "text/plain": [
       "<bound method DataFrame.info of         shopping_pt  record_type  state  location  group_size  homeowner  \\\n",
       "582501            6            0     10      2726           0          1   \n",
       "215736            9            1     27       983           0          0   \n",
       "178385            3            0     23      4549           0          0   \n",
       "19055             1            0     32       356           0          1   \n",
       "585450            3            1      6       932           0          1   \n",
       "...             ...          ...    ...       ...         ...        ...   \n",
       "140579            2            0     22      1983           0          1   \n",
       "284663            3            0     27      2249           1          1   \n",
       "577346            4            1      6      1807           0          1   \n",
       "51386             3            0      0      1471           0          1   \n",
       "292211            4            0      6      3889           0          1   \n",
       "\n",
       "        car_age  car_value  risk_factor  age_oldest  ...  c_previous  \\\n",
       "582501        7          6            3          24  ...           0   \n",
       "215736        1          7            2          30  ...           2   \n",
       "178385        3          4            1          38  ...           2   \n",
       "19055         1          5            2          38  ...           2   \n",
       "585450        7          3            0          26  ...           0   \n",
       "...         ...        ...          ...         ...  ...         ...   \n",
       "140579        5          8            3          75  ...           2   \n",
       "284663        8          7            2          75  ...           2   \n",
       "577346       18          5            1          59  ...           2   \n",
       "51386        15          5            2          23  ...           2   \n",
       "292211        1          4            2          29  ...           2   \n",
       "\n",
       "        duration_previous  a  b  c  d  e  f  g  cost  \n",
       "582501                  1  1  0  0  0  0  2  0   674  \n",
       "215736                 13  1  0  2  2  0  1  1   692  \n",
       "178385                  3  1  0  2  2  1  0  2   658  \n",
       "19055                   3  1  0  1  2  0  2  3   667  \n",
       "585450                 11  1  1  0  0  0  2  2   613  \n",
       "...                   ... .. .. .. .. .. .. ..   ...  \n",
       "140579                  3  1  0  2  2  0  1  0   735  \n",
       "284663                  2  1  1  2  2  1  2  0   645  \n",
       "577346                  4  1  0  2  2  0  2  2   625  \n",
       "51386                   7  0  0  0  1  0  0  1   574  \n",
       "292211                  7  2  0  2  2  0  3  2   663  \n",
       "\n",
       "[32282 rows x 22 columns]>"
      ]
     },
     "execution_count": 108,
     "metadata": {},
     "output_type": "execute_result"
    }
   ],
   "source": [
    "df_sample_red.info"
   ]
  },
  {
   "cell_type": "code",
   "execution_count": 109,
   "metadata": {},
   "outputs": [
    {
     "data": {
      "text/html": [
       "<div>\n",
       "<style scoped>\n",
       "    .dataframe tbody tr th:only-of-type {\n",
       "        vertical-align: middle;\n",
       "    }\n",
       "\n",
       "    .dataframe tbody tr th {\n",
       "        vertical-align: top;\n",
       "    }\n",
       "\n",
       "    .dataframe thead th {\n",
       "        text-align: right;\n",
       "    }\n",
       "</style>\n",
       "<table border=\"1\" class=\"dataframe\">\n",
       "  <thead>\n",
       "    <tr style=\"text-align: right;\">\n",
       "      <th></th>\n",
       "      <th>shopping_pt</th>\n",
       "      <th>state</th>\n",
       "      <th>location</th>\n",
       "      <th>group_size</th>\n",
       "      <th>homeowner</th>\n",
       "      <th>car_age</th>\n",
       "      <th>car_value</th>\n",
       "      <th>risk_factor</th>\n",
       "      <th>age_oldest</th>\n",
       "      <th>age_youngest</th>\n",
       "      <th>...</th>\n",
       "      <th>c_previous</th>\n",
       "      <th>duration_previous</th>\n",
       "      <th>a</th>\n",
       "      <th>b</th>\n",
       "      <th>c</th>\n",
       "      <th>d</th>\n",
       "      <th>e</th>\n",
       "      <th>f</th>\n",
       "      <th>g</th>\n",
       "      <th>cost</th>\n",
       "    </tr>\n",
       "  </thead>\n",
       "  <tbody>\n",
       "    <tr>\n",
       "      <th>582501</th>\n",
       "      <td>6</td>\n",
       "      <td>10</td>\n",
       "      <td>2726</td>\n",
       "      <td>0</td>\n",
       "      <td>1</td>\n",
       "      <td>7</td>\n",
       "      <td>6</td>\n",
       "      <td>3</td>\n",
       "      <td>24</td>\n",
       "      <td>24</td>\n",
       "      <td>...</td>\n",
       "      <td>0</td>\n",
       "      <td>1</td>\n",
       "      <td>1</td>\n",
       "      <td>0</td>\n",
       "      <td>0</td>\n",
       "      <td>0</td>\n",
       "      <td>0</td>\n",
       "      <td>2</td>\n",
       "      <td>0</td>\n",
       "      <td>674</td>\n",
       "    </tr>\n",
       "    <tr>\n",
       "      <th>215736</th>\n",
       "      <td>9</td>\n",
       "      <td>27</td>\n",
       "      <td>983</td>\n",
       "      <td>0</td>\n",
       "      <td>0</td>\n",
       "      <td>1</td>\n",
       "      <td>7</td>\n",
       "      <td>2</td>\n",
       "      <td>30</td>\n",
       "      <td>30</td>\n",
       "      <td>...</td>\n",
       "      <td>2</td>\n",
       "      <td>13</td>\n",
       "      <td>1</td>\n",
       "      <td>0</td>\n",
       "      <td>2</td>\n",
       "      <td>2</td>\n",
       "      <td>0</td>\n",
       "      <td>1</td>\n",
       "      <td>1</td>\n",
       "      <td>692</td>\n",
       "    </tr>\n",
       "    <tr>\n",
       "      <th>178385</th>\n",
       "      <td>3</td>\n",
       "      <td>23</td>\n",
       "      <td>4549</td>\n",
       "      <td>0</td>\n",
       "      <td>0</td>\n",
       "      <td>3</td>\n",
       "      <td>4</td>\n",
       "      <td>1</td>\n",
       "      <td>38</td>\n",
       "      <td>38</td>\n",
       "      <td>...</td>\n",
       "      <td>2</td>\n",
       "      <td>3</td>\n",
       "      <td>1</td>\n",
       "      <td>0</td>\n",
       "      <td>2</td>\n",
       "      <td>2</td>\n",
       "      <td>1</td>\n",
       "      <td>0</td>\n",
       "      <td>2</td>\n",
       "      <td>658</td>\n",
       "    </tr>\n",
       "    <tr>\n",
       "      <th>19055</th>\n",
       "      <td>1</td>\n",
       "      <td>32</td>\n",
       "      <td>356</td>\n",
       "      <td>0</td>\n",
       "      <td>1</td>\n",
       "      <td>1</td>\n",
       "      <td>5</td>\n",
       "      <td>2</td>\n",
       "      <td>38</td>\n",
       "      <td>38</td>\n",
       "      <td>...</td>\n",
       "      <td>2</td>\n",
       "      <td>3</td>\n",
       "      <td>1</td>\n",
       "      <td>0</td>\n",
       "      <td>1</td>\n",
       "      <td>2</td>\n",
       "      <td>0</td>\n",
       "      <td>2</td>\n",
       "      <td>3</td>\n",
       "      <td>667</td>\n",
       "    </tr>\n",
       "    <tr>\n",
       "      <th>585450</th>\n",
       "      <td>3</td>\n",
       "      <td>6</td>\n",
       "      <td>932</td>\n",
       "      <td>0</td>\n",
       "      <td>1</td>\n",
       "      <td>7</td>\n",
       "      <td>3</td>\n",
       "      <td>0</td>\n",
       "      <td>26</td>\n",
       "      <td>26</td>\n",
       "      <td>...</td>\n",
       "      <td>0</td>\n",
       "      <td>11</td>\n",
       "      <td>1</td>\n",
       "      <td>1</td>\n",
       "      <td>0</td>\n",
       "      <td>0</td>\n",
       "      <td>0</td>\n",
       "      <td>2</td>\n",
       "      <td>2</td>\n",
       "      <td>613</td>\n",
       "    </tr>\n",
       "    <tr>\n",
       "      <th>...</th>\n",
       "      <td>...</td>\n",
       "      <td>...</td>\n",
       "      <td>...</td>\n",
       "      <td>...</td>\n",
       "      <td>...</td>\n",
       "      <td>...</td>\n",
       "      <td>...</td>\n",
       "      <td>...</td>\n",
       "      <td>...</td>\n",
       "      <td>...</td>\n",
       "      <td>...</td>\n",
       "      <td>...</td>\n",
       "      <td>...</td>\n",
       "      <td>...</td>\n",
       "      <td>...</td>\n",
       "      <td>...</td>\n",
       "      <td>...</td>\n",
       "      <td>...</td>\n",
       "      <td>...</td>\n",
       "      <td>...</td>\n",
       "      <td>...</td>\n",
       "    </tr>\n",
       "    <tr>\n",
       "      <th>140579</th>\n",
       "      <td>2</td>\n",
       "      <td>22</td>\n",
       "      <td>1983</td>\n",
       "      <td>0</td>\n",
       "      <td>1</td>\n",
       "      <td>5</td>\n",
       "      <td>8</td>\n",
       "      <td>3</td>\n",
       "      <td>75</td>\n",
       "      <td>75</td>\n",
       "      <td>...</td>\n",
       "      <td>2</td>\n",
       "      <td>3</td>\n",
       "      <td>1</td>\n",
       "      <td>0</td>\n",
       "      <td>2</td>\n",
       "      <td>2</td>\n",
       "      <td>0</td>\n",
       "      <td>1</td>\n",
       "      <td>0</td>\n",
       "      <td>735</td>\n",
       "    </tr>\n",
       "    <tr>\n",
       "      <th>284663</th>\n",
       "      <td>3</td>\n",
       "      <td>27</td>\n",
       "      <td>2249</td>\n",
       "      <td>1</td>\n",
       "      <td>1</td>\n",
       "      <td>8</td>\n",
       "      <td>7</td>\n",
       "      <td>2</td>\n",
       "      <td>75</td>\n",
       "      <td>56</td>\n",
       "      <td>...</td>\n",
       "      <td>2</td>\n",
       "      <td>2</td>\n",
       "      <td>1</td>\n",
       "      <td>1</td>\n",
       "      <td>2</td>\n",
       "      <td>2</td>\n",
       "      <td>1</td>\n",
       "      <td>2</td>\n",
       "      <td>0</td>\n",
       "      <td>645</td>\n",
       "    </tr>\n",
       "    <tr>\n",
       "      <th>577346</th>\n",
       "      <td>4</td>\n",
       "      <td>6</td>\n",
       "      <td>1807</td>\n",
       "      <td>0</td>\n",
       "      <td>1</td>\n",
       "      <td>18</td>\n",
       "      <td>5</td>\n",
       "      <td>1</td>\n",
       "      <td>59</td>\n",
       "      <td>59</td>\n",
       "      <td>...</td>\n",
       "      <td>2</td>\n",
       "      <td>4</td>\n",
       "      <td>1</td>\n",
       "      <td>0</td>\n",
       "      <td>2</td>\n",
       "      <td>2</td>\n",
       "      <td>0</td>\n",
       "      <td>2</td>\n",
       "      <td>2</td>\n",
       "      <td>625</td>\n",
       "    </tr>\n",
       "    <tr>\n",
       "      <th>51386</th>\n",
       "      <td>3</td>\n",
       "      <td>0</td>\n",
       "      <td>1471</td>\n",
       "      <td>0</td>\n",
       "      <td>1</td>\n",
       "      <td>15</td>\n",
       "      <td>5</td>\n",
       "      <td>2</td>\n",
       "      <td>23</td>\n",
       "      <td>23</td>\n",
       "      <td>...</td>\n",
       "      <td>2</td>\n",
       "      <td>7</td>\n",
       "      <td>0</td>\n",
       "      <td>0</td>\n",
       "      <td>0</td>\n",
       "      <td>1</td>\n",
       "      <td>0</td>\n",
       "      <td>0</td>\n",
       "      <td>1</td>\n",
       "      <td>574</td>\n",
       "    </tr>\n",
       "    <tr>\n",
       "      <th>292211</th>\n",
       "      <td>4</td>\n",
       "      <td>6</td>\n",
       "      <td>3889</td>\n",
       "      <td>0</td>\n",
       "      <td>1</td>\n",
       "      <td>1</td>\n",
       "      <td>4</td>\n",
       "      <td>2</td>\n",
       "      <td>29</td>\n",
       "      <td>29</td>\n",
       "      <td>...</td>\n",
       "      <td>2</td>\n",
       "      <td>7</td>\n",
       "      <td>2</td>\n",
       "      <td>0</td>\n",
       "      <td>2</td>\n",
       "      <td>2</td>\n",
       "      <td>0</td>\n",
       "      <td>3</td>\n",
       "      <td>2</td>\n",
       "      <td>663</td>\n",
       "    </tr>\n",
       "  </tbody>\n",
       "</table>\n",
       "<p>32282 rows × 21 columns</p>\n",
       "</div>"
      ],
      "text/plain": [
       "        shopping_pt  state  location  group_size  homeowner  car_age  \\\n",
       "582501            6     10      2726           0          1        7   \n",
       "215736            9     27       983           0          0        1   \n",
       "178385            3     23      4549           0          0        3   \n",
       "19055             1     32       356           0          1        1   \n",
       "585450            3      6       932           0          1        7   \n",
       "...             ...    ...       ...         ...        ...      ...   \n",
       "140579            2     22      1983           0          1        5   \n",
       "284663            3     27      2249           1          1        8   \n",
       "577346            4      6      1807           0          1       18   \n",
       "51386             3      0      1471           0          1       15   \n",
       "292211            4      6      3889           0          1        1   \n",
       "\n",
       "        car_value  risk_factor  age_oldest  age_youngest  ...  c_previous  \\\n",
       "582501          6            3          24            24  ...           0   \n",
       "215736          7            2          30            30  ...           2   \n",
       "178385          4            1          38            38  ...           2   \n",
       "19055           5            2          38            38  ...           2   \n",
       "585450          3            0          26            26  ...           0   \n",
       "...           ...          ...         ...           ...  ...         ...   \n",
       "140579          8            3          75            75  ...           2   \n",
       "284663          7            2          75            56  ...           2   \n",
       "577346          5            1          59            59  ...           2   \n",
       "51386           5            2          23            23  ...           2   \n",
       "292211          4            2          29            29  ...           2   \n",
       "\n",
       "        duration_previous  a  b  c  d  e  f  g  cost  \n",
       "582501                  1  1  0  0  0  0  2  0   674  \n",
       "215736                 13  1  0  2  2  0  1  1   692  \n",
       "178385                  3  1  0  2  2  1  0  2   658  \n",
       "19055                   3  1  0  1  2  0  2  3   667  \n",
       "585450                 11  1  1  0  0  0  2  2   613  \n",
       "...                   ... .. .. .. .. .. .. ..   ...  \n",
       "140579                  3  1  0  2  2  0  1  0   735  \n",
       "284663                  2  1  1  2  2  1  2  0   645  \n",
       "577346                  4  1  0  2  2  0  2  2   625  \n",
       "51386                   7  0  0  0  1  0  0  1   574  \n",
       "292211                  7  2  0  2  2  0  3  2   663  \n",
       "\n",
       "[32282 rows x 21 columns]"
      ]
     },
     "execution_count": 109,
     "metadata": {},
     "output_type": "execute_result"
    }
   ],
   "source": [
    "X_df_red = df_sample_red.drop('record_type',axis=1)\n",
    "X_df_red"
   ]
  },
  {
   "cell_type": "code",
   "execution_count": 112,
   "metadata": {},
   "outputs": [
    {
     "data": {
      "text/plain": [
       "582501    0\n",
       "215736    1\n",
       "178385    0\n",
       "19055     0\n",
       "585450    1\n",
       "         ..\n",
       "140579    0\n",
       "284663    0\n",
       "577346    1\n",
       "51386     0\n",
       "292211    0\n",
       "Name: record_type, Length: 32282, dtype: int64"
      ]
     },
     "execution_count": 112,
     "metadata": {},
     "output_type": "execute_result"
    }
   ],
   "source": [
    "y_recordtype_red = df_sample_red['record_type']\n",
    "y_recordtype_red"
   ]
  },
  {
   "cell_type": "code",
   "execution_count": 113,
   "metadata": {},
   "outputs": [],
   "source": [
    "# Split the data into a training and test set.\n",
    "Xlr_red, Xtestlr_red, ylr_red, ytestlr_red = train_test_split(X_df_red, \n",
    "                                              y_recordtype_red, test_size=0.1,random_state=42)"
   ]
  },
  {
   "cell_type": "code",
   "execution_count": 114,
   "metadata": {},
   "outputs": [
    {
     "data": {
      "text/plain": [
       "<bound method DataFrame.info of         shopping_pt  state  location  group_size  homeowner  car_age  \\\n",
       "476318            4     31        84           0          0        3   \n",
       "616684            2     23      3948           0          0        0   \n",
       "181726            5      2      3978           0          0        6   \n",
       "537925            5      6      3295           0          1        7   \n",
       "353160            4     27       138           1          0        4   \n",
       "...             ...    ...       ...         ...        ...      ...   \n",
       "134758            2      6      1039           0          0        7   \n",
       "522117            5      6      3974           1          1        2   \n",
       "141607            7     15      1683           0          1        3   \n",
       "340467            5      6      1548           0          1        4   \n",
       "640552            6     23      2036           0          0        6   \n",
       "\n",
       "        car_value  risk_factor  age_oldest  age_youngest  ...  c_previous  \\\n",
       "476318          3            2          22            22  ...           2   \n",
       "616684          6            2          26            26  ...           3   \n",
       "181726          3            2          27            27  ...           1   \n",
       "537925          4            0          64            64  ...           2   \n",
       "353160          4            2          35            34  ...           1   \n",
       "...           ...          ...         ...           ...  ...         ...   \n",
       "134758          5            2          53            53  ...           2   \n",
       "522117          6            1          57            50  ...           2   \n",
       "141607          4            2          75            75  ...           1   \n",
       "340467          4            1          45            45  ...           3   \n",
       "640552          6            1          27            27  ...           1   \n",
       "\n",
       "        duration_previous  a  b  c  d  e  f  g  cost  \n",
       "476318                  6  1  0  0  2  0  2  1   611  \n",
       "616684                  3  1  1  2  2  1  0  1   674  \n",
       "181726                  4  1  0  2  2  1  1  2   649  \n",
       "537925                  6  1  1  2  2  1  1  2   575  \n",
       "353160                  2  1  1  1  1  1  2  0   656  \n",
       "...                   ... .. .. .. .. .. .. ..   ...  \n",
       "134758                  3  1  1  2  2  1  1  2   695  \n",
       "522117                  6  1  0  2  2  0  2  2   620  \n",
       "141607                  1  1  1  1  2  0  2  1   647  \n",
       "340467                 15  1  1  3  2  1  2  2   619  \n",
       "640552                 10  2  0  1  2  0  0  1   673  \n",
       "\n",
       "[29053 rows x 21 columns]>"
      ]
     },
     "execution_count": 114,
     "metadata": {},
     "output_type": "execute_result"
    }
   ],
   "source": [
    "Xlr_red.info"
   ]
  },
  {
   "cell_type": "code",
   "execution_count": 118,
   "metadata": {},
   "outputs": [
    {
     "data": {
      "text/plain": [
       "<bound method Series.count of 476318    0\n",
       "616684    0\n",
       "181726    0\n",
       "537925    0\n",
       "353160    0\n",
       "         ..\n",
       "134758    0\n",
       "522117    0\n",
       "141607    0\n",
       "340467    0\n",
       "640552    1\n",
       "Name: record_type, Length: 29053, dtype: int64>"
      ]
     },
     "execution_count": 118,
     "metadata": {},
     "output_type": "execute_result"
    }
   ],
   "source": [
    "ylr_red.count"
   ]
  },
  {
   "cell_type": "code",
   "execution_count": 119,
   "metadata": {},
   "outputs": [
    {
     "data": {
      "text/plain": [
       "0    24673\n",
       "1     4380\n",
       "Name: record_type, dtype: int64"
      ]
     },
     "execution_count": 119,
     "metadata": {},
     "output_type": "execute_result"
    }
   ],
   "source": [
    "ylr_red.value_counts()"
   ]
  },
  {
   "cell_type": "code",
   "execution_count": 120,
   "metadata": {},
   "outputs": [
    {
     "data": {
      "text/plain": [
       "SVC(cache_size=7000, kernel='linear')"
      ]
     },
     "execution_count": 120,
     "metadata": {},
     "output_type": "execute_result"
    }
   ],
   "source": [
    "svm_clf.fit(Xlr_red, ylr_red)"
   ]
  },
  {
   "cell_type": "code",
   "execution_count": 121,
   "metadata": {},
   "outputs": [],
   "source": [
    "y_svm = svm_clf.predict(Xtestlr_red)"
   ]
  },
  {
   "cell_type": "code",
   "execution_count": 123,
   "metadata": {},
   "outputs": [
    {
     "name": "stdout",
     "output_type": "stream",
     "text": [
      "[[2582  155]\n",
      " [ 350  142]]\n"
     ]
    }
   ],
   "source": [
    "print(confusion_matrix(ytestlr_red, y_svm))"
   ]
  },
  {
   "cell_type": "code",
   "execution_count": 124,
   "metadata": {},
   "outputs": [
    {
     "name": "stdout",
     "output_type": "stream",
     "text": [
      "              precision    recall  f1-score   support\n",
      "\n",
      "           0       0.88      0.94      0.91      2737\n",
      "           1       0.48      0.29      0.36       492\n",
      "\n",
      "    accuracy                           0.84      3229\n",
      "   macro avg       0.68      0.62      0.64      3229\n",
      "weighted avg       0.82      0.84      0.83      3229\n",
      "\n"
     ]
    }
   ],
   "source": [
    "print(classification_report(ytestlr_red, y_svm))"
   ]
  },
  {
   "cell_type": "code",
   "execution_count": 125,
   "metadata": {},
   "outputs": [],
   "source": [
    "svm_clf_rbf = svm.SVC(kernel='rbf', cache_size=7000,C=1.0)"
   ]
  },
  {
   "cell_type": "code",
   "execution_count": 126,
   "metadata": {},
   "outputs": [
    {
     "data": {
      "text/plain": [
       "SVC(cache_size=7000)"
      ]
     },
     "execution_count": 126,
     "metadata": {},
     "output_type": "execute_result"
    }
   ],
   "source": [
    "svm_clf_rbf.fit(Xlr_red, ylr_red)"
   ]
  },
  {
   "cell_type": "code",
   "execution_count": 127,
   "metadata": {},
   "outputs": [],
   "source": [
    "y_svm_rbf = svm_clf.predict(Xtestlr_red)"
   ]
  },
  {
   "cell_type": "code",
   "execution_count": 128,
   "metadata": {},
   "outputs": [
    {
     "name": "stdout",
     "output_type": "stream",
     "text": [
      "[[2582  155]\n",
      " [ 350  142]]\n"
     ]
    }
   ],
   "source": [
    "print(confusion_matrix(ytestlr_red, y_svm_rbf))"
   ]
  },
  {
   "cell_type": "code",
   "execution_count": 129,
   "metadata": {},
   "outputs": [
    {
     "name": "stdout",
     "output_type": "stream",
     "text": [
      "              precision    recall  f1-score   support\n",
      "\n",
      "           0       0.88      0.94      0.91      2737\n",
      "           1       0.48      0.29      0.36       492\n",
      "\n",
      "    accuracy                           0.84      3229\n",
      "   macro avg       0.68      0.62      0.64      3229\n",
      "weighted avg       0.82      0.84      0.83      3229\n",
      "\n"
     ]
    }
   ],
   "source": [
    "print(classification_report(ytestlr_red, y_svm_rbf))"
   ]
  },
  {
   "cell_type": "code",
   "execution_count": 130,
   "metadata": {},
   "outputs": [],
   "source": [
    "svm_clf_rbf_C2 = svm.SVC(kernel='rbf', cache_size=7000,C=2.0)"
   ]
  },
  {
   "cell_type": "code",
   "execution_count": 131,
   "metadata": {},
   "outputs": [
    {
     "data": {
      "text/plain": [
       "SVC(C=2.0, cache_size=7000)"
      ]
     },
     "execution_count": 131,
     "metadata": {},
     "output_type": "execute_result"
    }
   ],
   "source": [
    "svm_clf_rbf_C2.fit(Xlr_red, ylr_red)"
   ]
  },
  {
   "cell_type": "code",
   "execution_count": 132,
   "metadata": {},
   "outputs": [],
   "source": [
    "y_svm_rbf_C2 = svm_clf_rbf_C2.predict(Xtestlr_red)"
   ]
  },
  {
   "cell_type": "code",
   "execution_count": 133,
   "metadata": {},
   "outputs": [
    {
     "name": "stdout",
     "output_type": "stream",
     "text": [
      "[[2737    0]\n",
      " [ 492    0]]\n"
     ]
    }
   ],
   "source": [
    "print(confusion_matrix(ytestlr_red, y_svm_rbf_C2))"
   ]
  },
  {
   "cell_type": "code",
   "execution_count": 134,
   "metadata": {},
   "outputs": [
    {
     "name": "stdout",
     "output_type": "stream",
     "text": [
      "              precision    recall  f1-score   support\n",
      "\n",
      "           0       0.85      1.00      0.92      2737\n",
      "           1       0.00      0.00      0.00       492\n",
      "\n",
      "    accuracy                           0.85      3229\n",
      "   macro avg       0.42      0.50      0.46      3229\n",
      "weighted avg       0.72      0.85      0.78      3229\n",
      "\n"
     ]
    },
    {
     "name": "stderr",
     "output_type": "stream",
     "text": [
      "/Applications/anaconda3/lib/python3.7/site-packages/sklearn/metrics/_classification.py:1248: UndefinedMetricWarning: Precision and F-score are ill-defined and being set to 0.0 in labels with no predicted samples. Use `zero_division` parameter to control this behavior.\n",
      "  _warn_prf(average, modifier, msg_start, len(result))\n",
      "/Applications/anaconda3/lib/python3.7/site-packages/sklearn/metrics/_classification.py:1248: UndefinedMetricWarning: Precision and F-score are ill-defined and being set to 0.0 in labels with no predicted samples. Use `zero_division` parameter to control this behavior.\n",
      "  _warn_prf(average, modifier, msg_start, len(result))\n",
      "/Applications/anaconda3/lib/python3.7/site-packages/sklearn/metrics/_classification.py:1248: UndefinedMetricWarning: Precision and F-score are ill-defined and being set to 0.0 in labels with no predicted samples. Use `zero_division` parameter to control this behavior.\n",
      "  _warn_prf(average, modifier, msg_start, len(result))\n"
     ]
    }
   ],
   "source": [
    "print(classification_report(ytestlr_red, y_svm_rbf_C2))"
   ]
  },
  {
   "cell_type": "code",
   "execution_count": 144,
   "metadata": {},
   "outputs": [],
   "source": [
    "# train with only 0 record types\n",
    "\n",
    "svm_clf_rbf_0rec = OneClassSVM(gamma='scale', nu=0.01)"
   ]
  },
  {
   "cell_type": "code",
   "execution_count": 145,
   "metadata": {},
   "outputs": [],
   "source": [
    "Xlr_red_0 = Xlr_red[ylr_red==0]\n",
    "#svm_clf_rbf.fit(Xlr_red)\n",
    "\n",
    "#trainX = trainX[trainy==0]"
   ]
  },
  {
   "cell_type": "code",
   "execution_count": 146,
   "metadata": {},
   "outputs": [
    {
     "data": {
      "text/plain": [
       "OneClassSVM(nu=0.01)"
      ]
     },
     "execution_count": 146,
     "metadata": {},
     "output_type": "execute_result"
    }
   ],
   "source": [
    "svm_clf_rbf_0rec.fit(Xlr_red_0)"
   ]
  },
  {
   "cell_type": "code",
   "execution_count": 147,
   "metadata": {},
   "outputs": [],
   "source": [
    "ytestlr_red_0=ytestlr_red"
   ]
  },
  {
   "cell_type": "code",
   "execution_count": 149,
   "metadata": {},
   "outputs": [
    {
     "name": "stdout",
     "output_type": "stream",
     "text": [
      "F1 Score: 0.019\n"
     ]
    }
   ],
   "source": [
    "from sklearn.metrics import f1_score\n",
    "# detect outliers in the test set\n",
    "yhat_svm_clf_rbf_0rec = svm_clf_rbf_0rec.predict(Xtestlr_red)\n",
    "# mark inliers 1, outliers -1\n",
    "ytestlr_red_0[ytestlr_red_0 == 0] = -1\n",
    "ytestlr_red_0[ytestlr_red_0 == 1] = 1\n",
    "# calculate score\n",
    "score = f1_score(ytestlr_red_0, yhat_svm_clf_rbf_0rec, pos_label=-1)\n",
    "print('F1 Score: %.3f' % score)"
   ]
  },
  {
   "cell_type": "code",
   "execution_count": 159,
   "metadata": {},
   "outputs": [
    {
     "name": "stdout",
     "output_type": "stream",
     "text": [
      "[[  27 2710]\n",
      " [   6  486]]\n"
     ]
    }
   ],
   "source": [
    "print(confusion_matrix(ytestlr_red_0, yhat_svm_clf_rbf_0rec))"
   ]
  },
  {
   "cell_type": "code",
   "execution_count": 158,
   "metadata": {},
   "outputs": [
    {
     "name": "stdout",
     "output_type": "stream",
     "text": [
      "              precision    recall  f1-score   support\n",
      "\n",
      "          -1       0.82      0.01      0.02      2737\n",
      "           1       0.15      0.99      0.26       492\n",
      "\n",
      "    accuracy                           0.16      3229\n",
      "   macro avg       0.49      0.50      0.14      3229\n",
      "weighted avg       0.72      0.16      0.06      3229\n",
      "\n"
     ]
    }
   ],
   "source": [
    "print(classification_report(ytestlr_red_0, yhat_svm_clf_rbf_0rec))"
   ]
  },
  {
   "cell_type": "code",
   "execution_count": 153,
   "metadata": {},
   "outputs": [],
   "source": [
    "svm_clf_linear_C2_OCS = OneClassSVM(kernel='linear', cache_size=7000)"
   ]
  },
  {
   "cell_type": "code",
   "execution_count": 154,
   "metadata": {},
   "outputs": [
    {
     "data": {
      "text/plain": [
       "OneClassSVM(cache_size=7000, kernel='linear')"
      ]
     },
     "execution_count": 154,
     "metadata": {},
     "output_type": "execute_result"
    }
   ],
   "source": [
    "svm_clf_linear_C2_OCS.fit(Xlr_red_0)"
   ]
  },
  {
   "cell_type": "code",
   "execution_count": 155,
   "metadata": {},
   "outputs": [],
   "source": [
    "yhat_svm_clf_linear_0rec=svm_clf_linear_C2_OCS.predict(Xtestlr_red)"
   ]
  },
  {
   "cell_type": "code",
   "execution_count": 156,
   "metadata": {},
   "outputs": [
    {
     "name": "stdout",
     "output_type": "stream",
     "text": [
      "F1 Score: 0.630\n"
     ]
    }
   ],
   "source": [
    "score_l = f1_score(ytestlr_red_0, yhat_svm_clf_linear_0rec, pos_label=-1)\n",
    "print('F1 Score: %.3f' % score_l)"
   ]
  },
  {
   "cell_type": "code",
   "execution_count": 157,
   "metadata": {},
   "outputs": [
    {
     "name": "stdout",
     "output_type": "stream",
     "text": [
      "              precision    recall  f1-score   support\n",
      "\n",
      "          -1       0.85      0.50      0.63      2737\n",
      "           1       0.16      0.51      0.24       492\n",
      "\n",
      "    accuracy                           0.50      3229\n",
      "   macro avg       0.50      0.51      0.43      3229\n",
      "weighted avg       0.74      0.50      0.57      3229\n",
      "\n"
     ]
    }
   ],
   "source": [
    "print(classification_report(ytestlr_red_0, yhat_svm_clf_linear_0rec))"
   ]
  },
  {
   "cell_type": "code",
   "execution_count": 160,
   "metadata": {},
   "outputs": [
    {
     "name": "stdout",
     "output_type": "stream",
     "text": [
      "[[1370 1367]\n",
      " [ 240  252]]\n"
     ]
    }
   ],
   "source": [
    "print(confusion_matrix(ytestlr_red_0, yhat_svm_clf_linear_0rec))"
   ]
  }
 ],
 "metadata": {
  "kernelspec": {
   "display_name": "Python 3",
   "language": "python",
   "name": "python3"
  },
  "language_info": {
   "codemirror_mode": {
    "name": "ipython",
    "version": 3
   },
   "file_extension": ".py",
   "mimetype": "text/x-python",
   "name": "python",
   "nbconvert_exporter": "python",
   "pygments_lexer": "ipython3",
   "version": "3.7.6"
  }
 },
 "nbformat": 4,
 "nbformat_minor": 4
}
