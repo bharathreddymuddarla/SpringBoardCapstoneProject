{
 "cells": [
  {
   "cell_type": "code",
   "execution_count": 1,
   "metadata": {},
   "outputs": [],
   "source": [
    "#Importing required libraries\n",
    "\n",
    "#import imblearn\n",
    "import pandas as pd\n",
    "import matplotlib.pyplot as plt\n",
    "plt.style.use('ggplot')\n",
    "#from imblearn.over_sampling import SMOTE\n",
    "#from imblearn.under_sampling import RandomUnderSampler\n",
    "#from imblearn.pipeline import Pipeline\n",
    "from sklearn.preprocessing import LabelEncoder\n",
    "from sklearn.model_selection import train_test_split\n",
    "#from sklearn.linear_model import LogisticRegression\n",
    "#from sklearn.metrics import accuracy_score\n",
    "from sklearn.metrics import classification_report\n",
    "#from sklearn.metrics import confusion_matrix\n",
    "#from sklearn.neighbors import KNeighborsClassifier\n",
    "import numpy as np \n",
    "from keras.layers import Dense \n",
    "from keras.models import Sequential\n",
    "from keras.utils.np_utils import to_categorical\n",
    "# Import EarlyStopping\n",
    "from keras.callbacks import EarlyStopping\n"
   ]
  },
  {
   "cell_type": "code",
   "execution_count": 2,
   "metadata": {},
   "outputs": [
    {
     "data": {
      "text/html": [
       "<div>\n",
       "<style scoped>\n",
       "    .dataframe tbody tr th:only-of-type {\n",
       "        vertical-align: middle;\n",
       "    }\n",
       "\n",
       "    .dataframe tbody tr th {\n",
       "        vertical-align: top;\n",
       "    }\n",
       "\n",
       "    .dataframe thead th {\n",
       "        text-align: right;\n",
       "    }\n",
       "</style>\n",
       "<table border=\"1\" class=\"dataframe\">\n",
       "  <thead>\n",
       "    <tr style=\"text-align: right;\">\n",
       "      <th></th>\n",
       "      <th>customer_ID</th>\n",
       "      <th>shopping_pt</th>\n",
       "      <th>record_type</th>\n",
       "      <th>day</th>\n",
       "      <th>time</th>\n",
       "      <th>state</th>\n",
       "      <th>location</th>\n",
       "      <th>group_size</th>\n",
       "      <th>homeowner</th>\n",
       "      <th>car_age</th>\n",
       "      <th>...</th>\n",
       "      <th>C_previous</th>\n",
       "      <th>duration_previous</th>\n",
       "      <th>A</th>\n",
       "      <th>B</th>\n",
       "      <th>C</th>\n",
       "      <th>D</th>\n",
       "      <th>E</th>\n",
       "      <th>F</th>\n",
       "      <th>G</th>\n",
       "      <th>cost</th>\n",
       "    </tr>\n",
       "  </thead>\n",
       "  <tbody>\n",
       "    <tr>\n",
       "      <th>0</th>\n",
       "      <td>10000000</td>\n",
       "      <td>1</td>\n",
       "      <td>0</td>\n",
       "      <td>0</td>\n",
       "      <td>08:35</td>\n",
       "      <td>IN</td>\n",
       "      <td>10001</td>\n",
       "      <td>2</td>\n",
       "      <td>0</td>\n",
       "      <td>2</td>\n",
       "      <td>...</td>\n",
       "      <td>1.0</td>\n",
       "      <td>2.0</td>\n",
       "      <td>1</td>\n",
       "      <td>0</td>\n",
       "      <td>2</td>\n",
       "      <td>2</td>\n",
       "      <td>1</td>\n",
       "      <td>2</td>\n",
       "      <td>2</td>\n",
       "      <td>633</td>\n",
       "    </tr>\n",
       "    <tr>\n",
       "      <th>1</th>\n",
       "      <td>10000000</td>\n",
       "      <td>2</td>\n",
       "      <td>0</td>\n",
       "      <td>0</td>\n",
       "      <td>08:38</td>\n",
       "      <td>IN</td>\n",
       "      <td>10001</td>\n",
       "      <td>2</td>\n",
       "      <td>0</td>\n",
       "      <td>2</td>\n",
       "      <td>...</td>\n",
       "      <td>1.0</td>\n",
       "      <td>2.0</td>\n",
       "      <td>1</td>\n",
       "      <td>0</td>\n",
       "      <td>2</td>\n",
       "      <td>2</td>\n",
       "      <td>1</td>\n",
       "      <td>2</td>\n",
       "      <td>1</td>\n",
       "      <td>630</td>\n",
       "    </tr>\n",
       "    <tr>\n",
       "      <th>2</th>\n",
       "      <td>10000000</td>\n",
       "      <td>3</td>\n",
       "      <td>0</td>\n",
       "      <td>0</td>\n",
       "      <td>08:38</td>\n",
       "      <td>IN</td>\n",
       "      <td>10001</td>\n",
       "      <td>2</td>\n",
       "      <td>0</td>\n",
       "      <td>2</td>\n",
       "      <td>...</td>\n",
       "      <td>1.0</td>\n",
       "      <td>2.0</td>\n",
       "      <td>1</td>\n",
       "      <td>0</td>\n",
       "      <td>2</td>\n",
       "      <td>2</td>\n",
       "      <td>1</td>\n",
       "      <td>2</td>\n",
       "      <td>1</td>\n",
       "      <td>630</td>\n",
       "    </tr>\n",
       "    <tr>\n",
       "      <th>3</th>\n",
       "      <td>10000000</td>\n",
       "      <td>4</td>\n",
       "      <td>0</td>\n",
       "      <td>0</td>\n",
       "      <td>08:39</td>\n",
       "      <td>IN</td>\n",
       "      <td>10001</td>\n",
       "      <td>2</td>\n",
       "      <td>0</td>\n",
       "      <td>2</td>\n",
       "      <td>...</td>\n",
       "      <td>1.0</td>\n",
       "      <td>2.0</td>\n",
       "      <td>1</td>\n",
       "      <td>0</td>\n",
       "      <td>2</td>\n",
       "      <td>2</td>\n",
       "      <td>1</td>\n",
       "      <td>2</td>\n",
       "      <td>1</td>\n",
       "      <td>630</td>\n",
       "    </tr>\n",
       "    <tr>\n",
       "      <th>4</th>\n",
       "      <td>10000000</td>\n",
       "      <td>5</td>\n",
       "      <td>0</td>\n",
       "      <td>0</td>\n",
       "      <td>11:55</td>\n",
       "      <td>IN</td>\n",
       "      <td>10001</td>\n",
       "      <td>2</td>\n",
       "      <td>0</td>\n",
       "      <td>2</td>\n",
       "      <td>...</td>\n",
       "      <td>1.0</td>\n",
       "      <td>2.0</td>\n",
       "      <td>1</td>\n",
       "      <td>0</td>\n",
       "      <td>2</td>\n",
       "      <td>2</td>\n",
       "      <td>1</td>\n",
       "      <td>2</td>\n",
       "      <td>1</td>\n",
       "      <td>630</td>\n",
       "    </tr>\n",
       "  </tbody>\n",
       "</table>\n",
       "<p>5 rows × 25 columns</p>\n",
       "</div>"
      ],
      "text/plain": [
       "   customer_ID  shopping_pt  record_type  day   time state  location  \\\n",
       "0     10000000            1            0    0  08:35    IN     10001   \n",
       "1     10000000            2            0    0  08:38    IN     10001   \n",
       "2     10000000            3            0    0  08:38    IN     10001   \n",
       "3     10000000            4            0    0  08:39    IN     10001   \n",
       "4     10000000            5            0    0  11:55    IN     10001   \n",
       "\n",
       "   group_size  homeowner  car_age  ... C_previous  duration_previous  A  B  C  \\\n",
       "0           2          0        2  ...        1.0                2.0  1  0  2   \n",
       "1           2          0        2  ...        1.0                2.0  1  0  2   \n",
       "2           2          0        2  ...        1.0                2.0  1  0  2   \n",
       "3           2          0        2  ...        1.0                2.0  1  0  2   \n",
       "4           2          0        2  ...        1.0                2.0  1  0  2   \n",
       "\n",
       "   D  E  F  G  cost  \n",
       "0  2  1  2  2   633  \n",
       "1  2  1  2  1   630  \n",
       "2  2  1  2  1   630  \n",
       "3  2  1  2  1   630  \n",
       "4  2  1  2  1   630  \n",
       "\n",
       "[5 rows x 25 columns]"
      ]
     },
     "execution_count": 2,
     "metadata": {},
     "output_type": "execute_result"
    }
   ],
   "source": [
    "# Copy train dataset into dataframe\n",
    "\n",
    "train_data_file = '/Users/mackbookair/Desktop/Git/CapStone/CapstoneProject/TestData/allstate-purchase-prediction-challenge-datawargling/train.csv'\n",
    "train_df = pd.read_csv(train_data_file)\n",
    "train_df.head()"
   ]
  },
  {
   "cell_type": "code",
   "execution_count": 3,
   "metadata": {},
   "outputs": [
    {
     "data": {
      "text/html": [
       "<div>\n",
       "<style scoped>\n",
       "    .dataframe tbody tr th:only-of-type {\n",
       "        vertical-align: middle;\n",
       "    }\n",
       "\n",
       "    .dataframe tbody tr th {\n",
       "        vertical-align: top;\n",
       "    }\n",
       "\n",
       "    .dataframe thead th {\n",
       "        text-align: right;\n",
       "    }\n",
       "</style>\n",
       "<table border=\"1\" class=\"dataframe\">\n",
       "  <thead>\n",
       "    <tr style=\"text-align: right;\">\n",
       "      <th></th>\n",
       "      <th>customer_ID</th>\n",
       "      <th>shopping_pt</th>\n",
       "      <th>record_type</th>\n",
       "      <th>day</th>\n",
       "      <th>location</th>\n",
       "      <th>group_size</th>\n",
       "      <th>homeowner</th>\n",
       "      <th>car_age</th>\n",
       "      <th>risk_factor</th>\n",
       "      <th>age_oldest</th>\n",
       "      <th>...</th>\n",
       "      <th>C_previous</th>\n",
       "      <th>duration_previous</th>\n",
       "      <th>A</th>\n",
       "      <th>B</th>\n",
       "      <th>C</th>\n",
       "      <th>D</th>\n",
       "      <th>E</th>\n",
       "      <th>F</th>\n",
       "      <th>G</th>\n",
       "      <th>cost</th>\n",
       "    </tr>\n",
       "  </thead>\n",
       "  <tbody>\n",
       "    <tr>\n",
       "      <th>count</th>\n",
       "      <td>6.652490e+05</td>\n",
       "      <td>665249.000000</td>\n",
       "      <td>665249.000000</td>\n",
       "      <td>665249.000000</td>\n",
       "      <td>665249.000000</td>\n",
       "      <td>665249.000000</td>\n",
       "      <td>665249.000000</td>\n",
       "      <td>665249.000000</td>\n",
       "      <td>424831.000000</td>\n",
       "      <td>665249.000000</td>\n",
       "      <td>...</td>\n",
       "      <td>646538.000000</td>\n",
       "      <td>646538.000000</td>\n",
       "      <td>665249.000000</td>\n",
       "      <td>665249.000000</td>\n",
       "      <td>665249.000000</td>\n",
       "      <td>665249.000000</td>\n",
       "      <td>665249.000000</td>\n",
       "      <td>665249.000000</td>\n",
       "      <td>665249.000000</td>\n",
       "      <td>665249.000000</td>\n",
       "    </tr>\n",
       "    <tr>\n",
       "      <th>mean</th>\n",
       "      <td>1.007655e+07</td>\n",
       "      <td>4.219966</td>\n",
       "      <td>0.145824</td>\n",
       "      <td>1.969429</td>\n",
       "      <td>12271.543022</td>\n",
       "      <td>1.234784</td>\n",
       "      <td>0.536229</td>\n",
       "      <td>8.139437</td>\n",
       "      <td>2.563996</td>\n",
       "      <td>44.992403</td>\n",
       "      <td>...</td>\n",
       "      <td>2.444718</td>\n",
       "      <td>6.003774</td>\n",
       "      <td>0.927546</td>\n",
       "      <td>0.454236</td>\n",
       "      <td>2.275265</td>\n",
       "      <td>2.454299</td>\n",
       "      <td>0.445193</td>\n",
       "      <td>1.162768</td>\n",
       "      <td>2.275120</td>\n",
       "      <td>635.785008</td>\n",
       "    </tr>\n",
       "    <tr>\n",
       "      <th>std</th>\n",
       "      <td>4.404978e+04</td>\n",
       "      <td>2.394369</td>\n",
       "      <td>0.352930</td>\n",
       "      <td>1.453470</td>\n",
       "      <td>1564.789415</td>\n",
       "      <td>0.461036</td>\n",
       "      <td>0.498686</td>\n",
       "      <td>5.764598</td>\n",
       "      <td>1.111584</td>\n",
       "      <td>17.403440</td>\n",
       "      <td>...</td>\n",
       "      <td>1.034596</td>\n",
       "      <td>4.680793</td>\n",
       "      <td>0.595221</td>\n",
       "      <td>0.497902</td>\n",
       "      <td>0.990798</td>\n",
       "      <td>0.753953</td>\n",
       "      <td>0.496987</td>\n",
       "      <td>0.943594</td>\n",
       "      <td>0.909567</td>\n",
       "      <td>45.993758</td>\n",
       "    </tr>\n",
       "    <tr>\n",
       "      <th>min</th>\n",
       "      <td>1.000000e+07</td>\n",
       "      <td>1.000000</td>\n",
       "      <td>0.000000</td>\n",
       "      <td>0.000000</td>\n",
       "      <td>10001.000000</td>\n",
       "      <td>1.000000</td>\n",
       "      <td>0.000000</td>\n",
       "      <td>0.000000</td>\n",
       "      <td>1.000000</td>\n",
       "      <td>18.000000</td>\n",
       "      <td>...</td>\n",
       "      <td>1.000000</td>\n",
       "      <td>0.000000</td>\n",
       "      <td>0.000000</td>\n",
       "      <td>0.000000</td>\n",
       "      <td>1.000000</td>\n",
       "      <td>1.000000</td>\n",
       "      <td>0.000000</td>\n",
       "      <td>0.000000</td>\n",
       "      <td>1.000000</td>\n",
       "      <td>260.000000</td>\n",
       "    </tr>\n",
       "    <tr>\n",
       "      <th>25%</th>\n",
       "      <td>1.003852e+07</td>\n",
       "      <td>2.000000</td>\n",
       "      <td>0.000000</td>\n",
       "      <td>1.000000</td>\n",
       "      <td>10936.000000</td>\n",
       "      <td>1.000000</td>\n",
       "      <td>0.000000</td>\n",
       "      <td>3.000000</td>\n",
       "      <td>2.000000</td>\n",
       "      <td>28.000000</td>\n",
       "      <td>...</td>\n",
       "      <td>1.000000</td>\n",
       "      <td>2.000000</td>\n",
       "      <td>1.000000</td>\n",
       "      <td>0.000000</td>\n",
       "      <td>1.000000</td>\n",
       "      <td>2.000000</td>\n",
       "      <td>0.000000</td>\n",
       "      <td>0.000000</td>\n",
       "      <td>2.000000</td>\n",
       "      <td>605.000000</td>\n",
       "    </tr>\n",
       "    <tr>\n",
       "      <th>50%</th>\n",
       "      <td>1.007640e+07</td>\n",
       "      <td>4.000000</td>\n",
       "      <td>0.000000</td>\n",
       "      <td>2.000000</td>\n",
       "      <td>12027.000000</td>\n",
       "      <td>1.000000</td>\n",
       "      <td>1.000000</td>\n",
       "      <td>7.000000</td>\n",
       "      <td>3.000000</td>\n",
       "      <td>44.000000</td>\n",
       "      <td>...</td>\n",
       "      <td>3.000000</td>\n",
       "      <td>5.000000</td>\n",
       "      <td>1.000000</td>\n",
       "      <td>0.000000</td>\n",
       "      <td>2.000000</td>\n",
       "      <td>3.000000</td>\n",
       "      <td>0.000000</td>\n",
       "      <td>1.000000</td>\n",
       "      <td>2.000000</td>\n",
       "      <td>635.000000</td>\n",
       "    </tr>\n",
       "    <tr>\n",
       "      <th>75%</th>\n",
       "      <td>1.011470e+07</td>\n",
       "      <td>6.000000</td>\n",
       "      <td>0.000000</td>\n",
       "      <td>3.000000</td>\n",
       "      <td>13426.000000</td>\n",
       "      <td>1.000000</td>\n",
       "      <td>1.000000</td>\n",
       "      <td>12.000000</td>\n",
       "      <td>4.000000</td>\n",
       "      <td>60.000000</td>\n",
       "      <td>...</td>\n",
       "      <td>3.000000</td>\n",
       "      <td>9.000000</td>\n",
       "      <td>1.000000</td>\n",
       "      <td>1.000000</td>\n",
       "      <td>3.000000</td>\n",
       "      <td>3.000000</td>\n",
       "      <td>1.000000</td>\n",
       "      <td>2.000000</td>\n",
       "      <td>3.000000</td>\n",
       "      <td>665.000000</td>\n",
       "    </tr>\n",
       "    <tr>\n",
       "      <th>max</th>\n",
       "      <td>1.015272e+07</td>\n",
       "      <td>13.000000</td>\n",
       "      <td>1.000000</td>\n",
       "      <td>6.000000</td>\n",
       "      <td>16580.000000</td>\n",
       "      <td>4.000000</td>\n",
       "      <td>1.000000</td>\n",
       "      <td>85.000000</td>\n",
       "      <td>4.000000</td>\n",
       "      <td>75.000000</td>\n",
       "      <td>...</td>\n",
       "      <td>4.000000</td>\n",
       "      <td>15.000000</td>\n",
       "      <td>2.000000</td>\n",
       "      <td>1.000000</td>\n",
       "      <td>4.000000</td>\n",
       "      <td>3.000000</td>\n",
       "      <td>1.000000</td>\n",
       "      <td>3.000000</td>\n",
       "      <td>4.000000</td>\n",
       "      <td>922.000000</td>\n",
       "    </tr>\n",
       "  </tbody>\n",
       "</table>\n",
       "<p>8 rows × 22 columns</p>\n",
       "</div>"
      ],
      "text/plain": [
       "        customer_ID    shopping_pt    record_type            day  \\\n",
       "count  6.652490e+05  665249.000000  665249.000000  665249.000000   \n",
       "mean   1.007655e+07       4.219966       0.145824       1.969429   \n",
       "std    4.404978e+04       2.394369       0.352930       1.453470   \n",
       "min    1.000000e+07       1.000000       0.000000       0.000000   \n",
       "25%    1.003852e+07       2.000000       0.000000       1.000000   \n",
       "50%    1.007640e+07       4.000000       0.000000       2.000000   \n",
       "75%    1.011470e+07       6.000000       0.000000       3.000000   \n",
       "max    1.015272e+07      13.000000       1.000000       6.000000   \n",
       "\n",
       "            location     group_size      homeowner        car_age  \\\n",
       "count  665249.000000  665249.000000  665249.000000  665249.000000   \n",
       "mean    12271.543022       1.234784       0.536229       8.139437   \n",
       "std      1564.789415       0.461036       0.498686       5.764598   \n",
       "min     10001.000000       1.000000       0.000000       0.000000   \n",
       "25%     10936.000000       1.000000       0.000000       3.000000   \n",
       "50%     12027.000000       1.000000       1.000000       7.000000   \n",
       "75%     13426.000000       1.000000       1.000000      12.000000   \n",
       "max     16580.000000       4.000000       1.000000      85.000000   \n",
       "\n",
       "         risk_factor     age_oldest  ...     C_previous  duration_previous  \\\n",
       "count  424831.000000  665249.000000  ...  646538.000000      646538.000000   \n",
       "mean        2.563996      44.992403  ...       2.444718           6.003774   \n",
       "std         1.111584      17.403440  ...       1.034596           4.680793   \n",
       "min         1.000000      18.000000  ...       1.000000           0.000000   \n",
       "25%         2.000000      28.000000  ...       1.000000           2.000000   \n",
       "50%         3.000000      44.000000  ...       3.000000           5.000000   \n",
       "75%         4.000000      60.000000  ...       3.000000           9.000000   \n",
       "max         4.000000      75.000000  ...       4.000000          15.000000   \n",
       "\n",
       "                   A              B              C              D  \\\n",
       "count  665249.000000  665249.000000  665249.000000  665249.000000   \n",
       "mean        0.927546       0.454236       2.275265       2.454299   \n",
       "std         0.595221       0.497902       0.990798       0.753953   \n",
       "min         0.000000       0.000000       1.000000       1.000000   \n",
       "25%         1.000000       0.000000       1.000000       2.000000   \n",
       "50%         1.000000       0.000000       2.000000       3.000000   \n",
       "75%         1.000000       1.000000       3.000000       3.000000   \n",
       "max         2.000000       1.000000       4.000000       3.000000   \n",
       "\n",
       "                   E              F              G           cost  \n",
       "count  665249.000000  665249.000000  665249.000000  665249.000000  \n",
       "mean        0.445193       1.162768       2.275120     635.785008  \n",
       "std         0.496987       0.943594       0.909567      45.993758  \n",
       "min         0.000000       0.000000       1.000000     260.000000  \n",
       "25%         0.000000       0.000000       2.000000     605.000000  \n",
       "50%         0.000000       1.000000       2.000000     635.000000  \n",
       "75%         1.000000       2.000000       3.000000     665.000000  \n",
       "max         1.000000       3.000000       4.000000     922.000000  \n",
       "\n",
       "[8 rows x 22 columns]"
      ]
     },
     "execution_count": 3,
     "metadata": {},
     "output_type": "execute_result"
    }
   ],
   "source": [
    "train_df.describe()"
   ]
  },
  {
   "cell_type": "code",
   "execution_count": 4,
   "metadata": {},
   "outputs": [
    {
     "data": {
      "text/plain": [
       "Index(['customer_ID', 'shopping_pt', 'record_type', 'day', 'time', 'state',\n",
       "       'location', 'group_size', 'homeowner', 'car_age', 'car_value',\n",
       "       'risk_factor', 'age_oldest', 'age_youngest', 'married_couple',\n",
       "       'C_previous', 'duration_previous', 'A', 'B', 'C', 'D', 'E', 'F', 'G',\n",
       "       'cost'],\n",
       "      dtype='object')"
      ]
     },
     "execution_count": 4,
     "metadata": {},
     "output_type": "execute_result"
    }
   ],
   "source": [
    "train_df.columns"
   ]
  },
  {
   "cell_type": "code",
   "execution_count": 5,
   "metadata": {},
   "outputs": [
    {
     "name": "stdout",
     "output_type": "stream",
     "text": [
      "<class 'pandas.core.frame.DataFrame'>\n",
      "RangeIndex: 665249 entries, 0 to 665248\n",
      "Data columns (total 25 columns):\n",
      " #   Column             Non-Null Count   Dtype  \n",
      "---  ------             --------------   -----  \n",
      " 0   customer_ID        665249 non-null  int64  \n",
      " 1   shopping_pt        665249 non-null  int64  \n",
      " 2   record_type        665249 non-null  int64  \n",
      " 3   day                665249 non-null  int64  \n",
      " 4   time               665249 non-null  object \n",
      " 5   state              665249 non-null  object \n",
      " 6   location           665249 non-null  int64  \n",
      " 7   group_size         665249 non-null  int64  \n",
      " 8   homeowner          665249 non-null  int64  \n",
      " 9   car_age            665249 non-null  int64  \n",
      " 10  car_value          663718 non-null  object \n",
      " 11  risk_factor        424831 non-null  float64\n",
      " 12  age_oldest         665249 non-null  int64  \n",
      " 13  age_youngest       665249 non-null  int64  \n",
      " 14  married_couple     665249 non-null  int64  \n",
      " 15  C_previous         646538 non-null  float64\n",
      " 16  duration_previous  646538 non-null  float64\n",
      " 17  A                  665249 non-null  int64  \n",
      " 18  B                  665249 non-null  int64  \n",
      " 19  C                  665249 non-null  int64  \n",
      " 20  D                  665249 non-null  int64  \n",
      " 21  E                  665249 non-null  int64  \n",
      " 22  F                  665249 non-null  int64  \n",
      " 23  G                  665249 non-null  int64  \n",
      " 24  cost               665249 non-null  int64  \n",
      "dtypes: float64(3), int64(19), object(3)\n",
      "memory usage: 126.9+ MB\n"
     ]
    }
   ],
   "source": [
    "train_df.info()"
   ]
  },
  {
   "cell_type": "markdown",
   "metadata": {},
   "source": [
    "Observations:\n",
    "\n",
    "1. Total 665,249 records\n",
    "\n",
    "2. 25 columns\n",
    "\n",
    "3. Different data types -   \n",
    "    a. time is identified as object      \n",
    "    b. state and car_value are other columns which are also identified as objects   \n",
    "    c. risk_factor, C_previous and duration_previous are identified as float  \n",
    "    d. all other columns are identified as int  \n",
    "    \n",
    "4. Following columns have Null values -\n",
    "    car_value, \n",
    "    risk_factor, \n",
    "    C_previous, \n",
    "    duration_previous\n",
    "    \n",
    "5. column name 'customer_ID' is inconsistent\n",
    "\n",
    "6. Missing values:     \n",
    "    a. 240,418 records does not have value for risk_factor, which approximates to 36% of total records  \n",
    "    b. 1,531 records does not have value for car_value, which approximates to 0.23% of total records  \n",
    "    c. 18,711 records does not have value for C_previous, which approximates to 2.81% of total records   \n",
    "    d. 18,711 records does not have value for duration_previous, which approximates to 2.81% of total records"
   ]
  },
  {
   "cell_type": "markdown",
   "metadata": {},
   "source": [
    "Lot of records does not have a value for risk_factor. "
   ]
  },
  {
   "cell_type": "code",
   "execution_count": 6,
   "metadata": {},
   "outputs": [
    {
     "data": {
      "text/plain": [
       "array([ 3.,  4., nan,  2.,  1.])"
      ]
     },
     "execution_count": 6,
     "metadata": {},
     "output_type": "execute_result"
    }
   ],
   "source": [
    "# Chekcing for unique values in risk_factor\n",
    "train_df.risk_factor.unique()"
   ]
  },
  {
   "cell_type": "code",
   "execution_count": 7,
   "metadata": {},
   "outputs": [
    {
     "data": {
      "text/plain": [
       "3.0    117571\n",
       "4.0    110754\n",
       "1.0     99476\n",
       "2.0     97030\n",
       "Name: risk_factor, dtype: int64"
      ]
     },
     "execution_count": 7,
     "metadata": {},
     "output_type": "execute_result"
    }
   ],
   "source": [
    "# Checking for number of records for each distinct value\n",
    "train_df['risk_factor'].value_counts()"
   ]
  },
  {
   "cell_type": "code",
   "execution_count": 8,
   "metadata": {},
   "outputs": [
    {
     "data": {
      "text/plain": [
       "3"
      ]
     },
     "execution_count": 8,
     "metadata": {},
     "output_type": "execute_result"
    }
   ],
   "source": [
    "# Caliculating mean of the column\n",
    "risk_factor_mean = round(train_df['risk_factor'].mean())\n",
    "risk_factor_mean"
   ]
  },
  {
   "cell_type": "code",
   "execution_count": 9,
   "metadata": {},
   "outputs": [
    {
     "data": {
      "text/plain": [
       "3.0    357989\n",
       "4.0    110754\n",
       "1.0     99476\n",
       "2.0     97030\n",
       "Name: risk_factor, dtype: int64"
      ]
     },
     "execution_count": 9,
     "metadata": {},
     "output_type": "execute_result"
    }
   ],
   "source": [
    "# Replacing na values with the mean value \n",
    "train_df['risk_factor']=train_df['risk_factor'].fillna(round((train_df['risk_factor'].mean())))\n",
    "train_df['risk_factor'].value_counts()"
   ]
  },
  {
   "cell_type": "code",
   "execution_count": 10,
   "metadata": {},
   "outputs": [
    {
     "data": {
      "text/plain": [
       "array([3., 4., 2., 1.])"
      ]
     },
     "execution_count": 10,
     "metadata": {},
     "output_type": "execute_result"
    }
   ],
   "source": [
    "train_df.risk_factor.unique()"
   ]
  },
  {
   "cell_type": "code",
   "execution_count": 11,
   "metadata": {},
   "outputs": [
    {
     "name": "stdout",
     "output_type": "stream",
     "text": [
      "<class 'pandas.core.frame.DataFrame'>\n",
      "RangeIndex: 665249 entries, 0 to 665248\n",
      "Data columns (total 25 columns):\n",
      " #   Column             Non-Null Count   Dtype  \n",
      "---  ------             --------------   -----  \n",
      " 0   customer_ID        665249 non-null  int64  \n",
      " 1   shopping_pt        665249 non-null  int64  \n",
      " 2   record_type        665249 non-null  int64  \n",
      " 3   day                665249 non-null  int64  \n",
      " 4   time               665249 non-null  object \n",
      " 5   state              665249 non-null  object \n",
      " 6   location           665249 non-null  int64  \n",
      " 7   group_size         665249 non-null  int64  \n",
      " 8   homeowner          665249 non-null  int64  \n",
      " 9   car_age            665249 non-null  int64  \n",
      " 10  car_value          663718 non-null  object \n",
      " 11  risk_factor        665249 non-null  float64\n",
      " 12  age_oldest         665249 non-null  int64  \n",
      " 13  age_youngest       665249 non-null  int64  \n",
      " 14  married_couple     665249 non-null  int64  \n",
      " 15  C_previous         646538 non-null  float64\n",
      " 16  duration_previous  646538 non-null  float64\n",
      " 17  A                  665249 non-null  int64  \n",
      " 18  B                  665249 non-null  int64  \n",
      " 19  C                  665249 non-null  int64  \n",
      " 20  D                  665249 non-null  int64  \n",
      " 21  E                  665249 non-null  int64  \n",
      " 22  F                  665249 non-null  int64  \n",
      " 23  G                  665249 non-null  int64  \n",
      " 24  cost               665249 non-null  int64  \n",
      "dtypes: float64(3), int64(19), object(3)\n",
      "memory usage: 126.9+ MB\n"
     ]
    }
   ],
   "source": [
    "train_df.info()"
   ]
  },
  {
   "cell_type": "code",
   "execution_count": 12,
   "metadata": {},
   "outputs": [
    {
     "name": "stdout",
     "output_type": "stream",
     "text": [
      "<class 'pandas.core.frame.DataFrame'>\n",
      "Int64Index: 645648 entries, 0 to 665248\n",
      "Data columns (total 25 columns):\n",
      " #   Column             Non-Null Count   Dtype  \n",
      "---  ------             --------------   -----  \n",
      " 0   customer_ID        645648 non-null  int64  \n",
      " 1   shopping_pt        645648 non-null  int64  \n",
      " 2   record_type        645648 non-null  int64  \n",
      " 3   day                645648 non-null  int64  \n",
      " 4   time               645648 non-null  object \n",
      " 5   state              645648 non-null  object \n",
      " 6   location           645648 non-null  int64  \n",
      " 7   group_size         645648 non-null  int64  \n",
      " 8   homeowner          645648 non-null  int64  \n",
      " 9   car_age            645648 non-null  int64  \n",
      " 10  car_value          645648 non-null  object \n",
      " 11  risk_factor        645648 non-null  float64\n",
      " 12  age_oldest         645648 non-null  int64  \n",
      " 13  age_youngest       645648 non-null  int64  \n",
      " 14  married_couple     645648 non-null  int64  \n",
      " 15  C_previous         645648 non-null  float64\n",
      " 16  duration_previous  645648 non-null  float64\n",
      " 17  A                  645648 non-null  int64  \n",
      " 18  B                  645648 non-null  int64  \n",
      " 19  C                  645648 non-null  int64  \n",
      " 20  D                  645648 non-null  int64  \n",
      " 21  E                  645648 non-null  int64  \n",
      " 22  F                  645648 non-null  int64  \n",
      " 23  G                  645648 non-null  int64  \n",
      " 24  cost               645648 non-null  int64  \n",
      "dtypes: float64(3), int64(19), object(3)\n",
      "memory usage: 128.1+ MB\n"
     ]
    }
   ],
   "source": [
    "# Droping rest of records having nan values\n",
    "train_df = train_df.dropna()\n",
    "train_df.info()"
   ]
  },
  {
   "cell_type": "markdown",
   "metadata": {},
   "source": [
    "We have 645,648 out of 665,249 total records, we droped around 3% of records which have nan value."
   ]
  },
  {
   "cell_type": "code",
   "execution_count": 13,
   "metadata": {},
   "outputs": [
    {
     "data": {
      "text/plain": [
       "Index(['customer_id', 'shopping_pt', 'record_type', 'day', 'time', 'state',\n",
       "       'location', 'group_size', 'homeowner', 'car_age', 'car_value',\n",
       "       'risk_factor', 'age_oldest', 'age_youngest', 'married_couple',\n",
       "       'c_previous', 'duration_previous', 'a', 'b', 'c', 'd', 'e', 'f', 'g',\n",
       "       'cost'],\n",
       "      dtype='object')"
      ]
     },
     "execution_count": 13,
     "metadata": {},
     "output_type": "execute_result"
    }
   ],
   "source": [
    "#Renaming column names - converting uppercase names to lower case\n",
    "train_df.rename(columns={'customer_ID':'customer_id','C_previous':'c_previous','A':'a','B':'b','C':'c','D':'d','E':'e','F':'f','G':'g'},inplace = True)\n",
    "\n",
    "train_df.columns"
   ]
  },
  {
   "cell_type": "code",
   "execution_count": 14,
   "metadata": {},
   "outputs": [
    {
     "name": "stdout",
     "output_type": "stream",
     "text": [
      "<class 'pandas.core.frame.DataFrame'>\n",
      "Int64Index: 645648 entries, 0 to 665248\n",
      "Data columns (total 25 columns):\n",
      " #   Column             Non-Null Count   Dtype  \n",
      "---  ------             --------------   -----  \n",
      " 0   customer_id        645648 non-null  int64  \n",
      " 1   shopping_pt        645648 non-null  int64  \n",
      " 2   record_type        645648 non-null  int64  \n",
      " 3   day                645648 non-null  int64  \n",
      " 4   time               645648 non-null  object \n",
      " 5   state              645648 non-null  object \n",
      " 6   location           645648 non-null  int64  \n",
      " 7   group_size         645648 non-null  int64  \n",
      " 8   homeowner          645648 non-null  int64  \n",
      " 9   car_age            645648 non-null  int64  \n",
      " 10  car_value          645648 non-null  object \n",
      " 11  risk_factor        645648 non-null  float64\n",
      " 12  age_oldest         645648 non-null  int64  \n",
      " 13  age_youngest       645648 non-null  int64  \n",
      " 14  married_couple     645648 non-null  int64  \n",
      " 15  c_previous         645648 non-null  float64\n",
      " 16  duration_previous  645648 non-null  float64\n",
      " 17  a                  645648 non-null  int64  \n",
      " 18  b                  645648 non-null  int64  \n",
      " 19  c                  645648 non-null  int64  \n",
      " 20  d                  645648 non-null  int64  \n",
      " 21  e                  645648 non-null  int64  \n",
      " 22  f                  645648 non-null  int64  \n",
      " 23  g                  645648 non-null  int64  \n",
      " 24  cost               645648 non-null  int64  \n",
      "dtypes: float64(3), int64(19), object(3)\n",
      "memory usage: 128.1+ MB\n"
     ]
    }
   ],
   "source": [
    "train_df.info()"
   ]
  },
  {
   "cell_type": "code",
   "execution_count": 15,
   "metadata": {},
   "outputs": [
    {
     "data": {
      "text/plain": [
       "array(['08:35', '08:38', '08:39', ..., '00:13', '00:16', '00:40'],\n",
       "      dtype=object)"
      ]
     },
     "execution_count": 15,
     "metadata": {},
     "output_type": "execute_result"
    }
   ],
   "source": [
    "train_df.time.unique()"
   ]
  },
  {
   "cell_type": "code",
   "execution_count": 16,
   "metadata": {},
   "outputs": [
    {
     "data": {
      "text/plain": [
       "Index(['customer_id', 'shopping_pt', 'record_type', 'day', 'state', 'location',\n",
       "       'group_size', 'homeowner', 'car_age', 'car_value', 'risk_factor',\n",
       "       'age_oldest', 'age_youngest', 'married_couple', 'c_previous',\n",
       "       'duration_previous', 'a', 'b', 'c', 'd', 'e', 'f', 'g', 'cost'],\n",
       "      dtype='object')"
      ]
     },
     "execution_count": 16,
     "metadata": {},
     "output_type": "execute_result"
    }
   ],
   "source": [
    "# dropping time column\n",
    "train_df = train_df.drop('time',axis=1)\n",
    "train_df.columns"
   ]
  },
  {
   "cell_type": "code",
   "execution_count": 17,
   "metadata": {},
   "outputs": [
    {
     "data": {
      "text/plain": [
       "array([10000000, 10000005, 10000007, ..., 10152721, 10152723, 10152724])"
      ]
     },
     "execution_count": 17,
     "metadata": {},
     "output_type": "execute_result"
    }
   ],
   "source": [
    "train_df.customer_id.unique()"
   ]
  },
  {
   "cell_type": "code",
   "execution_count": 18,
   "metadata": {},
   "outputs": [
    {
     "data": {
      "text/plain": [
       "Index(['shopping_pt', 'record_type', 'day', 'state', 'location', 'group_size',\n",
       "       'homeowner', 'car_age', 'car_value', 'risk_factor', 'age_oldest',\n",
       "       'age_youngest', 'married_couple', 'c_previous', 'duration_previous',\n",
       "       'a', 'b', 'c', 'd', 'e', 'f', 'g', 'cost'],\n",
       "      dtype='object')"
      ]
     },
     "execution_count": 18,
     "metadata": {},
     "output_type": "execute_result"
    }
   ],
   "source": [
    "# dropping customer_id column\n",
    "train_df = train_df.drop('customer_id',axis=1)\n",
    "train_df.columns"
   ]
  },
  {
   "cell_type": "code",
   "execution_count": 19,
   "metadata": {},
   "outputs": [
    {
     "data": {
      "text/plain": [
       "array([0, 3, 4, 2, 1, 5, 6])"
      ]
     },
     "execution_count": 19,
     "metadata": {},
     "output_type": "execute_result"
    }
   ],
   "source": [
    "train_df.day.unique()"
   ]
  },
  {
   "cell_type": "code",
   "execution_count": 20,
   "metadata": {},
   "outputs": [
    {
     "data": {
      "text/plain": [
       "0    136441\n",
       "1    132807\n",
       "2    129654\n",
       "4    119937\n",
       "3    117781\n",
       "5      8088\n",
       "6       940\n",
       "Name: day, dtype: int64"
      ]
     },
     "execution_count": 20,
     "metadata": {},
     "output_type": "execute_result"
    }
   ],
   "source": [
    "train_df['day'].value_counts()"
   ]
  },
  {
   "cell_type": "code",
   "execution_count": 21,
   "metadata": {},
   "outputs": [
    {
     "data": {
      "text/plain": [
       "0    118009\n",
       "1    113738\n",
       "2    110982\n",
       "3     99980\n",
       "4     99273\n",
       "5      6672\n",
       "6       821\n",
       "Name: day, dtype: int64"
      ]
     },
     "execution_count": 21,
     "metadata": {},
     "output_type": "execute_result"
    }
   ],
   "source": [
    "train_df['day'][train_df.record_type==0].value_counts()"
   ]
  },
  {
   "cell_type": "code",
   "execution_count": 22,
   "metadata": {},
   "outputs": [
    {
     "data": {
      "text/plain": [
       "Index(['shopping_pt', 'record_type', 'state', 'location', 'group_size',\n",
       "       'homeowner', 'car_age', 'car_value', 'risk_factor', 'age_oldest',\n",
       "       'age_youngest', 'married_couple', 'c_previous', 'duration_previous',\n",
       "       'a', 'b', 'c', 'd', 'e', 'f', 'g', 'cost'],\n",
       "      dtype='object')"
      ]
     },
     "execution_count": 22,
     "metadata": {},
     "output_type": "execute_result"
    }
   ],
   "source": [
    "# dropping day column\n",
    "train_df = train_df.drop('day',axis=1)\n",
    "train_df.columns"
   ]
  },
  {
   "cell_type": "code",
   "execution_count": 23,
   "metadata": {},
   "outputs": [],
   "source": [
    "# dropping day column\n",
    "#train_df = train_df.drop('shopping_pt',axis=1)\n",
    "#train_df.columns"
   ]
  },
  {
   "cell_type": "code",
   "execution_count": 24,
   "metadata": {},
   "outputs": [
    {
     "name": "stdout",
     "output_type": "stream",
     "text": [
      "<class 'pandas.core.frame.DataFrame'>\n",
      "Int64Index: 645648 entries, 0 to 665248\n",
      "Data columns (total 22 columns):\n",
      " #   Column             Non-Null Count   Dtype  \n",
      "---  ------             --------------   -----  \n",
      " 0   shopping_pt        645648 non-null  int64  \n",
      " 1   record_type        645648 non-null  int64  \n",
      " 2   state              645648 non-null  object \n",
      " 3   location           645648 non-null  int64  \n",
      " 4   group_size         645648 non-null  int64  \n",
      " 5   homeowner          645648 non-null  int64  \n",
      " 6   car_age            645648 non-null  int64  \n",
      " 7   car_value          645648 non-null  object \n",
      " 8   risk_factor        645648 non-null  float64\n",
      " 9   age_oldest         645648 non-null  int64  \n",
      " 10  age_youngest       645648 non-null  int64  \n",
      " 11  married_couple     645648 non-null  int64  \n",
      " 12  c_previous         645648 non-null  float64\n",
      " 13  duration_previous  645648 non-null  float64\n",
      " 14  a                  645648 non-null  int64  \n",
      " 15  b                  645648 non-null  int64  \n",
      " 16  c                  645648 non-null  int64  \n",
      " 17  d                  645648 non-null  int64  \n",
      " 18  e                  645648 non-null  int64  \n",
      " 19  f                  645648 non-null  int64  \n",
      " 20  g                  645648 non-null  int64  \n",
      " 21  cost               645648 non-null  int64  \n",
      "dtypes: float64(3), int64(17), object(2)\n",
      "memory usage: 113.3+ MB\n"
     ]
    }
   ],
   "source": [
    "train_df.info()"
   ]
  },
  {
   "cell_type": "markdown",
   "metadata": {},
   "source": [
    "Inspecting columns with type as float64"
   ]
  },
  {
   "cell_type": "code",
   "execution_count": 25,
   "metadata": {},
   "outputs": [
    {
     "data": {
      "text/plain": [
       "array([3., 4., 2., 1.])"
      ]
     },
     "execution_count": 25,
     "metadata": {},
     "output_type": "execute_result"
    }
   ],
   "source": [
    "train_df.risk_factor.unique()"
   ]
  },
  {
   "cell_type": "code",
   "execution_count": 26,
   "metadata": {},
   "outputs": [
    {
     "data": {
      "text/plain": [
       "array([3, 4, 2, 1])"
      ]
     },
     "execution_count": 26,
     "metadata": {},
     "output_type": "execute_result"
    }
   ],
   "source": [
    "# Convert risk_factor column to int type\n",
    "train_df['risk_factor']=train_df['risk_factor'].astype('int')\n",
    "train_df.risk_factor.unique()"
   ]
  },
  {
   "cell_type": "code",
   "execution_count": 27,
   "metadata": {},
   "outputs": [
    {
     "data": {
      "text/plain": [
       "array([1., 3., 2., 4.])"
      ]
     },
     "execution_count": 27,
     "metadata": {},
     "output_type": "execute_result"
    }
   ],
   "source": [
    "train_df.c_previous.unique()"
   ]
  },
  {
   "cell_type": "code",
   "execution_count": 28,
   "metadata": {},
   "outputs": [
    {
     "data": {
      "text/plain": [
       "array([1, 3, 2, 4])"
      ]
     },
     "execution_count": 28,
     "metadata": {},
     "output_type": "execute_result"
    }
   ],
   "source": [
    "# Convert c_previous column to int type\n",
    "train_df['c_previous']=train_df['c_previous'].astype('int')\n",
    "train_df.c_previous.unique()"
   ]
  },
  {
   "cell_type": "code",
   "execution_count": 29,
   "metadata": {},
   "outputs": [
    {
     "data": {
      "text/plain": [
       "array([ 2., 13.,  4.,  3.,  9.,  0.,  1.,  8., 14.,  5., 15.,  6.,  7.,\n",
       "       11., 10., 12.])"
      ]
     },
     "execution_count": 29,
     "metadata": {},
     "output_type": "execute_result"
    }
   ],
   "source": [
    " train_df.duration_previous.unique()"
   ]
  },
  {
   "cell_type": "code",
   "execution_count": 30,
   "metadata": {},
   "outputs": [
    {
     "data": {
      "text/plain": [
       "array([ 2, 13,  4,  3,  9,  0,  1,  8, 14,  5, 15,  6,  7, 11, 10, 12])"
      ]
     },
     "execution_count": 30,
     "metadata": {},
     "output_type": "execute_result"
    }
   ],
   "source": [
    "# Convert duration_previous column to int type\n",
    "train_df['duration_previous']=train_df['duration_previous'].astype('int')\n",
    "train_df.duration_previous.unique()"
   ]
  },
  {
   "cell_type": "code",
   "execution_count": 31,
   "metadata": {},
   "outputs": [
    {
     "name": "stdout",
     "output_type": "stream",
     "text": [
      "<class 'pandas.core.frame.DataFrame'>\n",
      "Int64Index: 645648 entries, 0 to 665248\n",
      "Data columns (total 22 columns):\n",
      " #   Column             Non-Null Count   Dtype \n",
      "---  ------             --------------   ----- \n",
      " 0   shopping_pt        645648 non-null  int64 \n",
      " 1   record_type        645648 non-null  int64 \n",
      " 2   state              645648 non-null  object\n",
      " 3   location           645648 non-null  int64 \n",
      " 4   group_size         645648 non-null  int64 \n",
      " 5   homeowner          645648 non-null  int64 \n",
      " 6   car_age            645648 non-null  int64 \n",
      " 7   car_value          645648 non-null  object\n",
      " 8   risk_factor        645648 non-null  int64 \n",
      " 9   age_oldest         645648 non-null  int64 \n",
      " 10  age_youngest       645648 non-null  int64 \n",
      " 11  married_couple     645648 non-null  int64 \n",
      " 12  c_previous         645648 non-null  int64 \n",
      " 13  duration_previous  645648 non-null  int64 \n",
      " 14  a                  645648 non-null  int64 \n",
      " 15  b                  645648 non-null  int64 \n",
      " 16  c                  645648 non-null  int64 \n",
      " 17  d                  645648 non-null  int64 \n",
      " 18  e                  645648 non-null  int64 \n",
      " 19  f                  645648 non-null  int64 \n",
      " 20  g                  645648 non-null  int64 \n",
      " 21  cost               645648 non-null  int64 \n",
      "dtypes: int64(20), object(2)\n",
      "memory usage: 113.3+ MB\n"
     ]
    }
   ],
   "source": [
    "train_df.info()"
   ]
  },
  {
   "cell_type": "code",
   "execution_count": 32,
   "metadata": {},
   "outputs": [
    {
     "data": {
      "text/html": [
       "<div>\n",
       "<style scoped>\n",
       "    .dataframe tbody tr th:only-of-type {\n",
       "        vertical-align: middle;\n",
       "    }\n",
       "\n",
       "    .dataframe tbody tr th {\n",
       "        vertical-align: top;\n",
       "    }\n",
       "\n",
       "    .dataframe thead th {\n",
       "        text-align: right;\n",
       "    }\n",
       "</style>\n",
       "<table border=\"1\" class=\"dataframe\">\n",
       "  <thead>\n",
       "    <tr style=\"text-align: right;\">\n",
       "      <th></th>\n",
       "      <th>shopping_pt</th>\n",
       "      <th>record_type</th>\n",
       "      <th>state</th>\n",
       "      <th>location</th>\n",
       "      <th>group_size</th>\n",
       "      <th>homeowner</th>\n",
       "      <th>car_age</th>\n",
       "      <th>car_value</th>\n",
       "      <th>risk_factor</th>\n",
       "      <th>age_oldest</th>\n",
       "      <th>...</th>\n",
       "      <th>c_previous</th>\n",
       "      <th>duration_previous</th>\n",
       "      <th>a</th>\n",
       "      <th>b</th>\n",
       "      <th>c</th>\n",
       "      <th>d</th>\n",
       "      <th>e</th>\n",
       "      <th>f</th>\n",
       "      <th>g</th>\n",
       "      <th>cost</th>\n",
       "    </tr>\n",
       "  </thead>\n",
       "  <tbody>\n",
       "    <tr>\n",
       "      <th>0</th>\n",
       "      <td>1</td>\n",
       "      <td>0</td>\n",
       "      <td>IN</td>\n",
       "      <td>10001</td>\n",
       "      <td>2</td>\n",
       "      <td>0</td>\n",
       "      <td>2</td>\n",
       "      <td>g</td>\n",
       "      <td>3</td>\n",
       "      <td>46</td>\n",
       "      <td>...</td>\n",
       "      <td>1</td>\n",
       "      <td>2</td>\n",
       "      <td>1</td>\n",
       "      <td>0</td>\n",
       "      <td>2</td>\n",
       "      <td>2</td>\n",
       "      <td>1</td>\n",
       "      <td>2</td>\n",
       "      <td>2</td>\n",
       "      <td>633</td>\n",
       "    </tr>\n",
       "    <tr>\n",
       "      <th>1</th>\n",
       "      <td>2</td>\n",
       "      <td>0</td>\n",
       "      <td>IN</td>\n",
       "      <td>10001</td>\n",
       "      <td>2</td>\n",
       "      <td>0</td>\n",
       "      <td>2</td>\n",
       "      <td>g</td>\n",
       "      <td>3</td>\n",
       "      <td>46</td>\n",
       "      <td>...</td>\n",
       "      <td>1</td>\n",
       "      <td>2</td>\n",
       "      <td>1</td>\n",
       "      <td>0</td>\n",
       "      <td>2</td>\n",
       "      <td>2</td>\n",
       "      <td>1</td>\n",
       "      <td>2</td>\n",
       "      <td>1</td>\n",
       "      <td>630</td>\n",
       "    </tr>\n",
       "    <tr>\n",
       "      <th>2</th>\n",
       "      <td>3</td>\n",
       "      <td>0</td>\n",
       "      <td>IN</td>\n",
       "      <td>10001</td>\n",
       "      <td>2</td>\n",
       "      <td>0</td>\n",
       "      <td>2</td>\n",
       "      <td>g</td>\n",
       "      <td>3</td>\n",
       "      <td>46</td>\n",
       "      <td>...</td>\n",
       "      <td>1</td>\n",
       "      <td>2</td>\n",
       "      <td>1</td>\n",
       "      <td>0</td>\n",
       "      <td>2</td>\n",
       "      <td>2</td>\n",
       "      <td>1</td>\n",
       "      <td>2</td>\n",
       "      <td>1</td>\n",
       "      <td>630</td>\n",
       "    </tr>\n",
       "    <tr>\n",
       "      <th>3</th>\n",
       "      <td>4</td>\n",
       "      <td>0</td>\n",
       "      <td>IN</td>\n",
       "      <td>10001</td>\n",
       "      <td>2</td>\n",
       "      <td>0</td>\n",
       "      <td>2</td>\n",
       "      <td>g</td>\n",
       "      <td>3</td>\n",
       "      <td>46</td>\n",
       "      <td>...</td>\n",
       "      <td>1</td>\n",
       "      <td>2</td>\n",
       "      <td>1</td>\n",
       "      <td>0</td>\n",
       "      <td>2</td>\n",
       "      <td>2</td>\n",
       "      <td>1</td>\n",
       "      <td>2</td>\n",
       "      <td>1</td>\n",
       "      <td>630</td>\n",
       "    </tr>\n",
       "    <tr>\n",
       "      <th>4</th>\n",
       "      <td>5</td>\n",
       "      <td>0</td>\n",
       "      <td>IN</td>\n",
       "      <td>10001</td>\n",
       "      <td>2</td>\n",
       "      <td>0</td>\n",
       "      <td>2</td>\n",
       "      <td>g</td>\n",
       "      <td>3</td>\n",
       "      <td>46</td>\n",
       "      <td>...</td>\n",
       "      <td>1</td>\n",
       "      <td>2</td>\n",
       "      <td>1</td>\n",
       "      <td>0</td>\n",
       "      <td>2</td>\n",
       "      <td>2</td>\n",
       "      <td>1</td>\n",
       "      <td>2</td>\n",
       "      <td>1</td>\n",
       "      <td>630</td>\n",
       "    </tr>\n",
       "  </tbody>\n",
       "</table>\n",
       "<p>5 rows × 22 columns</p>\n",
       "</div>"
      ],
      "text/plain": [
       "   shopping_pt  record_type state  location  group_size  homeowner  car_age  \\\n",
       "0            1            0    IN     10001           2          0        2   \n",
       "1            2            0    IN     10001           2          0        2   \n",
       "2            3            0    IN     10001           2          0        2   \n",
       "3            4            0    IN     10001           2          0        2   \n",
       "4            5            0    IN     10001           2          0        2   \n",
       "\n",
       "  car_value  risk_factor  age_oldest  ...  c_previous  duration_previous  a  \\\n",
       "0         g            3          46  ...           1                  2  1   \n",
       "1         g            3          46  ...           1                  2  1   \n",
       "2         g            3          46  ...           1                  2  1   \n",
       "3         g            3          46  ...           1                  2  1   \n",
       "4         g            3          46  ...           1                  2  1   \n",
       "\n",
       "   b  c  d  e  f  g  cost  \n",
       "0  0  2  2  1  2  2   633  \n",
       "1  0  2  2  1  2  1   630  \n",
       "2  0  2  2  1  2  1   630  \n",
       "3  0  2  2  1  2  1   630  \n",
       "4  0  2  2  1  2  1   630  \n",
       "\n",
       "[5 rows x 22 columns]"
      ]
     },
     "execution_count": 32,
     "metadata": {},
     "output_type": "execute_result"
    }
   ],
   "source": [
    "train_df.head()"
   ]
  },
  {
   "cell_type": "code",
   "execution_count": 33,
   "metadata": {},
   "outputs": [
    {
     "data": {
      "text/plain": [
       "array(['IN', 'NY', 'PA', 'WV', 'MO', 'OH', 'OK', 'FL', 'OR', 'WA', 'KS',\n",
       "       'NV', 'ID', 'CO', 'CT', 'AL', 'AR', 'NM', 'MS', 'MD', 'RI', 'ME',\n",
       "       'TN', 'UT', 'WI', 'MT', 'KY', 'WY', 'NE', 'ND', 'DE', 'GA', 'NH',\n",
       "       'IA', 'DC', 'SD'], dtype=object)"
      ]
     },
     "execution_count": 33,
     "metadata": {},
     "output_type": "execute_result"
    }
   ],
   "source": [
    "train_df.state.unique()"
   ]
  },
  {
   "cell_type": "code",
   "execution_count": 34,
   "metadata": {},
   "outputs": [
    {
     "data": {
      "text/plain": [
       "FL    104988\n",
       "NY     89589\n",
       "PA     59049\n",
       "OH     43417\n",
       "MD     27957\n",
       "WA     24537\n",
       "IN     23891\n",
       "CO     23260\n",
       "AL     22972\n",
       "CT     18847\n",
       "TN     17537\n",
       "KY     15589\n",
       "NV     15092\n",
       "MO     14759\n",
       "OR     14207\n",
       "UT     14167\n",
       "OK     13526\n",
       "MS     10258\n",
       "AR     10223\n",
       "WI      9954\n",
       "GA      8484\n",
       "NH      7312\n",
       "NM      6676\n",
       "ME      6370\n",
       "ID      5873\n",
       "RI      5711\n",
       "KS      5490\n",
       "WV      4989\n",
       "IA      4436\n",
       "DE      3996\n",
       "DC      3271\n",
       "MT      3110\n",
       "NE      3087\n",
       "ND      1454\n",
       "WY      1133\n",
       "SD       437\n",
       "Name: state, dtype: int64"
      ]
     },
     "execution_count": 34,
     "metadata": {},
     "output_type": "execute_result"
    }
   ],
   "source": [
    "train_df['state'].value_counts()"
   ]
  },
  {
   "cell_type": "code",
   "execution_count": 35,
   "metadata": {},
   "outputs": [
    {
     "data": {
      "text/plain": [
       "FL    14599\n",
       "NY    13574\n",
       "PA     8900\n",
       "OH     6641\n",
       "MD     4218\n",
       "IN     3639\n",
       "AL     3578\n",
       "WA     3561\n",
       "CO     3516\n",
       "CT     2813\n",
       "TN     2635\n",
       "KY     2348\n",
       "MO     2193\n",
       "OR     2138\n",
       "NV     2119\n",
       "UT     2069\n",
       "OK     2018\n",
       "AR     1561\n",
       "MS     1557\n",
       "WI     1544\n",
       "GA     1254\n",
       "NH     1091\n",
       "ME     1002\n",
       "NM      999\n",
       "ID      885\n",
       "RI      873\n",
       "KS      858\n",
       "WV      779\n",
       "IA      686\n",
       "DE      595\n",
       "DC      502\n",
       "NE      490\n",
       "MT      461\n",
       "ND      240\n",
       "WY      166\n",
       "SD       71\n",
       "Name: state, dtype: int64"
      ]
     },
     "execution_count": 35,
     "metadata": {},
     "output_type": "execute_result"
    }
   ],
   "source": [
    "train_df['state'][train_df.record_type==1].value_counts()"
   ]
  },
  {
   "cell_type": "code",
   "execution_count": 36,
   "metadata": {},
   "outputs": [
    {
     "data": {
      "text/plain": [
       "array([10001, 10006, 10008, ..., 16579, 16562, 16580])"
      ]
     },
     "execution_count": 36,
     "metadata": {},
     "output_type": "execute_result"
    }
   ],
   "source": [
    "train_df.location.unique()"
   ]
  },
  {
   "cell_type": "code",
   "execution_count": 37,
   "metadata": {},
   "outputs": [
    {
     "data": {
      "text/plain": [
       "10083    1027\n",
       "10213     974\n",
       "11517     864\n",
       "10348     860\n",
       "10030     782\n",
       "         ... \n",
       "16299       1\n",
       "16166       1\n",
       "16026       1\n",
       "16140       1\n",
       "16405       1\n",
       "Name: location, Length: 6244, dtype: int64"
      ]
     },
     "execution_count": 37,
     "metadata": {},
     "output_type": "execute_result"
    }
   ],
   "source": [
    "train_df['location'].value_counts()"
   ]
  },
  {
   "cell_type": "code",
   "execution_count": 38,
   "metadata": {},
   "outputs": [
    {
     "data": {
      "text/plain": [
       "1    503170\n",
       "2    133112\n",
       "3      8686\n",
       "4       680\n",
       "Name: group_size, dtype: int64"
      ]
     },
     "execution_count": 38,
     "metadata": {},
     "output_type": "execute_result"
    }
   ],
   "source": [
    "train_df['group_size'].value_counts()"
   ]
  },
  {
   "cell_type": "code",
   "execution_count": 39,
   "metadata": {},
   "outputs": [
    {
     "data": {
      "text/plain": [
       "1    74924\n",
       "2    19865\n",
       "3     1274\n",
       "4      110\n",
       "Name: group_size, dtype: int64"
      ]
     },
     "execution_count": 39,
     "metadata": {},
     "output_type": "execute_result"
    }
   ],
   "source": [
    "train_df['group_size'][train_df.record_type==1].value_counts()"
   ]
  },
  {
   "cell_type": "code",
   "execution_count": 40,
   "metadata": {},
   "outputs": [
    {
     "data": {
      "text/plain": [
       "1    348357\n",
       "0    297291\n",
       "Name: homeowner, dtype: int64"
      ]
     },
     "execution_count": 40,
     "metadata": {},
     "output_type": "execute_result"
    }
   ],
   "source": [
    "train_df['homeowner'].value_counts()"
   ]
  },
  {
   "cell_type": "code",
   "execution_count": 41,
   "metadata": {},
   "outputs": [
    {
     "data": {
      "text/plain": [
       "1    52620\n",
       "0    43553\n",
       "Name: homeowner, dtype: int64"
      ]
     },
     "execution_count": 41,
     "metadata": {},
     "output_type": "execute_result"
    }
   ],
   "source": [
    "train_df['homeowner'][train_df.record_type==1].value_counts()"
   ]
  },
  {
   "cell_type": "code",
   "execution_count": 42,
   "metadata": {},
   "outputs": [
    {
     "data": {
      "text/plain": [
       "1     69635\n",
       "2     49355\n",
       "7     45681\n",
       "6     43408\n",
       "8     43217\n",
       "      ...  \n",
       "65        5\n",
       "51        5\n",
       "60        4\n",
       "85        4\n",
       "54        1\n",
       "Name: car_age, Length: 67, dtype: int64"
      ]
     },
     "execution_count": 42,
     "metadata": {},
     "output_type": "execute_result"
    }
   ],
   "source": [
    "train_df['car_age'].value_counts()"
   ]
  },
  {
   "cell_type": "code",
   "execution_count": 43,
   "metadata": {},
   "outputs": [
    {
     "data": {
      "text/plain": [
       "1     10290\n",
       "2      7292\n",
       "7      6772\n",
       "8      6424\n",
       "6      6399\n",
       "      ...  \n",
       "55        1\n",
       "57        1\n",
       "58        1\n",
       "65        1\n",
       "60        1\n",
       "Name: car_age, Length: 65, dtype: int64"
      ]
     },
     "execution_count": 43,
     "metadata": {},
     "output_type": "execute_result"
    }
   ],
   "source": [
    "train_df['car_age'][train_df.record_type==1].value_counts()"
   ]
  },
  {
   "cell_type": "code",
   "execution_count": 44,
   "metadata": {},
   "outputs": [
    {
     "data": {
      "text/plain": [
       "e    213495\n",
       "f    172456\n",
       "d    109861\n",
       "g     95497\n",
       "h     28224\n",
       "c     20179\n",
       "i      3520\n",
       "b      1342\n",
       "a      1074\n",
       "Name: car_value, dtype: int64"
      ]
     },
     "execution_count": 44,
     "metadata": {},
     "output_type": "execute_result"
    }
   ],
   "source": [
    "train_df['car_value'].value_counts()"
   ]
  },
  {
   "cell_type": "code",
   "execution_count": 45,
   "metadata": {},
   "outputs": [
    {
     "data": {
      "text/plain": [
       "e    31884\n",
       "f    25725\n",
       "d    16252\n",
       "g    14283\n",
       "h     4126\n",
       "c     3027\n",
       "i      500\n",
       "b      206\n",
       "a      170\n",
       "Name: car_value, dtype: int64"
      ]
     },
     "execution_count": 45,
     "metadata": {},
     "output_type": "execute_result"
    }
   ],
   "source": [
    "train_df['car_value'][train_df.record_type==1].value_counts()"
   ]
  },
  {
   "cell_type": "code",
   "execution_count": 46,
   "metadata": {},
   "outputs": [
    {
     "data": {
      "text/plain": [
       "75    44133\n",
       "24    20875\n",
       "23    20751\n",
       "25    20617\n",
       "22    18930\n",
       "26    18121\n",
       "27    15494\n",
       "28    14751\n",
       "21    13686\n",
       "29    12771\n",
       "30    12371\n",
       "31    11636\n",
       "32    11279\n",
       "33    11079\n",
       "43    11039\n",
       "55    10842\n",
       "42    10747\n",
       "52    10686\n",
       "34    10658\n",
       "53    10490\n",
       "46    10458\n",
       "35    10385\n",
       "56    10380\n",
       "49    10308\n",
       "54    10283\n",
       "48    10268\n",
       "58    10211\n",
       "51    10130\n",
       "50     9983\n",
       "59     9908\n",
       "45     9860\n",
       "44     9839\n",
       "41     9815\n",
       "20     9700\n",
       "36     9656\n",
       "57     9615\n",
       "47     9589\n",
       "37     9532\n",
       "66     9518\n",
       "65     9455\n",
       "63     9444\n",
       "38     9440\n",
       "60     9417\n",
       "40     9321\n",
       "61     9257\n",
       "39     9192\n",
       "62     9149\n",
       "64     9076\n",
       "70     8092\n",
       "69     7458\n",
       "67     7391\n",
       "68     6819\n",
       "71     6738\n",
       "19     6210\n",
       "72     6055\n",
       "73     5724\n",
       "74     5551\n",
       "18     1465\n",
       "Name: age_oldest, dtype: int64"
      ]
     },
     "execution_count": 46,
     "metadata": {},
     "output_type": "execute_result"
    }
   ],
   "source": [
    "train_df['age_oldest'].value_counts()"
   ]
  },
  {
   "cell_type": "code",
   "execution_count": 47,
   "metadata": {},
   "outputs": [
    {
     "data": {
      "text/plain": [
       "75    33482\n",
       "23    23386\n",
       "25    22779\n",
       "24    22765\n",
       "22    21464\n",
       "26    19886\n",
       "27    17154\n",
       "21    16677\n",
       "28    16383\n",
       "29    14013\n",
       "30    13268\n",
       "20    12903\n",
       "31    12625\n",
       "32    12137\n",
       "33    11663\n",
       "34    11139\n",
       "35    10821\n",
       "55     9992\n",
       "43     9858\n",
       "42     9826\n",
       "52     9715\n",
       "19     9678\n",
       "36     9624\n",
       "48     9507\n",
       "37     9495\n",
       "46     9469\n",
       "58     9454\n",
       "53     9452\n",
       "51     9382\n",
       "49     9371\n",
       "56     9349\n",
       "38     9316\n",
       "50     9263\n",
       "54     9251\n",
       "41     9223\n",
       "40     9084\n",
       "45     9039\n",
       "44     8981\n",
       "65     8936\n",
       "57     8894\n",
       "39     8834\n",
       "60     8686\n",
       "47     8674\n",
       "59     8666\n",
       "66     8661\n",
       "62     8539\n",
       "61     8490\n",
       "63     8415\n",
       "64     8353\n",
       "70     7142\n",
       "69     6870\n",
       "68     6295\n",
       "67     6075\n",
       "71     6021\n",
       "72     5148\n",
       "73     5069\n",
       "74     4931\n",
       "18     4835\n",
       "16     4380\n",
       "17     2860\n",
       "Name: age_youngest, dtype: int64"
      ]
     },
     "execution_count": 47,
     "metadata": {},
     "output_type": "execute_result"
    }
   ],
   "source": [
    "train_df['age_youngest'].value_counts()"
   ]
  },
  {
   "cell_type": "code",
   "execution_count": 48,
   "metadata": {},
   "outputs": [
    {
     "data": {
      "text/plain": [
       "0    509473\n",
       "1    136175\n",
       "Name: married_couple, dtype: int64"
      ]
     },
     "execution_count": 48,
     "metadata": {},
     "output_type": "execute_result"
    }
   ],
   "source": [
    "train_df['married_couple'].value_counts()"
   ]
  },
  {
   "cell_type": "code",
   "execution_count": 49,
   "metadata": {},
   "outputs": [
    {
     "data": {
      "text/plain": [
       "3    270882\n",
       "1    171605\n",
       "2    109025\n",
       "4     94136\n",
       "Name: c_previous, dtype: int64"
      ]
     },
     "execution_count": 49,
     "metadata": {},
     "output_type": "execute_result"
    }
   ],
   "source": [
    "train_df['c_previous'].value_counts()"
   ]
  },
  {
   "cell_type": "code",
   "execution_count": 50,
   "metadata": {},
   "outputs": [
    {
     "data": {
      "text/plain": [
       "1     81270\n",
       "15    79825\n",
       "2     79388\n",
       "3     70682\n",
       "4     57417\n",
       "5     49332\n",
       "6     45356\n",
       "7     37754\n",
       "8     30734\n",
       "9     26235\n",
       "0     24874\n",
       "10    18092\n",
       "11    12715\n",
       "12    11282\n",
       "13    10955\n",
       "14     9737\n",
       "Name: duration_previous, dtype: int64"
      ]
     },
     "execution_count": 50,
     "metadata": {},
     "output_type": "execute_result"
    }
   ],
   "source": [
    "train_df['duration_previous'].value_counts()"
   ]
  },
  {
   "cell_type": "code",
   "execution_count": 51,
   "metadata": {},
   "outputs": [
    {
     "data": {
      "text/plain": [
       "1    416650\n",
       "0    135744\n",
       "2     93254\n",
       "Name: a, dtype: int64"
      ]
     },
     "execution_count": 51,
     "metadata": {},
     "output_type": "execute_result"
    }
   ],
   "source": [
    "train_df['a'].value_counts()"
   ]
  },
  {
   "cell_type": "code",
   "execution_count": 52,
   "metadata": {},
   "outputs": [
    {
     "data": {
      "text/plain": [
       "0    349542\n",
       "1    296106\n",
       "Name: b, dtype: int64"
      ]
     },
     "execution_count": 52,
     "metadata": {},
     "output_type": "execute_result"
    }
   ],
   "source": [
    "train_df['b'].value_counts()"
   ]
  },
  {
   "cell_type": "code",
   "execution_count": 53,
   "metadata": {},
   "outputs": [
    {
     "data": {
      "text/plain": [
       "3    266103\n",
       "1    193609\n",
       "2    129597\n",
       "4     56339\n",
       "Name: c, dtype: int64"
      ]
     },
     "execution_count": 53,
     "metadata": {},
     "output_type": "execute_result"
    }
   ],
   "source": [
    "train_df['c'].value_counts()"
   ]
  },
  {
   "cell_type": "code",
   "execution_count": 54,
   "metadata": {},
   "outputs": [
    {
     "data": {
      "text/plain": [
       "3    401183\n",
       "2    145026\n",
       "1     99439\n",
       "Name: d, dtype: int64"
      ]
     },
     "execution_count": 54,
     "metadata": {},
     "output_type": "execute_result"
    }
   ],
   "source": [
    "train_df['d'].value_counts()"
   ]
  },
  {
   "cell_type": "code",
   "execution_count": 55,
   "metadata": {},
   "outputs": [
    {
     "data": {
      "text/plain": [
       "0    354557\n",
       "1    291091\n",
       "Name: e, dtype: int64"
      ]
     },
     "execution_count": 55,
     "metadata": {},
     "output_type": "execute_result"
    }
   ],
   "source": [
    "train_df['e'].value_counts()"
   ]
  },
  {
   "cell_type": "code",
   "execution_count": 56,
   "metadata": {},
   "outputs": [
    {
     "data": {
      "text/plain": [
       "2    249890\n",
       "0    206957\n",
       "1    155474\n",
       "3     33327\n",
       "Name: f, dtype: int64"
      ]
     },
     "execution_count": 56,
     "metadata": {},
     "output_type": "execute_result"
    }
   ],
   "source": [
    "train_df['f'].value_counts()"
   ]
  },
  {
   "cell_type": "code",
   "execution_count": 57,
   "metadata": {},
   "outputs": [
    {
     "data": {
      "text/plain": [
       "2    251112\n",
       "3    189315\n",
       "1    139280\n",
       "4     65941\n",
       "Name: g, dtype: int64"
      ]
     },
     "execution_count": 57,
     "metadata": {},
     "output_type": "execute_result"
    }
   ],
   "source": [
    "train_df['g'].value_counts()"
   ]
  },
  {
   "cell_type": "code",
   "execution_count": 58,
   "metadata": {},
   "outputs": [
    {
     "data": {
      "text/plain": [
       "633    5901\n",
       "637    5869\n",
       "626    5824\n",
       "638    5808\n",
       "640    5801\n",
       "       ... \n",
       "418       1\n",
       "416       1\n",
       "851       1\n",
       "408       1\n",
       "860       1\n",
       "Name: cost, Length: 524, dtype: int64"
      ]
     },
     "execution_count": 58,
     "metadata": {},
     "output_type": "execute_result"
    }
   ],
   "source": [
    "train_df['cost'].value_counts()"
   ]
  },
  {
   "cell_type": "code",
   "execution_count": 59,
   "metadata": {},
   "outputs": [
    {
     "name": "stdout",
     "output_type": "stream",
     "text": [
      "<class 'pandas.core.frame.DataFrame'>\n",
      "Int64Index: 645648 entries, 0 to 665248\n",
      "Data columns (total 22 columns):\n",
      " #   Column             Non-Null Count   Dtype \n",
      "---  ------             --------------   ----- \n",
      " 0   shopping_pt        645648 non-null  int64 \n",
      " 1   record_type        645648 non-null  int64 \n",
      " 2   state              645648 non-null  object\n",
      " 3   location           645648 non-null  int64 \n",
      " 4   group_size         645648 non-null  int64 \n",
      " 5   homeowner          645648 non-null  int64 \n",
      " 6   car_age            645648 non-null  int64 \n",
      " 7   car_value          645648 non-null  object\n",
      " 8   risk_factor        645648 non-null  int64 \n",
      " 9   age_oldest         645648 non-null  int64 \n",
      " 10  age_youngest       645648 non-null  int64 \n",
      " 11  married_couple     645648 non-null  int64 \n",
      " 12  c_previous         645648 non-null  int64 \n",
      " 13  duration_previous  645648 non-null  int64 \n",
      " 14  a                  645648 non-null  int64 \n",
      " 15  b                  645648 non-null  int64 \n",
      " 16  c                  645648 non-null  int64 \n",
      " 17  d                  645648 non-null  int64 \n",
      " 18  e                  645648 non-null  int64 \n",
      " 19  f                  645648 non-null  int64 \n",
      " 20  g                  645648 non-null  int64 \n",
      " 21  cost               645648 non-null  int64 \n",
      "dtypes: int64(20), object(2)\n",
      "memory usage: 113.3+ MB\n"
     ]
    }
   ],
   "source": [
    "train_df.info()"
   ]
  },
  {
   "cell_type": "markdown",
   "metadata": {},
   "source": [
    "Converting 'state','location','group_size','homeowner','car_value','risk_factor','married_couple','c_previous','a','b','c','d','e','f' and 'g' columns to category type"
   ]
  },
  {
   "cell_type": "code",
   "execution_count": 60,
   "metadata": {},
   "outputs": [],
   "source": [
    "categorical_cols = ['state','location','group_size','homeowner','car_value','risk_factor','married_couple',\n",
    "                    'c_previous','a','b','c','d','e','f','g'] "
   ]
  },
  {
   "cell_type": "code",
   "execution_count": 61,
   "metadata": {},
   "outputs": [
    {
     "name": "stdout",
     "output_type": "stream",
     "text": [
      "<class 'pandas.core.frame.DataFrame'>\n",
      "Int64Index: 645648 entries, 0 to 665248\n",
      "Data columns (total 22 columns):\n",
      " #   Column             Non-Null Count   Dtype   \n",
      "---  ------             --------------   -----   \n",
      " 0   shopping_pt        645648 non-null  int64   \n",
      " 1   record_type        645648 non-null  int64   \n",
      " 2   state              645648 non-null  category\n",
      " 3   location           645648 non-null  category\n",
      " 4   group_size         645648 non-null  category\n",
      " 5   homeowner          645648 non-null  category\n",
      " 6   car_age            645648 non-null  int64   \n",
      " 7   car_value          645648 non-null  category\n",
      " 8   risk_factor        645648 non-null  category\n",
      " 9   age_oldest         645648 non-null  int64   \n",
      " 10  age_youngest       645648 non-null  int64   \n",
      " 11  married_couple     645648 non-null  category\n",
      " 12  c_previous         645648 non-null  category\n",
      " 13  duration_previous  645648 non-null  int64   \n",
      " 14  a                  645648 non-null  category\n",
      " 15  b                  645648 non-null  category\n",
      " 16  c                  645648 non-null  category\n",
      " 17  d                  645648 non-null  category\n",
      " 18  e                  645648 non-null  category\n",
      " 19  f                  645648 non-null  category\n",
      " 20  g                  645648 non-null  category\n",
      " 21  cost               645648 non-null  int64   \n",
      "dtypes: category(15), int64(7)\n",
      "memory usage: 49.5 MB\n"
     ]
    }
   ],
   "source": [
    "for col in categorical_cols:\n",
    "  train_df[col] = train_df[col].astype('category')\n",
    "train_df.info()"
   ]
  },
  {
   "cell_type": "code",
   "execution_count": 62,
   "metadata": {},
   "outputs": [
    {
     "name": "stdout",
     "output_type": "stream",
     "text": [
      "<class 'pandas.core.frame.DataFrame'>\n",
      "Int64Index: 645648 entries, 0 to 665248\n",
      "Data columns (total 22 columns):\n",
      " #   Column             Non-Null Count   Dtype\n",
      "---  ------             --------------   -----\n",
      " 0   shopping_pt        645648 non-null  int64\n",
      " 1   record_type        645648 non-null  int64\n",
      " 2   state              645648 non-null  int64\n",
      " 3   location           645648 non-null  int64\n",
      " 4   group_size         645648 non-null  int64\n",
      " 5   homeowner          645648 non-null  int64\n",
      " 6   car_age            645648 non-null  int64\n",
      " 7   car_value          645648 non-null  int64\n",
      " 8   risk_factor        645648 non-null  int64\n",
      " 9   age_oldest         645648 non-null  int64\n",
      " 10  age_youngest       645648 non-null  int64\n",
      " 11  married_couple     645648 non-null  int64\n",
      " 12  c_previous         645648 non-null  int64\n",
      " 13  duration_previous  645648 non-null  int64\n",
      " 14  a                  645648 non-null  int64\n",
      " 15  b                  645648 non-null  int64\n",
      " 16  c                  645648 non-null  int64\n",
      " 17  d                  645648 non-null  int64\n",
      " 18  e                  645648 non-null  int64\n",
      " 19  f                  645648 non-null  int64\n",
      " 20  g                  645648 non-null  int64\n",
      " 21  cost               645648 non-null  int64\n",
      "dtypes: int64(22)\n",
      "memory usage: 113.3 MB\n"
     ]
    }
   ],
   "source": [
    "# instantiate labelencoder object\n",
    "le = LabelEncoder()\n",
    "# apply le on categorical feature columns\n",
    "train_df[categorical_cols] = train_df[categorical_cols].apply(lambda col: le.fit_transform(col))\n",
    "train_df.info()\n"
   ]
  },
  {
   "cell_type": "code",
   "execution_count": 63,
   "metadata": {},
   "outputs": [
    {
     "data": {
      "text/plain": [
       "0    549475\n",
       "1     96173\n",
       "Name: record_type, dtype: int64"
      ]
     },
     "execution_count": 63,
     "metadata": {},
     "output_type": "execute_result"
    }
   ],
   "source": [
    "train_df['record_type'].value_counts()"
   ]
  },
  {
   "cell_type": "markdown",
   "metadata": {},
   "source": [
    "There are 549,475 records with 0 record_type and only 96,173 records with 1. Which is about 14% of total records 645,648 records. \n",
    "\n",
    "Any model trained on this data set would have over sampling records for record_type as 1)"
   ]
  },
  {
   "cell_type": "code",
   "execution_count": 64,
   "metadata": {},
   "outputs": [
    {
     "data": {
      "text/html": [
       "<div>\n",
       "<style scoped>\n",
       "    .dataframe tbody tr th:only-of-type {\n",
       "        vertical-align: middle;\n",
       "    }\n",
       "\n",
       "    .dataframe tbody tr th {\n",
       "        vertical-align: top;\n",
       "    }\n",
       "\n",
       "    .dataframe thead th {\n",
       "        text-align: right;\n",
       "    }\n",
       "</style>\n",
       "<table border=\"1\" class=\"dataframe\">\n",
       "  <thead>\n",
       "    <tr style=\"text-align: right;\">\n",
       "      <th></th>\n",
       "      <th>shopping_pt</th>\n",
       "      <th>record_type</th>\n",
       "      <th>state</th>\n",
       "      <th>location</th>\n",
       "      <th>group_size</th>\n",
       "      <th>homeowner</th>\n",
       "      <th>car_age</th>\n",
       "      <th>car_value</th>\n",
       "      <th>risk_factor</th>\n",
       "      <th>age_oldest</th>\n",
       "      <th>...</th>\n",
       "      <th>c_previous</th>\n",
       "      <th>duration_previous</th>\n",
       "      <th>a</th>\n",
       "      <th>b</th>\n",
       "      <th>c</th>\n",
       "      <th>d</th>\n",
       "      <th>e</th>\n",
       "      <th>f</th>\n",
       "      <th>g</th>\n",
       "      <th>cost</th>\n",
       "    </tr>\n",
       "  </thead>\n",
       "  <tbody>\n",
       "    <tr>\n",
       "      <th>0</th>\n",
       "      <td>1</td>\n",
       "      <td>0</td>\n",
       "      <td>10</td>\n",
       "      <td>0</td>\n",
       "      <td>1</td>\n",
       "      <td>0</td>\n",
       "      <td>2</td>\n",
       "      <td>6</td>\n",
       "      <td>2</td>\n",
       "      <td>46</td>\n",
       "      <td>...</td>\n",
       "      <td>0</td>\n",
       "      <td>2</td>\n",
       "      <td>1</td>\n",
       "      <td>0</td>\n",
       "      <td>1</td>\n",
       "      <td>1</td>\n",
       "      <td>1</td>\n",
       "      <td>2</td>\n",
       "      <td>1</td>\n",
       "      <td>633</td>\n",
       "    </tr>\n",
       "    <tr>\n",
       "      <th>1</th>\n",
       "      <td>2</td>\n",
       "      <td>0</td>\n",
       "      <td>10</td>\n",
       "      <td>0</td>\n",
       "      <td>1</td>\n",
       "      <td>0</td>\n",
       "      <td>2</td>\n",
       "      <td>6</td>\n",
       "      <td>2</td>\n",
       "      <td>46</td>\n",
       "      <td>...</td>\n",
       "      <td>0</td>\n",
       "      <td>2</td>\n",
       "      <td>1</td>\n",
       "      <td>0</td>\n",
       "      <td>1</td>\n",
       "      <td>1</td>\n",
       "      <td>1</td>\n",
       "      <td>2</td>\n",
       "      <td>0</td>\n",
       "      <td>630</td>\n",
       "    </tr>\n",
       "    <tr>\n",
       "      <th>2</th>\n",
       "      <td>3</td>\n",
       "      <td>0</td>\n",
       "      <td>10</td>\n",
       "      <td>0</td>\n",
       "      <td>1</td>\n",
       "      <td>0</td>\n",
       "      <td>2</td>\n",
       "      <td>6</td>\n",
       "      <td>2</td>\n",
       "      <td>46</td>\n",
       "      <td>...</td>\n",
       "      <td>0</td>\n",
       "      <td>2</td>\n",
       "      <td>1</td>\n",
       "      <td>0</td>\n",
       "      <td>1</td>\n",
       "      <td>1</td>\n",
       "      <td>1</td>\n",
       "      <td>2</td>\n",
       "      <td>0</td>\n",
       "      <td>630</td>\n",
       "    </tr>\n",
       "    <tr>\n",
       "      <th>3</th>\n",
       "      <td>4</td>\n",
       "      <td>0</td>\n",
       "      <td>10</td>\n",
       "      <td>0</td>\n",
       "      <td>1</td>\n",
       "      <td>0</td>\n",
       "      <td>2</td>\n",
       "      <td>6</td>\n",
       "      <td>2</td>\n",
       "      <td>46</td>\n",
       "      <td>...</td>\n",
       "      <td>0</td>\n",
       "      <td>2</td>\n",
       "      <td>1</td>\n",
       "      <td>0</td>\n",
       "      <td>1</td>\n",
       "      <td>1</td>\n",
       "      <td>1</td>\n",
       "      <td>2</td>\n",
       "      <td>0</td>\n",
       "      <td>630</td>\n",
       "    </tr>\n",
       "    <tr>\n",
       "      <th>4</th>\n",
       "      <td>5</td>\n",
       "      <td>0</td>\n",
       "      <td>10</td>\n",
       "      <td>0</td>\n",
       "      <td>1</td>\n",
       "      <td>0</td>\n",
       "      <td>2</td>\n",
       "      <td>6</td>\n",
       "      <td>2</td>\n",
       "      <td>46</td>\n",
       "      <td>...</td>\n",
       "      <td>0</td>\n",
       "      <td>2</td>\n",
       "      <td>1</td>\n",
       "      <td>0</td>\n",
       "      <td>1</td>\n",
       "      <td>1</td>\n",
       "      <td>1</td>\n",
       "      <td>2</td>\n",
       "      <td>0</td>\n",
       "      <td>630</td>\n",
       "    </tr>\n",
       "  </tbody>\n",
       "</table>\n",
       "<p>5 rows × 22 columns</p>\n",
       "</div>"
      ],
      "text/plain": [
       "   shopping_pt  record_type  state  location  group_size  homeowner  car_age  \\\n",
       "0            1            0     10         0           1          0        2   \n",
       "1            2            0     10         0           1          0        2   \n",
       "2            3            0     10         0           1          0        2   \n",
       "3            4            0     10         0           1          0        2   \n",
       "4            5            0     10         0           1          0        2   \n",
       "\n",
       "   car_value  risk_factor  age_oldest  ...  c_previous  duration_previous  a  \\\n",
       "0          6            2          46  ...           0                  2  1   \n",
       "1          6            2          46  ...           0                  2  1   \n",
       "2          6            2          46  ...           0                  2  1   \n",
       "3          6            2          46  ...           0                  2  1   \n",
       "4          6            2          46  ...           0                  2  1   \n",
       "\n",
       "   b  c  d  e  f  g  cost  \n",
       "0  0  1  1  1  2  1   633  \n",
       "1  0  1  1  1  2  0   630  \n",
       "2  0  1  1  1  2  0   630  \n",
       "3  0  1  1  1  2  0   630  \n",
       "4  0  1  1  1  2  0   630  \n",
       "\n",
       "[5 rows x 22 columns]"
      ]
     },
     "execution_count": 64,
     "metadata": {},
     "output_type": "execute_result"
    }
   ],
   "source": [
    "train_df.head()"
   ]
  },
  {
   "cell_type": "code",
   "execution_count": 65,
   "metadata": {},
   "outputs": [],
   "source": [
    "X_df = train_df.drop('record_type',axis=1)"
   ]
  },
  {
   "cell_type": "code",
   "execution_count": 66,
   "metadata": {},
   "outputs": [
    {
     "data": {
      "text/plain": [
       "0         0\n",
       "1         0\n",
       "2         0\n",
       "3         0\n",
       "4         0\n",
       "         ..\n",
       "665244    0\n",
       "665245    0\n",
       "665246    0\n",
       "665247    0\n",
       "665248    1\n",
       "Name: record_type, Length: 645648, dtype: int64"
      ]
     },
     "execution_count": 66,
     "metadata": {},
     "output_type": "execute_result"
    }
   ],
   "source": [
    "y_recordtype = train_df['record_type']\n",
    "y_recordtype"
   ]
  },
  {
   "cell_type": "code",
   "execution_count": 67,
   "metadata": {},
   "outputs": [],
   "source": [
    "# Split the data into a training and test set.\n",
    "Xlr, Xtestlr, ylr, ytestlr = train_test_split(X_df, \n",
    "                                              y_recordtype, test_size=0.1,random_state=42)"
   ]
  },
  {
   "cell_type": "code",
   "execution_count": 69,
   "metadata": {},
   "outputs": [],
   "source": [
    "predictors=Xlr.to_numpy()"
   ]
  },
  {
   "cell_type": "code",
   "execution_count": 70,
   "metadata": {},
   "outputs": [
    {
     "data": {
      "text/plain": [
       "array([[   3,    6,  301, ...,    2,    2,  615],\n",
       "       [   5,   32,  167, ...,    1,    2,  623],\n",
       "       [   4,    6, 1212, ...,    2,    2,  699],\n",
       "       ...,\n",
       "       [   6,   15, 2527, ...,    2,    1,  642],\n",
       "       [   7,    4, 3385, ...,    2,    1,  679],\n",
       "       [   5,   24,   16, ...,    1,    2,  542]])"
      ]
     },
     "execution_count": 70,
     "metadata": {},
     "output_type": "execute_result"
    }
   ],
   "source": [
    "#predictors = train_df.drop(['record_type'],axis=1).to_numpy()\n",
    "predictors"
   ]
  },
  {
   "cell_type": "code",
   "execution_count": 71,
   "metadata": {},
   "outputs": [
    {
     "data": {
      "text/plain": [
       "array([[1., 0.],\n",
       "       [0., 1.],\n",
       "       [1., 0.],\n",
       "       ...,\n",
       "       [1., 0.],\n",
       "       [0., 1.],\n",
       "       [1., 0.]], dtype=float32)"
      ]
     },
     "execution_count": 71,
     "metadata": {},
     "output_type": "execute_result"
    }
   ],
   "source": [
    "#target = to_categorical(train_df.record_type)\n",
    "target = to_categorical(ylr)\n",
    "target"
   ]
  },
  {
   "cell_type": "code",
   "execution_count": 72,
   "metadata": {},
   "outputs": [
    {
     "data": {
      "text/plain": [
       "21"
      ]
     },
     "execution_count": 72,
     "metadata": {},
     "output_type": "execute_result"
    }
   ],
   "source": [
    "n_cols = predictors.shape[1]\n",
    "n_cols"
   ]
  },
  {
   "cell_type": "code",
   "execution_count": 73,
   "metadata": {},
   "outputs": [
    {
     "name": "stdout",
     "output_type": "stream",
     "text": [
      "Epoch 1/30\n",
      "12712/12712 [==============================] - 43s 2ms/step - loss: 2.7787 - accuracy: 0.7905 - val_loss: 0.4168 - val_accuracy: 0.8035\n",
      "Epoch 2/30\n",
      "12712/12712 [==============================] - 26s 2ms/step - loss: 0.3580 - accuracy: 0.8520 - val_loss: 0.3324 - val_accuracy: 0.8547\n",
      "Epoch 3/30\n",
      "12712/12712 [==============================] - 28s 2ms/step - loss: 0.3258 - accuracy: 0.8605 - val_loss: 0.3199 - val_accuracy: 0.8636\n",
      "Epoch 4/30\n",
      "12712/12712 [==============================] - 24s 2ms/step - loss: 0.3210 - accuracy: 0.8608 - val_loss: 0.3193 - val_accuracy: 0.8624\n",
      "Epoch 5/30\n",
      "12712/12712 [==============================] - 26s 2ms/step - loss: 0.3190 - accuracy: 0.8610 - val_loss: 0.3297 - val_accuracy: 0.8596\n",
      "Epoch 6/30\n",
      "12712/12712 [==============================] - 25s 2ms/step - loss: 0.3184 - accuracy: 0.8616 - val_loss: 0.3102 - val_accuracy: 0.8642\n",
      "Epoch 7/30\n",
      "12712/12712 [==============================] - 28s 2ms/step - loss: 0.3163 - accuracy: 0.8624 - val_loss: 0.3124 - val_accuracy: 0.8627\n",
      "Epoch 8/30\n",
      "12712/12712 [==============================] - 40s 3ms/step - loss: 0.3160 - accuracy: 0.8625 - val_loss: 0.3168 - val_accuracy: 0.8626\n",
      "Epoch 9/30\n",
      "12712/12712 [==============================] - 30s 2ms/step - loss: 0.3149 - accuracy: 0.8632 - val_loss: 0.3102 - val_accuracy: 0.8642\n",
      "Epoch 10/30\n",
      "12712/12712 [==============================] - 29s 2ms/step - loss: 0.3164 - accuracy: 0.8616 - val_loss: 0.3124 - val_accuracy: 0.8642\n",
      "Epoch 11/30\n",
      "12712/12712 [==============================] - 26s 2ms/step - loss: 0.3151 - accuracy: 0.8624 - val_loss: 0.3106 - val_accuracy: 0.8628\n",
      "Epoch 12/30\n",
      "12712/12712 [==============================] - 32s 3ms/step - loss: 0.3143 - accuracy: 0.8627 - val_loss: 0.3129 - val_accuracy: 0.8618\n",
      "Epoch 13/30\n",
      "12712/12712 [==============================] - 25s 2ms/step - loss: 0.3144 - accuracy: 0.8621 - val_loss: 0.3113 - val_accuracy: 0.8627\n"
     ]
    }
   ],
   "source": [
    "model_1 = Sequential() \n",
    "model_1.add(Dense(100, activation='relu', input_shape = (n_cols,))) \n",
    "model_1.add(Dense(100, activation='relu')) \n",
    "model_1.add(Dense(2, activation='softmax')) \n",
    "model_1.compile(optimizer='adam', loss='categorical_crossentropy', metrics=['accuracy']) \n",
    "\n",
    "# Define early_stopping_monitor\n",
    "early_stopping_monitor = EarlyStopping(patience=4)\n",
    "\n",
    "model_1_training=model_1.fit(predictors, target, validation_split=0.3,epochs=30,callbacks = [early_stopping_monitor])"
   ]
  },
  {
   "cell_type": "code",
   "execution_count": 74,
   "metadata": {},
   "outputs": [
    {
     "name": "stdout",
     "output_type": "stream",
     "text": [
      "Model: \"sequential\"\n",
      "_________________________________________________________________\n",
      "Layer (type)                 Output Shape              Param #   \n",
      "=================================================================\n",
      "dense (Dense)                (None, 100)               2200      \n",
      "_________________________________________________________________\n",
      "dense_1 (Dense)              (None, 100)               10100     \n",
      "_________________________________________________________________\n",
      "dense_2 (Dense)              (None, 2)                 202       \n",
      "=================================================================\n",
      "Total params: 12,502\n",
      "Trainable params: 12,502\n",
      "Non-trainable params: 0\n",
      "_________________________________________________________________\n"
     ]
    }
   ],
   "source": [
    "model_1.summary()"
   ]
  },
  {
   "cell_type": "code",
   "execution_count": 75,
   "metadata": {},
   "outputs": [],
   "source": [
    "early_stopping_monitor = EarlyStopping(patience=2)\n",
    "\n",
    "# The input shape to use in the first hidden layer\n",
    "input_shape = (n_cols,)\n",
    "\n",
    "# Create the new model: model_2\n",
    "model_2 = Sequential()\n",
    "\n",
    "# Add the first, second, and third hidden layers\n",
    "model_2.add(Dense(50, activation='relu', input_shape=input_shape))\n",
    "model_2.add(Dense(50, activation='relu', input_shape=input_shape))\n",
    "model_2.add(Dense(50, activation='relu', input_shape=input_shape))\n",
    "\n",
    "# Add the output layer\n",
    "model_2.add(Dense(2, activation='softmax', input_shape=input_shape))\n",
    "\n",
    "# Compile model_2\n",
    "model_2.compile(optimizer = 'adam', loss = 'categorical_crossentropy', metrics=['accuracy'])\n",
    "\n",
    "# Fit model 2\n",
    "model_2_training = model_2.fit(predictors, target, epochs=20, validation_split=0.4, callbacks=[early_stopping_monitor], verbose=False)\n"
   ]
  },
  {
   "cell_type": "code",
   "execution_count": 76,
   "metadata": {},
   "outputs": [
    {
     "data": {
      "text/plain": [
       "[0.4167742133140564,\n",
       " 0.33243271708488464,\n",
       " 0.3198917508125305,\n",
       " 0.319349080324173,\n",
       " 0.32972535490989685,\n",
       " 0.31021493673324585,\n",
       " 0.31237009167671204,\n",
       " 0.3168453872203827,\n",
       " 0.3101750314235687,\n",
       " 0.3124023675918579,\n",
       " 0.3105998933315277,\n",
       " 0.3128776550292969,\n",
       " 0.31131142377853394]"
      ]
     },
     "execution_count": 76,
     "metadata": {},
     "output_type": "execute_result"
    }
   ],
   "source": [
    "model_1_training.history['val_loss']"
   ]
  },
  {
   "cell_type": "code",
   "execution_count": 77,
   "metadata": {},
   "outputs": [
    {
     "data": {
      "text/plain": [
       "[0.33639922738075256,\n",
       " 0.3703230321407318,\n",
       " 0.316016286611557,\n",
       " 0.33260321617126465,\n",
       " 0.3160054683685303,\n",
       " 0.3157047927379608,\n",
       " 0.30998024344444275,\n",
       " 0.3091699481010437,\n",
       " 0.311969131231308,\n",
       " 0.30903443694114685,\n",
       " 0.3079160749912262,\n",
       " 0.30800387263298035,\n",
       " 0.3115752339363098]"
      ]
     },
     "execution_count": 77,
     "metadata": {},
     "output_type": "execute_result"
    }
   ],
   "source": [
    "model_2_training.history['val_loss']"
   ]
  },
  {
   "cell_type": "code",
   "execution_count": 78,
   "metadata": {},
   "outputs": [
    {
     "data": {
      "image/png": "[encoded data removed]",
      "text/plain": [
       "<Figure size 432x288 with 1 Axes>"
      ]
     },
     "metadata": {},
     "output_type": "display_data"
    }
   ],
   "source": [
    "plt.plot(model_1_training.history['val_loss'], 'r', model_2_training.history['val_loss'], 'b')\n",
    "plt.xlabel('Epochs')\n",
    "plt.ylabel('Validation score')\n",
    "plt.show()\n"
   ]
  },
  {
   "cell_type": "code",
   "execution_count": 79,
   "metadata": {},
   "outputs": [
    {
     "name": "stdout",
     "output_type": "stream",
     "text": [
      "1009/1009 [==============================] - 1s 944us/step\n",
      "              precision    recall  f1-score   support\n",
      "\n",
      "           0       0.87      0.98      0.92     54940\n",
      "           1       0.66      0.17      0.27      9625\n",
      "\n",
      "    accuracy                           0.86     64565\n",
      "   macro avg       0.77      0.58      0.60     64565\n",
      "weighted avg       0.84      0.86      0.83     64565\n",
      "\n"
     ]
    }
   ],
   "source": [
    "# ref - https://datascience.stackexchange.com/questions/45165/how-to-get-accuracy-f1-precision-and-recall-for-a-keras-model\n",
    "\n",
    "y_pred = model_1.predict(Xtestlr, batch_size=64, verbose=1)\n",
    "y_pred_bool = np.argmax(y_pred, axis=1)\n",
    "\n",
    "print(classification_report(ytestlr, y_pred_bool))"
   ]
  },
  {
   "cell_type": "code",
   "execution_count": 80,
   "metadata": {},
   "outputs": [
    {
     "name": "stdout",
     "output_type": "stream",
     "text": [
      "1009/1009 [==============================] - 1s 926us/step\n",
      "              precision    recall  f1-score   support\n",
      "\n",
      "           0       0.87      0.98      0.92     54940\n",
      "           1       0.66      0.17      0.27      9625\n",
      "\n",
      "    accuracy                           0.86     64565\n",
      "   macro avg       0.77      0.58      0.60     64565\n",
      "weighted avg       0.84      0.86      0.83     64565\n",
      "\n"
     ]
    }
   ],
   "source": [
    "y_pred_2 = model_2.predict(Xtestlr, batch_size=64, verbose=1)\n",
    "y_pred_bool_2 = np.argmax(y_pred, axis=1)\n",
    "\n",
    "print(classification_report(ytestlr, y_pred_bool_2))"
   ]
  }
 ],
 "metadata": {
  "kernelspec": {
   "display_name": "Python 3",
   "language": "python",
   "name": "python3"
  },
  "language_info": {
   "codemirror_mode": {
    "name": "ipython",
    "version": 3
   },
   "file_extension": ".py",
   "mimetype": "text/x-python",
   "name": "python",
   "nbconvert_exporter": "python",
   "pygments_lexer": "ipython3",
   "version": "3.7.6"
  }
 },
 "nbformat": 4,
 "nbformat_minor": 4
}
